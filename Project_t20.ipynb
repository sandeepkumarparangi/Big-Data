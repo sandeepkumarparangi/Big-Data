{
  "nbformat": 4,
  "nbformat_minor": 0,
  "metadata": {
    "colab": {
      "provenance": []
    },
    "kernelspec": {
      "name": "python3",
      "display_name": "Python 3"
    },
    "language_info": {
      "name": "python"
    }
  },
  "cells": [
    {
      "cell_type": "markdown",
      "source": [
        "---\n",
        "# **Section A: GOOGLE COLAB SETUP**\n",
        "---"
      ],
      "metadata": {
        "id": "emTtWdiCLl_5"
      }
    },
    {
      "cell_type": "markdown",
      "source": [
        "## **Start Google Colabs - Import Drive**"
      ],
      "metadata": {
        "id": "5hE4A1NsMip2"
      }
    },
    {
      "cell_type": "code",
      "source": [
        "from google.colab import drive"
      ],
      "metadata": {
        "id": "qV_jhgWrM535"
      },
      "execution_count": 1,
      "outputs": []
    },
    {
      "cell_type": "markdown",
      "source": [
        "## **Find Present Working Directory**"
      ],
      "metadata": {
        "id": "J0Hb-PHaOFL4"
      }
    },
    {
      "cell_type": "code",
      "source": [
        "pwd"
      ],
      "metadata": {
        "id": "bDuBTb-7Ol19",
        "colab": {
          "base_uri": "https://localhost:8080/",
          "height": 35
        },
        "outputId": "cc1d7e3b-49ea-485e-e337-72f3326d580a"
      },
      "execution_count": 3,
      "outputs": [
        {
          "output_type": "execute_result",
          "data": {
            "text/plain": [
              "'/content'"
            ],
            "application/vnd.google.colaboratory.intrinsic+json": {
              "type": "string"
            }
          },
          "metadata": {},
          "execution_count": 3
        }
      ]
    },
    {
      "cell_type": "markdown",
      "source": [
        "## ***Find content of Present Working Directory***"
      ],
      "metadata": {
        "id": "R26pKEfmO-vm"
      }
    },
    {
      "cell_type": "code",
      "source": [
        "ls -l"
      ],
      "metadata": {
        "id": "SR5DBNd2O_ws",
        "colab": {
          "base_uri": "https://localhost:8080/"
        },
        "outputId": "d2c8b542-4f6f-490e-e26a-1c243b7b7674"
      },
      "execution_count": 4,
      "outputs": [
        {
          "output_type": "stream",
          "name": "stdout",
          "text": [
            "total 4\n",
            "drwxr-xr-x 1 root root 4096 Oct 31 13:22 \u001b[0m\u001b[01;34msample_data\u001b[0m/\n"
          ]
        }
      ]
    },
    {
      "cell_type": "markdown",
      "source": [
        "---\n",
        "## **Section B: PYSPARK INSTALLATION**\n",
        "---"
      ],
      "metadata": {
        "id": "drL65SVHQ48N"
      }
    },
    {
      "cell_type": "markdown",
      "source": [
        "## ***Install PySpark***"
      ],
      "metadata": {
        "id": "ysCJTnhEQ8p7"
      }
    },
    {
      "cell_type": "code",
      "source": [
        "!pip install pyspark"
      ],
      "metadata": {
        "id": "xX1k_QaCQ92J",
        "colab": {
          "base_uri": "https://localhost:8080/"
        },
        "outputId": "a8b80894-8b93-4d6d-a32f-abaa75db937a"
      },
      "execution_count": 5,
      "outputs": [
        {
          "output_type": "stream",
          "name": "stdout",
          "text": [
            "Collecting pyspark\n",
            "  Downloading pyspark-3.5.0.tar.gz (316.9 MB)\n",
            "\u001b[2K     \u001b[90m━━━━━━━━━━━━━━━━━━━━━━━━━━━━━━━━━━━━━━━━\u001b[0m \u001b[32m316.9/316.9 MB\u001b[0m \u001b[31m4.8 MB/s\u001b[0m eta \u001b[36m0:00:00\u001b[0m\n",
            "\u001b[?25h  Preparing metadata (setup.py) ... \u001b[?25l\u001b[?25hdone\n",
            "Requirement already satisfied: py4j==0.10.9.7 in /usr/local/lib/python3.10/dist-packages (from pyspark) (0.10.9.7)\n",
            "Building wheels for collected packages: pyspark\n",
            "  Building wheel for pyspark (setup.py) ... \u001b[?25l\u001b[?25hdone\n",
            "  Created wheel for pyspark: filename=pyspark-3.5.0-py2.py3-none-any.whl size=317425344 sha256=edd3046aa223d3e1d7f624eb286c0081653c65db6c3d6c07919cb8146fbe2c57\n",
            "  Stored in directory: /root/.cache/pip/wheels/41/4e/10/c2cf2467f71c678cfc8a6b9ac9241e5e44a01940da8fbb17fc\n",
            "Successfully built pyspark\n",
            "Installing collected packages: pyspark\n",
            "Successfully installed pyspark-3.5.0\n"
          ]
        }
      ]
    },
    {
      "cell_type": "markdown",
      "source": [
        "## ***Import Spark Session***"
      ],
      "metadata": {
        "id": "WujStHNcRnv4"
      }
    },
    {
      "cell_type": "code",
      "source": [
        "from pyspark.sql import SparkSession"
      ],
      "metadata": {
        "id": "BWauZf_5Rrex"
      },
      "execution_count": 6,
      "outputs": []
    },
    {
      "cell_type": "markdown",
      "source": [
        "---\n",
        "## **Section C: DATA ANALYSIS USING PYSPARK - CARS DATA**\n",
        "---"
      ],
      "metadata": {
        "id": "w0K8D2lwSxx4"
      }
    },
    {
      "cell_type": "markdown",
      "source": [
        "## ***Create Spark Session***"
      ],
      "metadata": {
        "id": "52rkxXjYS1n1"
      }
    },
    {
      "cell_type": "code",
      "source": [
        "spark = SparkSession.builder.appName(\"spark3\").getOrCreate()"
      ],
      "metadata": {
        "id": "H10xY0eJ2Wze"
      },
      "execution_count": 7,
      "outputs": []
    },
    {
      "cell_type": "markdown",
      "source": [
        "## ***Check if Spark Session Created Successfully***"
      ],
      "metadata": {
        "id": "nMswm7OYUco0"
      }
    },
    {
      "cell_type": "code",
      "source": [
        "spark"
      ],
      "metadata": {
        "id": "xl4fR2C-Ugxo",
        "colab": {
          "base_uri": "https://localhost:8080/",
          "height": 221
        },
        "outputId": "82c30fd9-7ff5-43db-9372-3459e8fcbb6f"
      },
      "execution_count": 8,
      "outputs": [
        {
          "output_type": "execute_result",
          "data": {
            "text/plain": [
              "<pyspark.sql.session.SparkSession at 0x798f66763c70>"
            ],
            "text/html": [
              "\n",
              "            <div>\n",
              "                <p><b>SparkSession - in-memory</b></p>\n",
              "                \n",
              "        <div>\n",
              "            <p><b>SparkContext</b></p>\n",
              "\n",
              "            <p><a href=\"http://775d5798f0fb:4040\">Spark UI</a></p>\n",
              "\n",
              "            <dl>\n",
              "              <dt>Version</dt>\n",
              "                <dd><code>v3.5.0</code></dd>\n",
              "              <dt>Master</dt>\n",
              "                <dd><code>local[*]</code></dd>\n",
              "              <dt>AppName</dt>\n",
              "                <dd><code>spark3</code></dd>\n",
              "            </dl>\n",
              "        </div>\n",
              "        \n",
              "            </div>\n",
              "        "
            ]
          },
          "metadata": {},
          "execution_count": 8
        }
      ]
    },
    {
      "cell_type": "markdown",
      "source": [
        " ## ***Downloading Dataset directly from Web to Colab ***"
      ],
      "metadata": {
        "id": "ccFFChaP6iEI"
      }
    },
    {
      "cell_type": "code",
      "source": [
        "project = spark.read.csv('/content/project-t20.csv',sep=',', inferSchema = True, header=True)\n"
      ],
      "metadata": {
        "id": "MU4tb5glkUom"
      },
      "execution_count": 10,
      "outputs": []
    },
    {
      "cell_type": "markdown",
      "source": [
        "## ***Display Schema***"
      ],
      "metadata": {
        "id": "Xxsu1hmU45vt"
      }
    },
    {
      "cell_type": "code",
      "source": [
        "project.printSchema()"
      ],
      "metadata": {
        "id": "8keVAjln3yoX",
        "colab": {
          "base_uri": "https://localhost:8080/"
        },
        "outputId": "3532b29f-f99a-47f7-a220-091ee29f6327"
      },
      "execution_count": 11,
      "outputs": [
        {
          "output_type": "stream",
          "name": "stdout",
          "text": [
            "root\n",
            " |-- _c0: integer (nullable = true)\n",
            " |-- Player: string (nullable = true)\n",
            " |-- Span: string (nullable = true)\n",
            " |-- Mat: integer (nullable = true)\n",
            " |-- Inns: string (nullable = true)\n",
            " |-- NO: string (nullable = true)\n",
            " |-- Runs: string (nullable = true)\n",
            " |-- HS: string (nullable = true)\n",
            " |-- Ave: string (nullable = true)\n",
            " |-- BF: string (nullable = true)\n",
            " |-- SR: string (nullable = true)\n",
            " |-- 100: string (nullable = true)\n",
            " |-- 50: string (nullable = true)\n",
            " |-- 0: string (nullable = true)\n",
            " |-- 4s: string (nullable = true)\n",
            " |-- 6s: string (nullable = true)\n",
            " |-- Unnamed: 15: string (nullable = true)\n",
            "\n"
          ]
        }
      ]
    },
    {
      "cell_type": "markdown",
      "source": [
        "## ***Display Columns***"
      ],
      "metadata": {
        "id": "CP1LpANSwlT7"
      }
    },
    {
      "cell_type": "code",
      "source": [
        "project.columns"
      ],
      "metadata": {
        "id": "zNrFiEy2wsLk",
        "colab": {
          "base_uri": "https://localhost:8080/"
        },
        "outputId": "56e08cf3-b143-490d-ab9f-01d49ea7cc62"
      },
      "execution_count": 13,
      "outputs": [
        {
          "output_type": "execute_result",
          "data": {
            "text/plain": [
              "['_c0',\n",
              " 'Player',\n",
              " 'Span',\n",
              " 'Mat',\n",
              " 'Inns',\n",
              " 'NO',\n",
              " 'Runs',\n",
              " 'HS',\n",
              " 'Ave',\n",
              " 'BF',\n",
              " 'SR',\n",
              " '100',\n",
              " '50',\n",
              " '0',\n",
              " '4s',\n",
              " '6s',\n",
              " 'Unnamed: 15']"
            ]
          },
          "metadata": {},
          "execution_count": 13
        }
      ]
    },
    {
      "cell_type": "markdown",
      "source": [
        "## ***Display Data Types***"
      ],
      "metadata": {
        "id": "f0qIi18DwvqM"
      }
    },
    {
      "cell_type": "code",
      "source": [
        "project.dtypes"
      ],
      "metadata": {
        "id": "-ZUdz3mbwyRE",
        "colab": {
          "base_uri": "https://localhost:8080/"
        },
        "outputId": "150cd21a-ca07-4722-8115-e2f1277f191f"
      },
      "execution_count": 14,
      "outputs": [
        {
          "output_type": "execute_result",
          "data": {
            "text/plain": [
              "[('_c0', 'int'),\n",
              " ('Player', 'string'),\n",
              " ('Span', 'string'),\n",
              " ('Mat', 'int'),\n",
              " ('Inns', 'string'),\n",
              " ('NO', 'string'),\n",
              " ('Runs', 'string'),\n",
              " ('HS', 'string'),\n",
              " ('Ave', 'string'),\n",
              " ('BF', 'string'),\n",
              " ('SR', 'string'),\n",
              " ('100', 'string'),\n",
              " ('50', 'string'),\n",
              " ('0', 'string'),\n",
              " ('4s', 'string'),\n",
              " ('6s', 'string'),\n",
              " ('Unnamed: 15', 'string')]"
            ]
          },
          "metadata": {},
          "execution_count": 14
        }
      ]
    },
    {
      "cell_type": "markdown",
      "source": [
        "## ***Spark SQL - Register Temporary Table - cars***"
      ],
      "metadata": {
        "id": "2yqAF6MO3RBC"
      }
    },
    {
      "cell_type": "code",
      "source": [
        "project.createOrReplaceTempView(\"t20\")"
      ],
      "metadata": {
        "id": "4WZesBvt3Non"
      },
      "execution_count": 15,
      "outputs": []
    },
    {
      "cell_type": "markdown",
      "source": [
        "## ***Spark SQL - Select sample data from cars table***"
      ],
      "metadata": {
        "id": "RcNzPMyH3lXY"
      }
    },
    {
      "cell_type": "code",
      "source": [
        "spark.sql(\"select * from t20 limit 5\").show()"
      ],
      "metadata": {
        "id": "LpZOeRz33-LJ",
        "colab": {
          "base_uri": "https://localhost:8080/"
        },
        "outputId": "e5bc44ac-29a1-410f-9cf9-b6332be6df5d"
      },
      "execution_count": 16,
      "outputs": [
        {
          "output_type": "stream",
          "name": "stdout",
          "text": [
            "+---+--------------------+---------+---+----+---+----+---+-----+----+------+---+---+---+---+---+-----------+\n",
            "|_c0|              Player|     Span|Mat|Inns| NO|Runs| HS|  Ave|  BF|    SR|100| 50|  0| 4s| 6s|Unnamed: 15|\n",
            "+---+--------------------+---------+---+----+---+----+---+-----+----+------+---+---+---+---+---+-----------+\n",
            "|  0|     V Kohli (INDIA)|2010-2019| 75|  70| 20|2633|94*|52.66|1907|138.07|  0| 24|  2|247| 71|       NULL|\n",
            "|  1|   RG Sharma (INDIA)|2007-2019|104|  96| 14|2633|118| 32.1|1905|138.21|  4| 19|  6|234|120|       NULL|\n",
            "|  2|     MJ Guptill (NZ)|2009-2019| 83|  80|  7|2436|105|33.36|1810|134.58|  2| 15|  2|215|113|       NULL|\n",
            "|  3|Shoaib Malik (ICC...|2006-2019|111| 104| 30|2263| 75|30.58|1824|124.06|  0|  7|  1|186| 61|       NULL|\n",
            "|  4|    BB McCullum (NZ)|2005-2015| 71|  70| 10|2140|123|35.66|1571|136.21|  2| 13|  3|199| 91|       NULL|\n",
            "+---+--------------------+---------+---+----+---+----+---+-----+----+------+---+---+---+---+---+-----------+\n",
            "\n"
          ]
        }
      ]
    },
    {
      "cell_type": "markdown",
      "source": [
        "## ***Spark SQL - Select count from cars table***"
      ],
      "metadata": {
        "id": "WZNWip7s31wv"
      }
    },
    {
      "cell_type": "code",
      "source": [
        "spark.sql(\"select count(*) as total_count from t20\").show()"
      ],
      "metadata": {
        "id": "jjWNEc2J38FD",
        "colab": {
          "base_uri": "https://localhost:8080/"
        },
        "outputId": "0c4d0e80-67d6-4961-fb0a-dbe01ad8abc7"
      },
      "execution_count": 17,
      "outputs": [
        {
          "output_type": "stream",
          "name": "stdout",
          "text": [
            "+-----------+\n",
            "|total_count|\n",
            "+-----------+\n",
            "|       2006|\n",
            "+-----------+\n",
            "\n"
          ]
        }
      ]
    },
    {
      "cell_type": "markdown",
      "source": [
        "## ***Display Sample Rows from data file***"
      ],
      "metadata": {
        "id": "kADQ3TUsXnIn"
      }
    },
    {
      "cell_type": "code",
      "source": [
        "project.show(10)"
      ],
      "metadata": {
        "id": "IOAeSu_UXqgA",
        "colab": {
          "base_uri": "https://localhost:8080/"
        },
        "outputId": "fcd4168e-2bef-4903-bae6-89f427226d22"
      },
      "execution_count": 18,
      "outputs": [
        {
          "output_type": "stream",
          "name": "stdout",
          "text": [
            "+---+--------------------+---------+---+----+---+----+----+-----+----+------+---+---+---+---+---+-----------+\n",
            "|_c0|              Player|     Span|Mat|Inns| NO|Runs|  HS|  Ave|  BF|    SR|100| 50|  0| 4s| 6s|Unnamed: 15|\n",
            "+---+--------------------+---------+---+----+---+----+----+-----+----+------+---+---+---+---+---+-----------+\n",
            "|  0|     V Kohli (INDIA)|2010-2019| 75|  70| 20|2633| 94*|52.66|1907|138.07|  0| 24|  2|247| 71|       NULL|\n",
            "|  1|   RG Sharma (INDIA)|2007-2019|104|  96| 14|2633| 118| 32.1|1905|138.21|  4| 19|  6|234|120|       NULL|\n",
            "|  2|     MJ Guptill (NZ)|2009-2019| 83|  80|  7|2436| 105|33.36|1810|134.58|  2| 15|  2|215|113|       NULL|\n",
            "|  3|Shoaib Malik (ICC...|2006-2019|111| 104| 30|2263|  75|30.58|1824|124.06|  0|  7|  1|186| 61|       NULL|\n",
            "|  4|    BB McCullum (NZ)|2005-2015| 71|  70| 10|2140| 123|35.66|1571|136.21|  2| 13|  3|199| 91|       NULL|\n",
            "|  5|     DA Warner (AUS)|2009-2019| 76|  76|  8|2079|100*|30.57|1476|140.85|  1| 15|  5|203| 86|       NULL|\n",
            "|  6|    EJG Morgan (ENG)|2009-2019| 86|  84| 17|2002|  91|29.88|1475|135.72|  0| 11|  3|151| 96|       NULL|\n",
            "|  7|Mohammad Shahzad ...|2010-2018| 65|  65|  3|1936|118*|31.22|1436|134.81|  1| 12|  3|218| 72|       NULL|\n",
            "|  8|      JP Duminy (SA)|2007-2019| 81|  75| 25|1934| 96*|38.68|1532|126.24|  0| 11|  6|138| 71|       NULL|\n",
            "|  9|   PR Stirling (IRE)|2009-2019| 72|  71|  6|1929|  91|29.67|1401|137.68|  0| 16|  8|233| 59|       NULL|\n",
            "+---+--------------------+---------+---+----+---+----+----+-----+----+------+---+---+---+---+---+-----------+\n",
            "only showing top 10 rows\n",
            "\n"
          ]
        }
      ]
    },
    {
      "cell_type": "markdown",
      "source": [
        "## ***Count total number of records in data file***"
      ],
      "metadata": {
        "id": "5QjBIllXYGOl"
      }
    },
    {
      "cell_type": "code",
      "source": [
        "project.count()"
      ],
      "metadata": {
        "id": "Jk3cvDbqYG7P",
        "colab": {
          "base_uri": "https://localhost:8080/"
        },
        "outputId": "debc0664-b75b-4a5d-bfc9-0ae2615b664d"
      },
      "execution_count": 19,
      "outputs": [
        {
          "output_type": "execute_result",
          "data": {
            "text/plain": [
              "2006"
            ]
          },
          "metadata": {},
          "execution_count": 19
        }
      ]
    },
    {
      "cell_type": "markdown",
      "source": [
        "## ***Get Record Count by Origin***"
      ],
      "metadata": {
        "id": "4kECO3XUoG7M"
      }
    },
    {
      "cell_type": "code",
      "source": [
        "project.groupBy(\"100\").count().show()"
      ],
      "metadata": {
        "id": "28ALp_c4nORx",
        "colab": {
          "base_uri": "https://localhost:8080/"
        },
        "outputId": "d9224b0e-a2fc-45b4-b7b5-e1aec079e5dd"
      },
      "execution_count": 23,
      "outputs": [
        {
          "output_type": "stream",
          "name": "stdout",
          "text": [
            "+---+-----+\n",
            "|100|count|\n",
            "+---+-----+\n",
            "|  3|    2|\n",
            "|  0| 1812|\n",
            "|  -|  152|\n",
            "|  1|   33|\n",
            "|  4|    1|\n",
            "|  2|    6|\n",
            "+---+-----+\n",
            "\n"
          ]
        }
      ]
    },
    {
      "cell_type": "markdown",
      "source": [
        "## ***Filter data and create new dataframes***"
      ],
      "metadata": {
        "id": "9YC3sXY9oSEo"
      }
    },
    {
      "cell_type": "markdown",
      "source": [
        "## ***New dataframe - For US***"
      ],
      "metadata": {
        "id": "2DuUtOs3ol9q"
      }
    },
    {
      "cell_type": "code",
      "source": [
        "project_Span= project.filter((project.Span == \"2010-2019\"))"
      ],
      "metadata": {
        "id": "ESoDm8xr-Sgb"
      },
      "execution_count": 25,
      "outputs": []
    },
    {
      "cell_type": "markdown",
      "source": [
        "## ***Display Sample Rows from US dataframe***"
      ],
      "metadata": {
        "id": "rmbzVPVVpI3t"
      }
    },
    {
      "cell_type": "code",
      "source": [
        "project_Span.show(10)"
      ],
      "metadata": {
        "id": "RMBQBvb6pNzD",
        "colab": {
          "base_uri": "https://localhost:8080/"
        },
        "outputId": "bb602395-2427-4233-e460-83f6c5d82c2d"
      },
      "execution_count": 27,
      "outputs": [
        {
          "output_type": "stream",
          "name": "stdout",
          "text": [
            "+---+--------------------+---------+---+----+---+----+----+-----+----+------+---+---+---+---+---+-----------+\n",
            "|_c0|              Player|     Span|Mat|Inns| NO|Runs|  HS|  Ave|  BF|    SR|100| 50|  0| 4s| 6s|Unnamed: 15|\n",
            "+---+--------------------+---------+---+----+---+----+----+-----+----+------+---+---+---+---+---+-----------+\n",
            "|  0|     V Kohli (INDIA)|2010-2019| 75|  70| 20|2633| 94*|52.66|1907|138.07|  0| 24|  2|247| 71|       NULL|\n",
            "| 38| Mohammad Nabi (AFG)|2010-2019| 75|  70| 11|1316|  89| 22.3| 902|145.89|  0|  4|  4| 83| 78|       NULL|\n",
            "| 39|DA Miller (SA/World)|2010-2019| 72|  62| 18|1309|101*|29.75| 935| 140.0|  1|  2|  0| 91| 57|       NULL|\n",
            "| 48|NLTC Perera (ICC/...|2010-2019| 79|  70| 21|1169|  61|23.85| 767|152.41|  0|  3|  8| 87| 62|       NULL|\n",
            "| 49| Asghar Afghan (AFG)|2010-2019| 66|  60|  4|1167|  62|20.83|1102|105.89|  0|  3|  4| 69| 58|       NULL|\n",
            "| 11|Samiullah Shinwar...|2010-2019| 62|  55| 10| 985|  61|21.88| 829|118.81|  0|  2|  2| 73| 37|       NULL|\n",
            "| 24|Sarfaraz Ahmed (PAK)|2010-2019| 58|  41| 12| 812| 89*| 28.0| 641|126.67|  0|  3|  2| 79| 15|       NULL|\n",
            "| 13|     SPD Smith (AUS)|2010-2019| 36|  28|  7| 577|  90|27.47| 448|128.79|  0|  4|  1| 53| 12|       NULL|\n",
            "| 30|   Shafiqullah (AFG)|2010-2019| 46|  42| 12| 494| 51*|16.46| 340|145.29|  0|  1|  5| 35| 31|       NULL|\n",
            "| 45|     CR Ervine (ZIM)|2010-2019| 22|  21|  1| 461| 68*|23.05| 454|101.54|  0|  3|  1| 43| 13|       NULL|\n",
            "+---+--------------------+---------+---+----+---+----+----+-----+----+------+---+---+---+---+---+-----------+\n",
            "only showing top 10 rows\n",
            "\n"
          ]
        }
      ]
    },
    {
      "cell_type": "markdown",
      "source": [
        "## ***Display Record count from US dataframe***"
      ],
      "metadata": {
        "id": "QRgK-_6vvfYG"
      }
    },
    {
      "cell_type": "code",
      "source": [
        "project_Span.count()"
      ],
      "metadata": {
        "id": "AMxdLmPlvnG8",
        "colab": {
          "base_uri": "https://localhost:8080/"
        },
        "outputId": "583d6bdd-15d6-4fc6-d7ff-372b60fc2ca5"
      },
      "execution_count": 28,
      "outputs": [
        {
          "output_type": "execute_result",
          "data": {
            "text/plain": [
              "16"
            ]
          },
          "metadata": {},
          "execution_count": 28
        }
      ]
    },
    {
      "cell_type": "markdown",
      "source": [
        "## ***New dataframe - For Europe***"
      ],
      "metadata": {
        "id": "v4-ntssJotXA"
      }
    },
    {
      "cell_type": "code",
      "source": [
        "project_span05_15 = project.filter((project.Span == \"2005-2015\"))"
      ],
      "metadata": {
        "id": "t6jiurTho3WJ"
      },
      "execution_count": 29,
      "outputs": []
    },
    {
      "cell_type": "markdown",
      "source": [
        "## ***Display Sample Rows from Europe dataframe***"
      ],
      "metadata": {
        "id": "h0bzTKFnpSNi"
      }
    },
    {
      "cell_type": "code",
      "source": [
        "project_span05_15.show(10)"
      ],
      "metadata": {
        "id": "Jnz3fMB9pXCq",
        "colab": {
          "base_uri": "https://localhost:8080/"
        },
        "outputId": "922adefa-b0b0-4858-c88a-d135da42540b"
      },
      "execution_count": 30,
      "outputs": [
        {
          "output_type": "stream",
          "name": "stdout",
          "text": [
            "+---+----------------+---------+---+----+---+----+---+-----+----+------+---+---+---+---+---+-----------+\n",
            "|_c0|          Player|     Span|Mat|Inns| NO|Runs| HS|  Ave|  BF|    SR|100| 50|  0| 4s| 6s|Unnamed: 15|\n",
            "+---+----------------+---------+---+----+---+----+---+-----+----+------+---+---+---+---+---+-----------+\n",
            "|  4|BB McCullum (NZ)|2005-2015| 71|  70| 10|2140|123|35.66|1571|136.21|  2| 13|  3|199| 91|       NULL|\n",
            "| 15|  JA Morkel (SA)|2005-2015| 50|  38| 11| 572| 43|21.18| 402|142.28|  0|  0|  1| 29| 39|       NULL|\n",
            "+---+----------------+---------+---+----+---+----+---+-----+----+------+---+---+---+---+---+-----------+\n",
            "\n"
          ]
        }
      ]
    },
    {
      "cell_type": "markdown",
      "source": [
        "## ***Display Record count from Europe dataframe***"
      ],
      "metadata": {
        "id": "86J5Ld8CvrJP"
      }
    },
    {
      "cell_type": "code",
      "source": [
        "project_span05_15.count()"
      ],
      "metadata": {
        "id": "nxsRRIg0vvKt",
        "colab": {
          "base_uri": "https://localhost:8080/"
        },
        "outputId": "0af7913e-5cee-4615-b183-2b511c45d0d4"
      },
      "execution_count": 31,
      "outputs": [
        {
          "output_type": "execute_result",
          "data": {
            "text/plain": [
              "2"
            ]
          },
          "metadata": {},
          "execution_count": 31
        }
      ]
    },
    {
      "cell_type": "markdown",
      "source": [
        "## ***Merge Dataframes - Using Union***\n",
        "CASE 1: Union When columns are in order\n",
        "\n"
      ],
      "metadata": {
        "id": "AZKeLUyPzWLm"
      }
    },
    {
      "cell_type": "code",
      "source": [
        "project_new = ( project_Span.union(project_span05_15))"
      ],
      "metadata": {
        "id": "uxeBEyA30Ov6"
      },
      "execution_count": 32,
      "outputs": []
    },
    {
      "cell_type": "markdown",
      "source": [
        "## ***Display Record count after merging 3 dataframes***"
      ],
      "metadata": {
        "id": "gvRwnm1y0pmb"
      }
    },
    {
      "cell_type": "code",
      "source": [
        "project_new.count()"
      ],
      "metadata": {
        "id": "zxJ_K5pM0ud7",
        "colab": {
          "base_uri": "https://localhost:8080/"
        },
        "outputId": "fb0454a6-71b8-4b4f-c444-4e77a1fed551"
      },
      "execution_count": 33,
      "outputs": [
        {
          "output_type": "execute_result",
          "data": {
            "text/plain": [
              "18"
            ]
          },
          "metadata": {},
          "execution_count": 33
        }
      ]
    },
    {
      "cell_type": "markdown",
      "source": [
        "## ***Display Record count of original dataframe - cars.csv***"
      ],
      "metadata": {
        "id": "m02Wxvkb1BmD"
      }
    },
    {
      "cell_type": "code",
      "source": [
        "project.count()"
      ],
      "metadata": {
        "id": "8SWtcTOY1JaY",
        "colab": {
          "base_uri": "https://localhost:8080/"
        },
        "outputId": "d51ec9a7-2dc2-4eb0-f698-d31025659a52"
      },
      "execution_count": 34,
      "outputs": [
        {
          "output_type": "execute_result",
          "data": {
            "text/plain": [
              "2006"
            ]
          },
          "metadata": {},
          "execution_count": 34
        }
      ]
    },
    {
      "cell_type": "markdown",
      "source": [
        "## ***Merge Dataframes - Using UnionByName***\n",
        "CASE 2: Union When columns are NOT in order"
      ],
      "metadata": {
        "id": "VxtrPIe21Xx2"
      }
    },
    {
      "cell_type": "markdown",
      "source": [
        "## ***Display list of columns - before removal***"
      ],
      "metadata": {
        "id": "csgVWW5KyzHN"
      }
    },
    {
      "cell_type": "code",
      "source": [
        "project.columns"
      ],
      "metadata": {
        "id": "HYxhO4AIywFo",
        "colab": {
          "base_uri": "https://localhost:8080/"
        },
        "outputId": "9b1cfac2-fc45-4b91-9d1c-207c3fa47f45"
      },
      "execution_count": 38,
      "outputs": [
        {
          "output_type": "execute_result",
          "data": {
            "text/plain": [
              "['_c0',\n",
              " 'Player',\n",
              " 'Span',\n",
              " 'Mat',\n",
              " 'Inns',\n",
              " 'NO',\n",
              " 'Runs',\n",
              " 'HS',\n",
              " 'Ave',\n",
              " 'SR',\n",
              " '100',\n",
              " '50',\n",
              " '0',\n",
              " '4s',\n",
              " '6s',\n",
              " 'Unnamed: 15']"
            ]
          },
          "metadata": {},
          "execution_count": 38
        }
      ]
    },
    {
      "cell_type": "markdown",
      "source": [
        "## ***Removing one Column***"
      ],
      "metadata": {
        "id": "D7TE_MabyDZS"
      }
    },
    {
      "cell_type": "code",
      "source": [
        "project = project.drop('BF')"
      ],
      "metadata": {
        "id": "Nrq4ashpyU0q"
      },
      "execution_count": 37,
      "outputs": []
    },
    {
      "cell_type": "markdown",
      "source": [
        "## ***Removing multiple Columns***"
      ],
      "metadata": {
        "id": "1mrzpmJ1yM_Y"
      }
    },
    {
      "cell_type": "code",
      "source": [
        "project1 = project.drop('Runs').drop('SR')"
      ],
      "metadata": {
        "id": "Z1qoNONWyZte"
      },
      "execution_count": 41,
      "outputs": []
    },
    {
      "cell_type": "markdown",
      "source": [
        "## ***Display list of columns - after removal***"
      ],
      "metadata": {
        "id": "rxDq-r91y7iH"
      }
    },
    {
      "cell_type": "code",
      "source": [
        "project1.columns"
      ],
      "metadata": {
        "id": "6rjg7ljDy9aZ",
        "colab": {
          "base_uri": "https://localhost:8080/"
        },
        "outputId": "418134b8-66f0-4fb2-b53a-397b0d1069c3"
      },
      "execution_count": 42,
      "outputs": [
        {
          "output_type": "execute_result",
          "data": {
            "text/plain": [
              "['_c0',\n",
              " 'Player',\n",
              " 'Span',\n",
              " 'Mat',\n",
              " 'Inns',\n",
              " 'NO',\n",
              " 'HS',\n",
              " 'Ave',\n",
              " '100',\n",
              " '50',\n",
              " '0',\n",
              " '4s',\n",
              " '6s',\n",
              " 'Unnamed: 15']"
            ]
          },
          "metadata": {},
          "execution_count": 42
        }
      ]
    },
    {
      "cell_type": "markdown",
      "source": [
        "---\n",
        "## **Section D: DATA ANALYSIS USING PYSPARK SQL - TABLE JOINS**\n",
        "---"
      ],
      "metadata": {
        "id": "gXoM4APr_AqG"
      }
    },
    {
      "cell_type": "markdown",
      "source": [
        "## ***Create Employee Data***"
      ],
      "metadata": {
        "id": "KG51cn_s6hGr"
      }
    },
    {
      "cell_type": "code",
      "source": [
        "project_odi = spark.read.csv('/content/ODI data.csv',sep=',', inferSchema = True, header=True)"
      ],
      "metadata": {
        "id": "cuLA1BnL6kYK"
      },
      "execution_count": 50,
      "outputs": []
    },
    {
      "cell_type": "markdown",
      "source": [
        "## ***PySpark - FULL Join Employee and Department Data***"
      ],
      "metadata": {
        "id": "I8raPKuZ8FtT"
      }
    },
    {
      "cell_type": "code",
      "source": [
        "project_odi.join(project, (project_odi[\"100\"] == project[\"100\"])).show()"
      ],
      "metadata": {
        "id": "PX3ScWWv8M9_",
        "colab": {
          "base_uri": "https://localhost:8080/"
        },
        "outputId": "4808dde5-2ea4-42d2-caad-1e675ccb470f"
      },
      "execution_count": 51,
      "outputs": [
        {
          "output_type": "stream",
          "name": "stdout",
          "text": [
            "+---+----------------+---------+---+----+---+----+----+-----+----+-----+---+---+---+-----------+---+-----------------+---------+---+----+---+----+----+-----+------+---+---+---+---+---+-----------+\n",
            "|_c0|          Player|     Span|Mat|Inns| NO|Runs|  HS|  Ave|  BF|   SR|100| 50|  0|Unnamed: 13|_c0|           Player|     Span|Mat|Inns| NO|Runs|  HS|  Ave|    SR|100| 50|  0| 4s| 6s|Unnamed: 15|\n",
            "+---+----------------+---------+---+----+---+----+----+-----+----+-----+---+---+---+-----------+---+-----------------+---------+---+----+---+----+----+-----+------+---+---+---+---+---+-----------+\n",
            "| 33|  SR Waugh (AUS)|1986-2002|325| 288| 58|7569|120*| 32.9|9971|75.91|  3| 45| 15|       NULL| 25|     C Munro (NZ)|2012-2019| 60|  57|  7|1546|109*|30.92|160.04|  3|  9|  5|114|100|       NULL|\n",
            "| 33|  SR Waugh (AUS)|1986-2002|325| 288| 58|7569|120*| 32.9|9971|75.91|  3| 45| 15|       NULL| 23| GJ Maxwell (AUS)|2012-2019| 61|  54|  9|1576|145*|35.02| 160.0|  3|  7|  1|133| 81|       NULL|\n",
            "| 35|A Ranatunga (SL)|1982-1999|269| 255| 47|7456|131*|35.84|9571| 77.9|  4| 49| 18|       NULL|  1|RG Sharma (INDIA)|2007-2019|104|  96| 14|2633| 118| 32.1|138.21|  4| 19|  6|234|120|       NULL|\n",
            "| 46|  A Flower (ZIM)|1992-2003|213| 208| 16|6786| 145|35.34|9097|74.59|  4| 55| 13|       NULL|  1|RG Sharma (INDIA)|2007-2019|104|  96| 14|2633| 118| 32.1|138.21|  4| 19|  6|234|120|       NULL|\n",
            "|  2| AR Border (AUS)|1979-1994|273| 252| 39|6524|127*|30.62|9134|71.42|  3| 39| 11|       NULL| 25|     C Munro (NZ)|2012-2019| 60|  57|  7|1546|109*|30.92|160.04|  3|  9|  5|114|100|       NULL|\n",
            "|  2| AR Border (AUS)|1979-1994|273| 252| 39|6524|127*|30.62|9134|71.42|  3| 39| 11|       NULL| 23| GJ Maxwell (AUS)|2012-2019| 61|  54|  9|1576|145*|35.02| 160.0|  3|  7|  1|133| 81|       NULL|\n",
            "| 12|  JN Rhodes (SA)|1992-2003|245| 220| 51|5935| 121|35.11|7336| 80.9|  2| 33| 12|       NULL| 21|     E Lewis (WI)|2016-2019| 29|  28|  1| 833|125*|30.85|153.12|  2|  5|  3| 54| 67|       NULL|\n",
            "| 12|  JN Rhodes (SA)|1992-2003|245| 220| 51|5935| 121|35.11|7336| 80.9|  2| 33| 12|       NULL|  1| KL Rahul (INDIA)|2016-2019| 34|  31|  5|1138|110*|43.76|146.46|  2|  8|  1|102| 50|       NULL|\n",
            "| 12|  JN Rhodes (SA)|1992-2003|245| 220| 51|5935| 121|35.11|7336| 80.9|  2| 33| 12|       NULL| 18|    CH Gayle (WI)|2006-2019| 58|  54|  4|1627| 117|32.54|142.84|  2| 13|  3|138|105|       NULL|\n",
            "| 12|  JN Rhodes (SA)|1992-2003|245| 220| 51|5935| 121|35.11|7336| 80.9|  2| 33| 12|       NULL| 12|   AJ Finch (AUS)|2011-2019| 58|  58|  9|1878| 172|38.32| 156.5|  2| 11|  4|182| 90|       NULL|\n",
            "| 12|  JN Rhodes (SA)|1992-2003|245| 220| 51|5935| 121|35.11|7336| 80.9|  2| 33| 12|       NULL|  4| BB McCullum (NZ)|2005-2015| 71|  70| 10|2140| 123|35.66|136.21|  2| 13|  3|199| 91|       NULL|\n",
            "| 12|  JN Rhodes (SA)|1992-2003|245| 220| 51|5935| 121|35.11|7336| 80.9|  2| 33| 12|       NULL|  2|  MJ Guptill (NZ)|2009-2019| 83|  80|  7|2436| 105|33.36|134.58|  2| 15|  2|215|113|       NULL|\n",
            "| 15| AD Mathews (SL)|2008-2019|214| 184| 48|5812|139*|42.73|6974|83.33|  3| 40| 15|       NULL| 25|     C Munro (NZ)|2012-2019| 60|  57|  7|1546|109*|30.92|160.04|  3|  9|  5|114|100|       NULL|\n",
            "| 15| AD Mathews (SL)|2008-2019|214| 184| 48|5812|139*|42.73|6974|83.33|  3| 40| 15|       NULL| 23| GJ Maxwell (AUS)|2012-2019| 61|  54|  9|1576|145*|35.02| 160.0|  3|  7|  1|133| 81|       NULL|\n",
            "| 22|  WJ Cronje (SA)|1992-2000|188| 175| 31|5565| 112|38.64|7277|76.47|  2| 39|  8|       NULL| 21|     E Lewis (WI)|2016-2019| 29|  28|  1| 833|125*|30.85|153.12|  2|  5|  3| 54| 67|       NULL|\n",
            "| 22|  WJ Cronje (SA)|1992-2000|188| 175| 31|5565| 112|38.64|7277|76.47|  2| 39|  8|       NULL|  1| KL Rahul (INDIA)|2016-2019| 34|  31|  5|1138|110*|43.76|146.46|  2|  8|  1|102| 50|       NULL|\n",
            "| 22|  WJ Cronje (SA)|1992-2000|188| 175| 31|5565| 112|38.64|7277|76.47|  2| 39|  8|       NULL| 18|    CH Gayle (WI)|2006-2019| 58|  54|  4|1627| 117|32.54|142.84|  2| 13|  3|138|105|       NULL|\n",
            "| 22|  WJ Cronje (SA)|1992-2000|188| 175| 31|5565| 112|38.64|7277|76.47|  2| 39|  8|       NULL| 12|   AJ Finch (AUS)|2011-2019| 58|  58|  9|1878| 172|38.32| 156.5|  2| 11|  4|182| 90|       NULL|\n",
            "| 22|  WJ Cronje (SA)|1992-2000|188| 175| 31|5565| 112|38.64|7277|76.47|  2| 39|  8|       NULL|  4| BB McCullum (NZ)|2005-2015| 71|  70| 10|2140| 123|35.66|136.21|  2| 13|  3|199| 91|       NULL|\n",
            "| 22|  WJ Cronje (SA)|1992-2000|188| 175| 31|5565| 112|38.64|7277|76.47|  2| 39|  8|       NULL|  2|  MJ Guptill (NZ)|2009-2019| 83|  80|  7|2436| 105|33.36|134.58|  2| 15|  2|215|113|       NULL|\n",
            "+---+----------------+---------+---+----+---+----+----+-----+----+-----+---+---+---+-----------+---+-----------------+---------+---+----+---+----+----+-----+------+---+---+---+---+---+-----------+\n",
            "only showing top 20 rows\n",
            "\n"
          ]
        }
      ]
    },
    {
      "cell_type": "markdown",
      "source": [
        "## ***PySpark - LEFT Join Department and Employee Data***"
      ],
      "metadata": {
        "id": "jI_223psBDp6"
      }
    },
    {
      "cell_type": "code",
      "source": [
        "project_leftjoin = project_odi.join(project, on=[project_odi.Player==project.Player], how='left')"
      ],
      "metadata": {
        "id": "0lQQnVHiBUBu"
      },
      "execution_count": 52,
      "outputs": []
    },
    {
      "cell_type": "code",
      "source": [
        "project_leftjoin.show()"
      ],
      "metadata": {
        "id": "v3diaNqtBgep",
        "colab": {
          "base_uri": "https://localhost:8080/"
        },
        "outputId": "f8bec066-1399-44de-d4d3-be972654db12"
      },
      "execution_count": 53,
      "outputs": [
        {
          "output_type": "stream",
          "name": "stdout",
          "text": [
            "+---+--------------------+---------+---+----+---+-----+----+-----+-----+------+---+---+---+-----------+----+--------------------+---------+----+----+----+----+----+-----+------+----+----+----+----+----+-----------+\n",
            "|_c0|              Player|     Span|Mat|Inns| NO| Runs|  HS|  Ave|   BF|    SR|100| 50|  0|Unnamed: 13| _c0|              Player|     Span| Mat|Inns|  NO|Runs|  HS|  Ave|    SR| 100|  50|   0|  4s|  6s|Unnamed: 15|\n",
            "+---+--------------------+---------+---+----+---+-----+----+-----+-----+------+---+---+---+-----------+----+--------------------+---------+----+----+----+----+----+-----+------+----+----+----+----+----+-----------+\n",
            "|  0|SR Tendulkar (INDIA)|1989-2012|463| 452| 41|18426|200*|44.83|21367| 86.23| 49| 96| 20|       NULL|  31|SR Tendulkar (INDIA)|2006-2006|   1|   1|   0|  10|  10|10.00| 83.33|   0|   0|   0|   2|   0|       NULL|\n",
            "|  1|KC Sangakkara (As...|2000-2015|404| 380| 41|14234| 169|41.98|18048| 78.86| 25| 93| 15|       NULL|NULL|                NULL|     NULL|NULL|NULL|NULL|NULL|NULL| NULL|  NULL|NULL|NULL|NULL|NULL|NULL|       NULL|\n",
            "|  2|RT Ponting (AUS/ICC)|1995-2012|375| 365| 39|13704| 164|42.03|17046| 80.39| 30| 82| 20|       NULL|NULL|                NULL|     NULL|NULL|NULL|NULL|NULL|NULL| NULL|  NULL|NULL|NULL|NULL|NULL|NULL|       NULL|\n",
            "|  3|ST Jayasuriya (As...|1989-2011|445| 433| 18|13430| 189|32.36|14725|  91.2| 28| 68| 34|       NULL|NULL|                NULL|     NULL|NULL|NULL|NULL|NULL|NULL| NULL|  NULL|NULL|NULL|NULL|NULL|NULL|       NULL|\n",
            "|  4|DPMD Jayawardene ...|1998-2015|448| 418| 39|12650| 144|33.37|16020| 78.96| 19| 77| 28|       NULL|NULL|                NULL|     NULL|NULL|NULL|NULL|NULL|NULL| NULL|  NULL|NULL|NULL|NULL|NULL|NULL|       NULL|\n",
            "|  5|Inzamam-ul-Haq (A...|1991-2007|378| 350| 53|11739|137*|39.52|15812| 74.24| 10| 83| 20|       NULL|NULL|                NULL|     NULL|NULL|NULL|NULL|NULL|NULL| NULL|  NULL|NULL|NULL|NULL|NULL|NULL|       NULL|\n",
            "|  6|     V Kohli (INDIA)|2008-2019|242| 233| 39|11609| 183|59.84|12445| 93.28| 43| 55| 13|       NULL|   0|     V Kohli (INDIA)|2010-2019|  75|  70|  20|2633| 94*|52.66|138.07|   0|  24|   2| 247|  71|       NULL|\n",
            "|  7|JH Kallis (Afr/IC...|1996-2014|328| 314| 53|11579| 139|44.36|15885| 72.89| 17| 86| 17|       NULL|NULL|                NULL|     NULL|NULL|NULL|NULL|NULL|NULL| NULL|  NULL|NULL|NULL|NULL|NULL|NULL|       NULL|\n",
            "|  8|SC Ganguly (Asia/...|1992-2007|311| 300| 23|11363| 183|41.02|15416|  73.7| 22| 72| 16|       NULL|NULL|                NULL|     NULL|NULL|NULL|NULL|NULL|NULL| NULL|  NULL|NULL|NULL|NULL|NULL|NULL|       NULL|\n",
            "|  9|R Dravid (Asia/IC...|1996-2011|344| 318| 40|10889| 153|39.16|15284| 71.24| 12| 83| 13|       NULL|NULL|                NULL|     NULL|NULL|NULL|NULL|NULL|NULL| NULL|  NULL|NULL|NULL|NULL|NULL|NULL|       NULL|\n",
            "| 10|MS Dhoni (Asia/IN...|2004-2019|350| 297| 84|10773|183*|50.57|12303| 87.56| 10| 73| 10|       NULL|NULL|                NULL|     NULL|NULL|NULL|NULL|NULL|NULL| NULL|  NULL|NULL|NULL|NULL|NULL|NULL|       NULL|\n",
            "| 11|   CH Gayle (ICC/WI)|1999-2019|301| 294| 17|10480| 215|37.83|12019| 87.19| 25| 54| 25|       NULL|NULL|                NULL|     NULL|NULL|NULL|NULL|NULL|NULL| NULL|  NULL|NULL|NULL|NULL|NULL|NULL|       NULL|\n",
            "| 12|    BC Lara (ICC/WI)|1990-2007|299| 289| 32|10405| 169|40.48|13086| 79.51| 19| 63| 16|       NULL|NULL|                NULL|     NULL|NULL|NULL|NULL|NULL|NULL| NULL|  NULL|NULL|NULL|NULL|NULL|NULL|       NULL|\n",
            "| 13|     TM Dilshan (SL)|1999-2016|330| 303| 41|10290|161*|39.27|11933| 86.23| 22| 47| 11|       NULL|  11|     TM Dilshan (SL)|2006-2016|  80|  79|  12|1889|104*|28.19|120.54|   1|  13|  10| 223|  33|       NULL|\n",
            "| 14|Mohammad Yousuf (...|1998-2010|288| 273| 40| 9720|141*|41.71|12942|  75.1| 15| 64| 15|       NULL|NULL|                NULL|     NULL|NULL|NULL|NULL|NULL|NULL| NULL|  NULL|NULL|NULL|NULL|NULL|NULL|       NULL|\n",
            "| 15|AC Gilchrist (AUS...|1996-2008|287| 279| 11| 9619| 172|35.89| 9922| 96.94| 16| 55| 19|       NULL|NULL|                NULL|     NULL|NULL|NULL|NULL|NULL|NULL| NULL|  NULL|NULL|NULL|NULL|NULL|NULL|       NULL|\n",
            "| 16|AB de Villiers (A...|2005-2018|228| 218| 39| 9577| 176| 53.5| 9473|101.09| 25| 53|  7|       NULL|NULL|                NULL|     NULL|NULL|NULL|NULL|NULL|NULL| NULL|  NULL|NULL|NULL|NULL|NULL|NULL|       NULL|\n",
            "| 17|M Azharuddin (INDIA)|1985-2000|334| 308| 54| 9378|153*|36.92|12669| 74.02|  7| 58|  9|       NULL|NULL|                NULL|     NULL|NULL|NULL|NULL|NULL|NULL| NULL|  NULL|NULL|NULL|NULL|NULL|NULL|       NULL|\n",
            "| 18|    PA de Silva (SL)|1984-2003|308| 296| 30| 9284| 145| 34.9|11443| 81.13| 11| 64| 17|       NULL|NULL|                NULL|     NULL|NULL|NULL|NULL|NULL|NULL| NULL|  NULL|NULL|NULL|NULL|NULL|NULL|       NULL|\n",
            "| 19|   RG Sharma (INDIA)|2007-2019|221| 214| 32| 8944| 264|49.14|10063| 88.88| 28| 43| 13|       NULL|   1|   RG Sharma (INDIA)|2007-2019| 104|  96|  14|2633| 118| 32.1|138.21|   4|  19|   6| 234| 120|       NULL|\n",
            "+---+--------------------+---------+---+----+---+-----+----+-----+-----+------+---+---+---+-----------+----+--------------------+---------+----+----+----+----+----+-----+------+----+----+----+----+----+-----------+\n",
            "only showing top 20 rows\n",
            "\n"
          ]
        }
      ]
    },
    {
      "cell_type": "markdown",
      "source": [
        "## ***Spark SQL - Join Employee and Department Data***"
      ],
      "metadata": {
        "id": "o_0nV7iO8rV3"
      }
    },
    {
      "cell_type": "markdown",
      "source": [
        "## **Create tables**"
      ],
      "metadata": {
        "id": "a0bRNN5V8yXl"
      }
    },
    {
      "cell_type": "code",
      "source": [
        "project.createOrReplaceTempView(\"t20\")\n",
        "project_odi.createOrReplaceTempView(\"odi\")"
      ],
      "metadata": {
        "id": "uNheYobn87iF"
      },
      "execution_count": 55,
      "outputs": []
    },
    {
      "cell_type": "markdown",
      "source": [
        "## **FULL Join tables**"
      ],
      "metadata": {
        "id": "34DynsQv9Qj4"
      }
    },
    {
      "cell_type": "code",
      "source": [
        "spark.sql(\"SELECT * FROM t20 t, odi o where t.player == o.player\").show()"
      ],
      "metadata": {
        "id": "kWWzKGTP9TEw",
        "colab": {
          "base_uri": "https://localhost:8080/"
        },
        "outputId": "ae7bf356-9726-496a-d9ab-a9d315789230"
      },
      "execution_count": 56,
      "outputs": [
        {
          "output_type": "stream",
          "name": "stdout",
          "text": [
            "+---+--------------------+---------+---+----+---+----+----+-----+------+---+---+---+---+---+-----------+---+--------------------+---------+---+----+---+-----+----+-----+-----+-----+---+---+---+-----------+\n",
            "|_c0|              Player|     Span|Mat|Inns| NO|Runs|  HS|  Ave|    SR|100| 50|  0| 4s| 6s|Unnamed: 15|_c0|              Player|     Span|Mat|Inns| NO| Runs|  HS|  Ave|   BF|   SR|100| 50|  0|Unnamed: 13|\n",
            "+---+--------------------+---------+---+----+---+----+----+-----+------+---+---+---+---+---+-----------+---+--------------------+---------+---+----+---+-----+----+-----+-----+-----+---+---+---+-----------+\n",
            "| 31|SR Tendulkar (INDIA)|2006-2006|  1|   1|  0|  10|  10|10.00| 83.33|  0|  0|  0|  2|  0|       NULL|  0|SR Tendulkar (INDIA)|1989-2012|463| 452| 41|18426|200*|44.83|21367|86.23| 49| 96| 20|       NULL|\n",
            "|  0|     V Kohli (INDIA)|2010-2019| 75|  70| 20|2633| 94*|52.66|138.07|  0| 24|  2|247| 71|       NULL|  6|     V Kohli (INDIA)|2008-2019|242| 233| 39|11609| 183|59.84|12445|93.28| 43| 55| 13|       NULL|\n",
            "| 11|     TM Dilshan (SL)|2006-2016| 80|  79| 12|1889|104*|28.19|120.54|  1| 13| 10|223| 33|       NULL| 13|     TM Dilshan (SL)|1999-2016|330| 303| 41|10290|161*|39.27|11933|86.23| 22| 47| 11|       NULL|\n",
            "|  1|   RG Sharma (INDIA)|2007-2019|104|  96| 14|2633| 118| 32.1|138.21|  4| 19|  6|234|120|       NULL| 19|   RG Sharma (INDIA)|2007-2019|221| 214| 32| 8944| 264|49.14|10063|88.88| 28| 43| 13|       NULL|\n",
            "|  0|  S Chanderpaul (WI)|2006-2010| 22|  22|  5| 343|  41|20.17| 98.84|  0|  0|  0| 34|  5|       NULL| 21|  S Chanderpaul (WI)|1994-2011|268| 251| 40| 8778| 150| 41.6|12408|70.74| 11| 59|  6|       NULL|\n",
            "|  8|    MS Atapattu (SL)|2006-2006|  2|   1|  0|   5|   5| 5.00|  62.5|  0|  0|  0|  0|  0|       NULL| 24|    MS Atapattu (SL)|1990-2007|268| 259| 32| 8529|132*|37.57|12594|67.72| 11| 59| 13|       NULL|\n",
            "| 13|    LRPL Taylor (NZ)|2006-2019| 95|  87| 19|1743|  63|25.63|121.88|  0|  5|  5|110| 65|       NULL| 26|    LRPL Taylor (NZ)|2006-2019|228| 212| 37| 8376|181*|47.86|10091| 83.0| 20| 50|  9|       NULL|\n",
            "| 23|       HH Gibbs (SA)|2005-2010| 23|  23|  1| 400| 90*|18.18|125.78|  0|  3|  4| 45| 12|       NULL| 29|       HH Gibbs (SA)|1996-2010|248| 240| 16| 8094| 175|36.13| 9721|83.26| 21| 37| 22|       NULL|\n",
            "| 31|     MJ Clarke (AUS)|2005-2010| 34|  28|  5| 488|  67|21.21|103.17|  0|  1|  2| 29| 10|       NULL| 32|     MJ Clarke (AUS)|2003-2015|245| 223| 44| 7981| 130|44.58|10104|78.98|  8| 58| 10|       NULL|\n",
            "|  5|   Younis Khan (PAK)|2006-2010| 25|  23|  3| 442|  51| 22.1|121.42|  0|  2|  2| 31| 12|       NULL| 38|   Younis Khan (PAK)|2000-2015|265| 255| 23| 7249| 144|31.24| 9628|75.29|  7| 48| 22|       NULL|\n",
            "| 49|       NJ Astle (NZ)|2005-2006|  4|   4|  1|  74| 40*|24.66|110.44|  0|  0|  0|  7|  2|       NULL| 40|       NJ Astle (NZ)|1995-2007|223| 217| 14| 7090|145*|34.92| 9760|72.64| 16| 41| 19|       NULL|\n",
            "|  2|     MJ Guptill (NZ)|2009-2019| 83|  80|  7|2436| 105|33.36|134.58|  2| 15|  2|215|113|       NULL| 48|     MJ Guptill (NZ)|2009-2019|179| 176| 19| 6626|237*| 42.2| 7586|87.34| 16| 35| 15|       NULL|\n",
            "| 10|Mohammad Hafeez (...|2006-2018| 89|  86|  8|1908|  86|24.46|116.12|  0| 10|  6|196| 51|       NULL| 49|Mohammad Hafeez (...|2003-2019|218| 216| 15| 6614|140*| 32.9| 8633|76.61| 11| 38| 19|       NULL|\n",
            "| 24|Shakib Al Hasan (...|2006-2019| 76|  76| 10|1567|  84|23.74|123.77|  0|  9|  5|163| 33|       NULL|  3|Shakib Al Hasan (...|2006-2019|206| 194| 27| 6323|134*|37.86| 7641|82.75|  9| 47| 10|       NULL|\n",
            "| 23|    BRM Taylor (ZIM)|2006-2019| 38|  38|  5| 818| 75*|24.78|120.64|  0|  5|  5| 81| 23|       NULL|  4|    BRM Taylor (ZIM)|2004-2019|193| 192| 15| 6293|145*|35.55| 8256|76.22| 10| 38| 15|       NULL|\n",
            "| 26|  KS Williamson (NZ)|2011-2019| 57|  55|  7|1505| 73*|31.35|121.76|  0|  9|  2|158| 26|       NULL|  7|  KS Williamson (NZ)|2010-2019|149| 142| 14| 6132| 148| 47.9| 7494|81.82| 13| 39|  5|       NULL|\n",
            "| 41|Mushfiqur Rahim (...|2006-2019| 84|  76| 13|1265| 72*|20.07|119.33|  0|  5|  5|110| 31|       NULL|  8|Mushfiqur Rahim (...|2006-2019|216| 202| 34| 6100| 144| 36.3| 7718|79.03|  7| 37| 10|       NULL|\n",
            "|  4|    BB McCullum (NZ)|2005-2015| 71|  70| 10|2140| 123|35.66|136.21|  2| 13|  3|199| 91|       NULL|  9|    BB McCullum (NZ)|2002-2016|260| 228| 28| 6083| 166|30.41| 6312|96.37|  5| 32| 20|       NULL|\n",
            "| 18|       JE Root (ENG)|2012-2019| 32|  30|  5| 893| 90*|35.72| 126.3|  0|  5|  2| 92| 16|       NULL| 13|       JE Root (ENG)|2013-2019|143| 135| 21| 5856|133*|51.36| 6702|87.37| 16| 33|  4|       NULL|\n",
            "|  5|     AD Mathews (SL)|2009-2018| 72|  57| 18|1055| 81*|27.05|118.14|  0|  5|  1| 67| 35|       NULL| 15|     AD Mathews (SL)|2008-2019|214| 184| 48| 5812|139*|42.73| 6974|83.33|  3| 40| 15|       NULL|\n",
            "+---+--------------------+---------+---+----+---+----+----+-----+------+---+---+---+---+---+-----------+---+--------------------+---------+---+----+---+-----+----+-----+-----+-----+---+---+---+-----------+\n",
            "only showing top 20 rows\n",
            "\n"
          ]
        }
      ]
    },
    {
      "cell_type": "markdown",
      "source": [
        "## ***Spark SQL - LEFT Join Department and Employee Data***"
      ],
      "metadata": {
        "id": "lOo_NQa2B-VL"
      }
    },
    {
      "cell_type": "code",
      "source": [
        "leftjoin = spark.sql(\"SELECT t._c0,t.player,o.Span,t.Span, t.runs,t.HS,o.Mat,o.HS FROM t20 t LEFT OUTER JOIN odi o ON t.Span == o.span\").show()"
      ],
      "metadata": {
        "id": "dB3FCso0B-9G",
        "colab": {
          "base_uri": "https://localhost:8080/"
        },
        "outputId": "a91f7367-f0d6-4350-bf95-54c38e05b2b6"
      },
      "execution_count": 65,
      "outputs": [
        {
          "output_type": "stream",
          "name": "stdout",
          "text": [
            "+---+-----------------+---------+---------+----+---+---+----+\n",
            "|_c0|           player|     Span|     Span|runs| HS|Mat|  HS|\n",
            "+---+-----------------+---------+---------+----+---+---+----+\n",
            "|  0|  V Kohli (INDIA)|2010-2019|2010-2019|2633|94*|  9|   6|\n",
            "|  0|  V Kohli (INDIA)|2010-2019|2010-2019|2633|94*| 27| 16*|\n",
            "|  0|  V Kohli (INDIA)|2010-2019|2010-2019|2633|94*| 59| 24*|\n",
            "|  0|  V Kohli (INDIA)|2010-2019|2010-2019|2633|94*| 85| 52*|\n",
            "|  0|  V Kohli (INDIA)|2010-2019|2010-2019|2633|94*| 31|  64|\n",
            "|  0|  V Kohli (INDIA)|2010-2019|2010-2019|2633|94*| 87| 62*|\n",
            "|  0|  V Kohli (INDIA)|2010-2019|2010-2019|2633|94*| 58|  72|\n",
            "|  0|  V Kohli (INDIA)|2010-2019|2010-2019|2633|94*| 32|137*|\n",
            "|  0|  V Kohli (INDIA)|2010-2019|2010-2019|2633|94*| 44|  81|\n",
            "|  0|  V Kohli (INDIA)|2010-2019|2010-2019|2633|94*| 64|145*|\n",
            "|  0|  V Kohli (INDIA)|2010-2019|2010-2019|2633|94*| 93|130*|\n",
            "|  0|  V Kohli (INDIA)|2010-2019|2010-2019|2633|94*|126| 139|\n",
            "|  0|  V Kohli (INDIA)|2010-2019|2010-2019|2633|94*|127|139*|\n",
            "|  0|  V Kohli (INDIA)|2010-2019|2010-2019|2633|94*|146| 111|\n",
            "|  0|  V Kohli (INDIA)|2010-2019|2010-2019|2633|94*|118| 164|\n",
            "|  0|  V Kohli (INDIA)|2010-2019|2010-2019|2633|94*|133| 143|\n",
            "|  0|  V Kohli (INDIA)|2010-2019|2010-2019|2633|94*|149| 148|\n",
            "|  1|RG Sharma (INDIA)|2007-2019|2007-2019|2633|118| 73| 18*|\n",
            "|  1|RG Sharma (INDIA)|2007-2019|2007-2019|2633|118| 21|  35|\n",
            "|  1|RG Sharma (INDIA)|2007-2019|2007-2019|2633|118|105| 113|\n",
            "+---+-----------------+---------+---------+----+---+---+----+\n",
            "only showing top 20 rows\n",
            "\n"
          ]
        }
      ]
    },
    {
      "cell_type": "markdown",
      "source": [
        "## ***Stop Spark Instance Created When Done***"
      ],
      "metadata": {
        "id": "DT0Ir0LD_HQ5"
      }
    },
    {
      "cell_type": "code",
      "source": [
        "spark.stop"
      ],
      "metadata": {
        "id": "aU2eAJg8_JVT",
        "colab": {
          "base_uri": "https://localhost:8080/"
        },
        "outputId": "79cddb5e-aa38-4b2f-9d7a-e2375e1edf44"
      },
      "execution_count": 67,
      "outputs": [
        {
          "output_type": "execute_result",
          "data": {
            "text/plain": [
              "<bound method SparkSession.stop of <pyspark.sql.session.SparkSession object at 0x798f66763c70>>"
            ]
          },
          "metadata": {},
          "execution_count": 67
        }
      ]
    }
  ]
}