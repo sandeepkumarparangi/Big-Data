{
  "nbformat": 4,
  "nbformat_minor": 0,
  "metadata": {
    "colab": {
      "provenance": []
    },
    "kernelspec": {
      "name": "python3",
      "display_name": "Python 3"
    },
    "language_info": {
      "name": "python"
    }
  },
  "cells": [
    {
      "cell_type": "code",
      "execution_count": null,
      "metadata": {
        "id": "e-HjGVeZ5rE9"
      },
      "outputs": [],
      "source": [
        "from google.colab import drive"
      ]
    },
    {
      "cell_type": "code",
      "source": [
        "!pip install pyspark"
      ],
      "metadata": {
        "colab": {
          "base_uri": "https://localhost:8080/"
        },
        "id": "Nx324U0l6_K0",
        "outputId": "3a4ebb5d-2a1f-4411-af58-efee7dda4830"
      },
      "execution_count": 1,
      "outputs": [
        {
          "output_type": "stream",
          "name": "stdout",
          "text": [
            "Collecting pyspark\n",
            "  Downloading pyspark-3.5.0.tar.gz (316.9 MB)\n",
            "\u001b[2K     \u001b[90m━━━━━━━━━━━━━━━━━━━━━━━━━━━━━━━━━━━━━━━━\u001b[0m \u001b[32m316.9/316.9 MB\u001b[0m \u001b[31m3.6 MB/s\u001b[0m eta \u001b[36m0:00:00\u001b[0m\n",
            "\u001b[?25h  Preparing metadata (setup.py) ... \u001b[?25l\u001b[?25hdone\n",
            "Requirement already satisfied: py4j==0.10.9.7 in /usr/local/lib/python3.10/dist-packages (from pyspark) (0.10.9.7)\n",
            "Building wheels for collected packages: pyspark\n",
            "  Building wheel for pyspark (setup.py) ... \u001b[?25l\u001b[?25hdone\n",
            "  Created wheel for pyspark: filename=pyspark-3.5.0-py2.py3-none-any.whl size=317425344 sha256=b919f068a9b9859b35c9075d50e3ab578bb43e5ee3f1303b3ad9fff09d81bf01\n",
            "  Stored in directory: /root/.cache/pip/wheels/41/4e/10/c2cf2467f71c678cfc8a6b9ac9241e5e44a01940da8fbb17fc\n",
            "Successfully built pyspark\n",
            "Installing collected packages: pyspark\n",
            "Successfully installed pyspark-3.5.0\n"
          ]
        }
      ]
    },
    {
      "cell_type": "code",
      "source": [
        "from pyspark.sql import SparkSession"
      ],
      "metadata": {
        "id": "D7K8SegP7Cr1"
      },
      "execution_count": 2,
      "outputs": []
    },
    {
      "cell_type": "code",
      "source": [
        "spark = SparkSession.builder.appName(\"Assignment_carsales\").getOrCreate()"
      ],
      "metadata": {
        "id": "RT4cfXv69u2x"
      },
      "execution_count": 3,
      "outputs": []
    },
    {
      "cell_type": "code",
      "source": [
        "spark"
      ],
      "metadata": {
        "colab": {
          "base_uri": "https://localhost:8080/",
          "height": 221
        },
        "id": "Wn3Fds3V917Z",
        "outputId": "aab3d390-0cf2-4401-db32-5bef6d92017b"
      },
      "execution_count": 4,
      "outputs": [
        {
          "output_type": "execute_result",
          "data": {
            "text/plain": [
              "<pyspark.sql.session.SparkSession at 0x7aee3a194670>"
            ],
            "text/html": [
              "\n",
              "            <div>\n",
              "                <p><b>SparkSession - in-memory</b></p>\n",
              "                \n",
              "        <div>\n",
              "            <p><b>SparkContext</b></p>\n",
              "\n",
              "            <p><a href=\"http://242642173cc5:4040\">Spark UI</a></p>\n",
              "\n",
              "            <dl>\n",
              "              <dt>Version</dt>\n",
              "                <dd><code>v3.5.0</code></dd>\n",
              "              <dt>Master</dt>\n",
              "                <dd><code>local[*]</code></dd>\n",
              "              <dt>AppName</dt>\n",
              "                <dd><code>Assignment_carsales</code></dd>\n",
              "            </dl>\n",
              "        </div>\n",
              "        \n",
              "            </div>\n",
              "        "
            ]
          },
          "metadata": {},
          "execution_count": 4
        }
      ]
    },
    {
      "cell_type": "markdown",
      "source": [
        "Import and Read Data file"
      ],
      "metadata": {
        "id": "pTaLgzMG7Vmx"
      }
    },
    {
      "cell_type": "code",
      "source": [
        "df = spark.read.csv('/content/Car_sales.csv',sep=',', inferSchema = True, header=True)"
      ],
      "metadata": {
        "id": "15TdKgxb7Ppx"
      },
      "execution_count": 5,
      "outputs": []
    },
    {
      "cell_type": "markdown",
      "source": [
        "Display Schema"
      ],
      "metadata": {
        "id": "jURgldaz-o9_"
      }
    },
    {
      "cell_type": "code",
      "source": [
        "df.printSchema()"
      ],
      "metadata": {
        "colab": {
          "base_uri": "https://localhost:8080/"
        },
        "id": "SwAsTN-K7PeT",
        "outputId": "eddf28eb-4297-4baf-f2bc-31f49d9d2db2"
      },
      "execution_count": 6,
      "outputs": [
        {
          "output_type": "stream",
          "name": "stdout",
          "text": [
            "root\n",
            " |-- Manufacturer: string (nullable = true)\n",
            " |-- Model: string (nullable = true)\n",
            " |-- Sales_in_thousands: double (nullable = true)\n",
            " |-- __year_resale_value: double (nullable = true)\n",
            " |-- Vehicle_type: string (nullable = true)\n",
            " |-- Price_in_thousands: double (nullable = true)\n",
            " |-- Engine_size: double (nullable = true)\n",
            " |-- Horsepower: integer (nullable = true)\n",
            " |-- Wheelbase: double (nullable = true)\n",
            " |-- Width: double (nullable = true)\n",
            " |-- Length: double (nullable = true)\n",
            " |-- Curb_weight: double (nullable = true)\n",
            " |-- Fuel_capacity: double (nullable = true)\n",
            " |-- Fuel_efficiency: integer (nullable = true)\n",
            " |-- Latest_Launch: string (nullable = true)\n",
            " |-- Power_perf_factor: double (nullable = true)\n",
            "\n"
          ]
        }
      ]
    },
    {
      "cell_type": "markdown",
      "source": [
        "Find DataType of PySpark DataFrame"
      ],
      "metadata": {
        "id": "K1PAw-Id_3DB"
      }
    },
    {
      "cell_type": "code",
      "source": [
        "print(type(df))"
      ],
      "metadata": {
        "colab": {
          "base_uri": "https://localhost:8080/"
        },
        "id": "RmfbjH99_2ZI",
        "outputId": "baaf5733-8223-4e42-f303-4b9798c00827"
      },
      "execution_count": 7,
      "outputs": [
        {
          "output_type": "stream",
          "name": "stdout",
          "text": [
            "<class 'pyspark.sql.dataframe.DataFrame'>\n"
          ]
        }
      ]
    },
    {
      "cell_type": "markdown",
      "source": [
        "Display Sample Rows from data file"
      ],
      "metadata": {
        "id": "8U1RS1-3_8wH"
      }
    },
    {
      "cell_type": "code",
      "source": [
        "df.show(20)"
      ],
      "metadata": {
        "colab": {
          "base_uri": "https://localhost:8080/"
        },
        "id": "FXl1Gpj7ABws",
        "outputId": "dfe2c906-6d2c-4bac-b8e1-c8d65984b586"
      },
      "execution_count": 8,
      "outputs": [
        {
          "output_type": "stream",
          "name": "stdout",
          "text": [
            "+------------+-----------+------------------+-------------------+------------+------------------+-----------+----------+---------+-----+------+-----------+-------------+---------------+-------------+-----------------+\n",
            "|Manufacturer|      Model|Sales_in_thousands|__year_resale_value|Vehicle_type|Price_in_thousands|Engine_size|Horsepower|Wheelbase|Width|Length|Curb_weight|Fuel_capacity|Fuel_efficiency|Latest_Launch|Power_perf_factor|\n",
            "+------------+-----------+------------------+-------------------+------------+------------------+-----------+----------+---------+-----+------+-----------+-------------+---------------+-------------+-----------------+\n",
            "|       Acura|    Integra|            16.919|              16.36|   Passenger|              21.5|        1.8|       140|    101.2| 67.3| 172.4|      2.639|         13.2|             28|     2/2/2012|      58.28014952|\n",
            "|       Acura|         TL|            39.384|             19.875|   Passenger|              28.4|        3.2|       225|    108.1| 70.3| 192.9|      3.517|         17.2|             25|     6/3/2011|      91.37077766|\n",
            "|       Acura|         CL|            14.114|             18.225|   Passenger|              NULL|        3.2|       225|    106.9| 70.6| 192.0|       3.47|         17.2|             26|     1/4/2012|             NULL|\n",
            "|       Acura|         RL|             8.588|             29.725|   Passenger|              42.0|        3.5|       210|    114.6| 71.4| 196.6|       3.85|         18.0|             22|    3/10/2011|      91.38977933|\n",
            "|        Audi|         A4|            20.397|             22.255|   Passenger|             23.99|        1.8|       150|    102.6| 68.2| 178.0|      2.998|         16.4|             27|    10/8/2011|       62.7776392|\n",
            "|        Audi|         A6|             18.78|             23.555|   Passenger|             33.95|        2.8|       200|    108.7| 76.1| 192.0|      3.561|         18.5|             22|     8/9/2011|      84.56510502|\n",
            "|        Audi|         A8|              1.38|               39.0|   Passenger|              62.0|        4.2|       310|    113.0| 74.0| 198.2|      3.902|         23.7|             21|    2/27/2012|      134.6568582|\n",
            "|         BMW|       323i|            19.747|               NULL|   Passenger|             26.99|        2.5|       170|    107.3| 68.4| 176.0|      3.179|         16.6|             26|    6/28/2011|      71.19120671|\n",
            "|         BMW|       328i|             9.231|             28.675|   Passenger|              33.4|        2.8|       193|    107.3| 68.5| 176.0|      3.197|         16.6|             24|    1/29/2012|      81.87706856|\n",
            "|         BMW|       528i|            17.527|             36.125|   Passenger|              38.9|        2.8|       193|    111.4| 70.9| 188.0|      3.472|         18.5|             25|     4/4/2011|       83.9987238|\n",
            "|       Buick|    Century|            91.561|             12.475|   Passenger|            21.975|        3.1|       175|    109.0| 72.7| 194.6|      3.368|         17.5|             25|    11/2/2011|      71.18145132|\n",
            "|       Buick|      Regal|             39.35|              13.74|   Passenger|              25.3|        3.8|       240|    109.0| 72.7| 196.2|      3.543|         17.5|             23|     9/3/2011|      95.63670253|\n",
            "|       Buick|Park Avenue|            27.851|              20.19|   Passenger|            31.965|        3.8|       205|    113.8| 74.7| 206.8|      3.778|         18.5|             24|    3/23/2012|      85.82840825|\n",
            "|       Buick|    LeSabre|            83.257|              13.36|   Passenger|            27.885|        3.8|       205|    112.2| 73.5| 200.0|      3.591|         17.5|             25|    7/23/2011|      84.25452581|\n",
            "|    Cadillac|    DeVille|            63.729|             22.525|   Passenger|            39.895|        4.6|       275|    115.3| 74.5| 207.2|      3.978|         18.5|             22|    2/23/2012|      113.8545976|\n",
            "|    Cadillac|    Seville|            15.943|               27.1|   Passenger|            44.475|        4.6|       275|    112.2| 75.0| 201.0|       NULL|         18.5|             22|    4/29/2011|      115.6213578|\n",
            "|    Cadillac|   Eldorado|             6.536|             25.725|   Passenger|            39.665|        4.6|       275|    108.0| 75.5| 200.6|      3.843|         19.0|             22|   11/27/2011|      113.7658739|\n",
            "|    Cadillac|     Catera|            11.185|             18.225|   Passenger|             31.01|        3.0|       200|    107.4| 70.3| 194.8|       3.77|         18.0|             22|    9/28/2011|      83.48309358|\n",
            "|    Cadillac|   Escalade|            14.785|               NULL|         Car|            46.225|        5.7|       255|    117.5| 77.0| 201.2|      5.572|         30.0|             15|    4/17/2012|      109.5091165|\n",
            "|   Chevrolet|   Cavalier|           145.519|               9.25|   Passenger|             13.26|        2.2|       115|    104.1| 67.9| 180.9|      2.676|         14.3|             27|    8/17/2011|      46.36334747|\n",
            "+------------+-----------+------------------+-------------------+------------+------------------+-----------+----------+---------+-----+------+-----------+-------------+---------------+-------------+-----------------+\n",
            "only showing top 20 rows\n",
            "\n"
          ]
        }
      ]
    },
    {
      "cell_type": "markdown",
      "source": [
        "Count total number of records"
      ],
      "metadata": {
        "id": "wRa_XGsNAJ3b"
      }
    },
    {
      "cell_type": "code",
      "source": [
        "df.count()"
      ],
      "metadata": {
        "colab": {
          "base_uri": "https://localhost:8080/"
        },
        "id": "DJNEYaM6AM8l",
        "outputId": "a507d16c-5dec-462e-e595-cd07d6903459"
      },
      "execution_count": 9,
      "outputs": [
        {
          "output_type": "execute_result",
          "data": {
            "text/plain": [
              "157"
            ]
          },
          "metadata": {},
          "execution_count": 9
        }
      ]
    },
    {
      "cell_type": "markdown",
      "source": [
        "Display a subset of selected columns"
      ],
      "metadata": {
        "id": "j8_7psKtAQ7f"
      }
    },
    {
      "cell_type": "code",
      "source": [
        "df.select('Manufacturer','Model','Sales_in_thousands').show(10)"
      ],
      "metadata": {
        "colab": {
          "base_uri": "https://localhost:8080/"
        },
        "id": "rwGzdlsOAVfH",
        "outputId": "c37d6830-e8f4-4a2f-a753-a182997b0878"
      },
      "execution_count": 10,
      "outputs": [
        {
          "output_type": "stream",
          "name": "stdout",
          "text": [
            "+------------+-------+------------------+\n",
            "|Manufacturer|  Model|Sales_in_thousands|\n",
            "+------------+-------+------------------+\n",
            "|       Acura|Integra|            16.919|\n",
            "|       Acura|     TL|            39.384|\n",
            "|       Acura|     CL|            14.114|\n",
            "|       Acura|     RL|             8.588|\n",
            "|        Audi|     A4|            20.397|\n",
            "|        Audi|     A6|             18.78|\n",
            "|        Audi|     A8|              1.38|\n",
            "|         BMW|   323i|            19.747|\n",
            "|         BMW|   328i|             9.231|\n",
            "|         BMW|   528i|            17.527|\n",
            "+------------+-------+------------------+\n",
            "only showing top 10 rows\n",
            "\n"
          ]
        }
      ]
    },
    {
      "cell_type": "markdown",
      "source": [
        "Order By selected column"
      ],
      "metadata": {
        "id": "-tjbXwXqBCQ2"
      }
    },
    {
      "cell_type": "code",
      "source": [
        "df.orderBy('Manufacturer').show()"
      ],
      "metadata": {
        "colab": {
          "base_uri": "https://localhost:8080/"
        },
        "id": "_54rAT4vBDb3",
        "outputId": "0302847f-3298-4991-cae1-5e761ffd4590"
      },
      "execution_count": 11,
      "outputs": [
        {
          "output_type": "stream",
          "name": "stdout",
          "text": [
            "+------------+-----------+------------------+-------------------+------------+------------------+-----------+----------+---------+-----+------+-----------+-------------+---------------+-------------+-----------------+\n",
            "|Manufacturer|      Model|Sales_in_thousands|__year_resale_value|Vehicle_type|Price_in_thousands|Engine_size|Horsepower|Wheelbase|Width|Length|Curb_weight|Fuel_capacity|Fuel_efficiency|Latest_Launch|Power_perf_factor|\n",
            "+------------+-----------+------------------+-------------------+------------+------------------+-----------+----------+---------+-----+------+-----------+-------------+---------------+-------------+-----------------+\n",
            "|       Acura|    Integra|            16.919|              16.36|   Passenger|              21.5|        1.8|       140|    101.2| 67.3| 172.4|      2.639|         13.2|             28|     2/2/2012|      58.28014952|\n",
            "|       Acura|         TL|            39.384|             19.875|   Passenger|              28.4|        3.2|       225|    108.1| 70.3| 192.9|      3.517|         17.2|             25|     6/3/2011|      91.37077766|\n",
            "|       Acura|         CL|            14.114|             18.225|   Passenger|              NULL|        3.2|       225|    106.9| 70.6| 192.0|       3.47|         17.2|             26|     1/4/2012|             NULL|\n",
            "|       Acura|         RL|             8.588|             29.725|   Passenger|              42.0|        3.5|       210|    114.6| 71.4| 196.6|       3.85|         18.0|             22|    3/10/2011|      91.38977933|\n",
            "|        Audi|         A4|            20.397|             22.255|   Passenger|             23.99|        1.8|       150|    102.6| 68.2| 178.0|      2.998|         16.4|             27|    10/8/2011|       62.7776392|\n",
            "|        Audi|         A6|             18.78|             23.555|   Passenger|             33.95|        2.8|       200|    108.7| 76.1| 192.0|      3.561|         18.5|             22|     8/9/2011|      84.56510502|\n",
            "|        Audi|         A8|              1.38|               39.0|   Passenger|              62.0|        4.2|       310|    113.0| 74.0| 198.2|      3.902|         23.7|             21|    2/27/2012|      134.6568582|\n",
            "|         BMW|       323i|            19.747|               NULL|   Passenger|             26.99|        2.5|       170|    107.3| 68.4| 176.0|      3.179|         16.6|             26|    6/28/2011|      71.19120671|\n",
            "|         BMW|       328i|             9.231|             28.675|   Passenger|              33.4|        2.8|       193|    107.3| 68.5| 176.0|      3.197|         16.6|             24|    1/29/2012|      81.87706856|\n",
            "|         BMW|       528i|            17.527|             36.125|   Passenger|              38.9|        2.8|       193|    111.4| 70.9| 188.0|      3.472|         18.5|             25|     4/4/2011|       83.9987238|\n",
            "|       Buick|    Century|            91.561|             12.475|   Passenger|            21.975|        3.1|       175|    109.0| 72.7| 194.6|      3.368|         17.5|             25|    11/2/2011|      71.18145132|\n",
            "|       Buick|      Regal|             39.35|              13.74|   Passenger|              25.3|        3.8|       240|    109.0| 72.7| 196.2|      3.543|         17.5|             23|     9/3/2011|      95.63670253|\n",
            "|       Buick|Park Avenue|            27.851|              20.19|   Passenger|            31.965|        3.8|       205|    113.8| 74.7| 206.8|      3.778|         18.5|             24|    3/23/2012|      85.82840825|\n",
            "|       Buick|    LeSabre|            83.257|              13.36|   Passenger|            27.885|        3.8|       205|    112.2| 73.5| 200.0|      3.591|         17.5|             25|    7/23/2011|      84.25452581|\n",
            "|    Cadillac|    DeVille|            63.729|             22.525|   Passenger|            39.895|        4.6|       275|    115.3| 74.5| 207.2|      3.978|         18.5|             22|    2/23/2012|      113.8545976|\n",
            "|    Cadillac|    Seville|            15.943|               27.1|   Passenger|            44.475|        4.6|       275|    112.2| 75.0| 201.0|       NULL|         18.5|             22|    4/29/2011|      115.6213578|\n",
            "|    Cadillac|   Eldorado|             6.536|             25.725|   Passenger|            39.665|        4.6|       275|    108.0| 75.5| 200.6|      3.843|         19.0|             22|   11/27/2011|      113.7658739|\n",
            "|    Cadillac|     Catera|            11.185|             18.225|   Passenger|             31.01|        3.0|       200|    107.4| 70.3| 194.8|       3.77|         18.0|             22|    9/28/2011|      83.48309358|\n",
            "|    Cadillac|   Escalade|            14.785|               NULL|         Car|            46.225|        5.7|       255|    117.5| 77.0| 201.2|      5.572|         30.0|             15|    4/17/2012|      109.5091165|\n",
            "|   Chevrolet|   Cavalier|           145.519|               9.25|   Passenger|             13.26|        2.2|       115|    104.1| 67.9| 180.9|      2.676|         14.3|             27|    8/17/2011|      46.36334747|\n",
            "+------------+-----------+------------------+-------------------+------------+------------------+-----------+----------+---------+-----+------+-----------+-------------+---------------+-------------+-----------------+\n",
            "only showing top 20 rows\n",
            "\n"
          ]
        }
      ]
    },
    {
      "cell_type": "markdown",
      "source": [
        "Change Data Types of Columns"
      ],
      "metadata": {
        "id": "aNIX5ZpjBaYU"
      }
    },
    {
      "cell_type": "code",
      "source": [
        "df1 = df.withColumn(\"Sales_in_thousands\",df['Sales_in_thousands'].cast(\"String\"))\n",
        "df1.printSchema()"
      ],
      "metadata": {
        "colab": {
          "base_uri": "https://localhost:8080/"
        },
        "id": "mFKJGpqeBbQm",
        "outputId": "29bac902-9132-4f6d-8793-57724f5a076c"
      },
      "execution_count": 12,
      "outputs": [
        {
          "output_type": "stream",
          "name": "stdout",
          "text": [
            "root\n",
            " |-- Manufacturer: string (nullable = true)\n",
            " |-- Model: string (nullable = true)\n",
            " |-- Sales_in_thousands: string (nullable = true)\n",
            " |-- __year_resale_value: double (nullable = true)\n",
            " |-- Vehicle_type: string (nullable = true)\n",
            " |-- Price_in_thousands: double (nullable = true)\n",
            " |-- Engine_size: double (nullable = true)\n",
            " |-- Horsepower: integer (nullable = true)\n",
            " |-- Wheelbase: double (nullable = true)\n",
            " |-- Width: double (nullable = true)\n",
            " |-- Length: double (nullable = true)\n",
            " |-- Curb_weight: double (nullable = true)\n",
            " |-- Fuel_capacity: double (nullable = true)\n",
            " |-- Fuel_efficiency: integer (nullable = true)\n",
            " |-- Latest_Launch: string (nullable = true)\n",
            " |-- Power_perf_factor: double (nullable = true)\n",
            "\n"
          ]
        }
      ]
    },
    {
      "cell_type": "markdown",
      "source": [
        "Group By Column - Minimum Value"
      ],
      "metadata": {
        "id": "q3tHF90pCBUw"
      }
    },
    {
      "cell_type": "code",
      "source": [
        "from pyspark.sql.functions import min\n",
        "Provider_id_min = df.groupBy(\"Manufacturer\").agg(min(\"Sales_in_thousands\"))\n",
        "Provider_id_min.show()"
      ],
      "metadata": {
        "colab": {
          "base_uri": "https://localhost:8080/"
        },
        "id": "mFONHt0yCB10",
        "outputId": "4f5e765a-0a94-45e8-d29a-5ce97dd09338"
      },
      "execution_count": 14,
      "outputs": [
        {
          "output_type": "stream",
          "name": "stdout",
          "text": [
            "+------------+-----------------------+\n",
            "|Manufacturer|min(Sales_in_thousands)|\n",
            "+------------+-----------------------+\n",
            "|  Volkswagen|                  5.596|\n",
            "|  Oldsmobile|                  1.112|\n",
            "|    Infiniti|                 23.713|\n",
            "|       Lexus|                  3.334|\n",
            "|      Jaguar|                 15.467|\n",
            "|      Saturn|                  5.223|\n",
            "|        Jeep|                 55.557|\n",
            "|  Mitsubishi|                   0.11|\n",
            "|   Chevrolet|                 17.947|\n",
            "|       Volvo|                  3.493|\n",
            "|     Hyundai|                  29.45|\n",
            "|        Saab|                  9.191|\n",
            "|       Honda|                 12.855|\n",
            "|        Audi|                   1.38|\n",
            "|    Cadillac|                  6.536|\n",
            "|    Plymouth|                  1.872|\n",
            "|     Pontiac|                 19.911|\n",
            "|     Mercury|                 14.351|\n",
            "|    Chrysler|                  7.854|\n",
            "|     Lincoln|                 13.798|\n",
            "+------------+-----------------------+\n",
            "only showing top 20 rows\n",
            "\n"
          ]
        }
      ]
    },
    {
      "cell_type": "markdown",
      "source": [
        "Group By Column - Average Value"
      ],
      "metadata": {
        "id": "yH9MTuV_DUKN"
      }
    },
    {
      "cell_type": "code",
      "source": [
        "from pyspark.sql.functions import avg\n",
        "Provider_id = df1.groupBy(\"Manufacturer\").agg(avg(\"Sales_in_thousands\"))\n",
        "Provider_id.show()"
      ],
      "metadata": {
        "colab": {
          "base_uri": "https://localhost:8080/"
        },
        "id": "SR8y7rcPDU_6",
        "outputId": "f6929472-6970-461b-de0f-4e656af54004"
      },
      "execution_count": 15,
      "outputs": [
        {
          "output_type": "stream",
          "name": "stdout",
          "text": [
            "+------------+-----------------------+\n",
            "|Manufacturer|avg(Sales_in_thousands)|\n",
            "+------------+-----------------------+\n",
            "|  Volkswagen|      34.86866666666666|\n",
            "|  Oldsmobile|     29.831499999999995|\n",
            "|    Infiniti|                 23.713|\n",
            "|       Lexus|     17.807166666666664|\n",
            "|      Jaguar|                 15.467|\n",
            "|      Saturn|     33.769999999999996|\n",
            "|        Jeep|      97.71766666666667|\n",
            "|  Mitsubishi|     25.842142857142854|\n",
            "|   Chevrolet|     61.596111111111114|\n",
            "|       Volvo|     12.623333333333335|\n",
            "|     Hyundai|      45.77533333333333|\n",
            "|        Saab|                 10.653|\n",
            "|       Honda|     118.53479999999999|\n",
            "|        Audi|                 13.519|\n",
            "|    Cadillac|                22.4356|\n",
            "|    Plymouth|               16.00025|\n",
            "|     Pontiac|      61.75566666666668|\n",
            "|     Mercury|     39.666500000000006|\n",
            "|    Chrysler|     28.817285714285713|\n",
            "|     Lincoln|     28.544666666666668|\n",
            "+------------+-----------------------+\n",
            "only showing top 20 rows\n",
            "\n"
          ]
        }
      ]
    },
    {
      "cell_type": "markdown",
      "source": [
        "Distinct values for Categorical columns"
      ],
      "metadata": {
        "id": "d80es0GBDetg"
      }
    },
    {
      "cell_type": "code",
      "source": [
        "df.select(\"Vehicle_type\").distinct().show()"
      ],
      "metadata": {
        "colab": {
          "base_uri": "https://localhost:8080/"
        },
        "id": "tFHssqGlDiYG",
        "outputId": "c305a9c9-e9cb-4039-8381-87352de400ed"
      },
      "execution_count": 16,
      "outputs": [
        {
          "output_type": "stream",
          "name": "stdout",
          "text": [
            "+------------+\n",
            "|Vehicle_type|\n",
            "+------------+\n",
            "|         Car|\n",
            "|   Passenger|\n",
            "+------------+\n",
            "\n"
          ]
        }
      ]
    },
    {
      "cell_type": "markdown",
      "source": [
        "Rename existing column"
      ],
      "metadata": {
        "id": "udlzNZIPEDy2"
      }
    },
    {
      "cell_type": "code",
      "source": [
        "df =  df.withColumnRenamed('__year_resale_value', 'year_resale_value')\n",
        "df.printSchema()"
      ],
      "metadata": {
        "colab": {
          "base_uri": "https://localhost:8080/"
        },
        "id": "0KTnpLJtEGDl",
        "outputId": "7b81e32d-2717-46d5-ea72-bea0c92fc013"
      },
      "execution_count": 17,
      "outputs": [
        {
          "output_type": "stream",
          "name": "stdout",
          "text": [
            "root\n",
            " |-- Manufacturer: string (nullable = true)\n",
            " |-- Model: string (nullable = true)\n",
            " |-- Sales_in_thousands: double (nullable = true)\n",
            " |-- year_resale_value: double (nullable = true)\n",
            " |-- Vehicle_type: string (nullable = true)\n",
            " |-- Price_in_thousands: double (nullable = true)\n",
            " |-- Engine_size: double (nullable = true)\n",
            " |-- Horsepower: integer (nullable = true)\n",
            " |-- Wheelbase: double (nullable = true)\n",
            " |-- Width: double (nullable = true)\n",
            " |-- Length: double (nullable = true)\n",
            " |-- Curb_weight: double (nullable = true)\n",
            " |-- Fuel_capacity: double (nullable = true)\n",
            " |-- Fuel_efficiency: integer (nullable = true)\n",
            " |-- Latest_Launch: string (nullable = true)\n",
            " |-- Power_perf_factor: double (nullable = true)\n",
            "\n"
          ]
        }
      ]
    },
    {
      "cell_type": "markdown",
      "source": [
        " Statistics about values of various columns"
      ],
      "metadata": {
        "id": "2l_okBYCEPFi"
      }
    },
    {
      "cell_type": "code",
      "source": [
        "df.describe().show()"
      ],
      "metadata": {
        "colab": {
          "base_uri": "https://localhost:8080/"
        },
        "id": "ffddh2ZuESvo",
        "outputId": "df111122-2ee9-49df-fbfb-f8bbf662291d"
      },
      "execution_count": 18,
      "outputs": [
        {
          "output_type": "stream",
          "name": "stdout",
          "text": [
            "+-------+------------+------+------------------+------------------+------------+------------------+------------------+------------------+------------------+------------------+------------------+------------------+------------------+------------------+-------------+------------------+\n",
            "|summary|Manufacturer| Model|Sales_in_thousands| year_resale_value|Vehicle_type|Price_in_thousands|       Engine_size|        Horsepower|         Wheelbase|             Width|            Length|       Curb_weight|     Fuel_capacity|   Fuel_efficiency|Latest_Launch| Power_perf_factor|\n",
            "+-------+------------+------+------------------+------------------+------------+------------------+------------------+------------------+------------------+------------------+------------------+------------------+------------------+------------------+-------------+------------------+\n",
            "|  count|         157|   157|               157|               121|         157|               155|               156|               156|               156|               156|               156|               155|               156|               154|          157|               155|\n",
            "|   mean|        NULL|  NULL| 52.99807643312102|18.072975206611574|        NULL| 27.39075483870966| 3.060897435897434|185.94871794871796|107.48717948717949| 71.14999999999996|187.34358974358977| 3.378025806451613|17.951923076923084|23.844155844155843|         NULL|  77.0435912007742|\n",
            "| stddev|        NULL|  NULL| 68.02942199750512|11.453384099225003|        NULL|14.351653189238544|1.0446529732758285| 56.70032085837357| 7.641303029809967|3.4518718624593676|13.431754284516813|0.6305016344292964|3.8879212648646306| 4.282705561885177|         NULL|25.142664099182795|\n",
            "|    min|       Acura| 3-Sep|              0.11|              5.16|         Car|             9.235|               1.0|                55|              92.6|              62.6|             149.4|             1.895|              10.3|                15|    1/14/2012|       23.27627233|\n",
            "|    max|       Volvo|Xterra|           540.561|             67.55|   Passenger|              85.5|               8.0|               450|             138.7|              79.9|             224.5|             5.572|              32.0|                45|     9/3/2011|        188.144323|\n",
            "+-------+------------+------+------------------+------------------+------------+------------------+------------------+------------------+------------------+------------------+------------------+------------------+------------------+------------------+-------------+------------------+\n",
            "\n"
          ]
        }
      ]
    },
    {
      "cell_type": "markdown",
      "source": [
        "Creating a New Column based on existing column"
      ],
      "metadata": {
        "id": "Jqa9MOMeEcxz"
      }
    },
    {
      "cell_type": "code",
      "source": [
        "df = df.withColumn('Price_in_thousands', df.Price_in_thousands*1000)\n",
        "df.show()"
      ],
      "metadata": {
        "colab": {
          "base_uri": "https://localhost:8080/"
        },
        "id": "XMXehALdEfkL",
        "outputId": "a29a5821-0f96-4730-e13e-517357c3c372"
      },
      "execution_count": 19,
      "outputs": [
        {
          "output_type": "stream",
          "name": "stdout",
          "text": [
            "+------------+-----------+------------------+-----------------+------------+------------------+-----------+----------+---------+-----+------+-----------+-------------+---------------+-------------+-----------------+\n",
            "|Manufacturer|      Model|Sales_in_thousands|year_resale_value|Vehicle_type|Price_in_thousands|Engine_size|Horsepower|Wheelbase|Width|Length|Curb_weight|Fuel_capacity|Fuel_efficiency|Latest_Launch|Power_perf_factor|\n",
            "+------------+-----------+------------------+-----------------+------------+------------------+-----------+----------+---------+-----+------+-----------+-------------+---------------+-------------+-----------------+\n",
            "|       Acura|    Integra|            16.919|            16.36|   Passenger|           21500.0|        1.8|       140|    101.2| 67.3| 172.4|      2.639|         13.2|             28|     2/2/2012|      58.28014952|\n",
            "|       Acura|         TL|            39.384|           19.875|   Passenger|           28400.0|        3.2|       225|    108.1| 70.3| 192.9|      3.517|         17.2|             25|     6/3/2011|      91.37077766|\n",
            "|       Acura|         CL|            14.114|           18.225|   Passenger|              NULL|        3.2|       225|    106.9| 70.6| 192.0|       3.47|         17.2|             26|     1/4/2012|             NULL|\n",
            "|       Acura|         RL|             8.588|           29.725|   Passenger|           42000.0|        3.5|       210|    114.6| 71.4| 196.6|       3.85|         18.0|             22|    3/10/2011|      91.38977933|\n",
            "|        Audi|         A4|            20.397|           22.255|   Passenger|           23990.0|        1.8|       150|    102.6| 68.2| 178.0|      2.998|         16.4|             27|    10/8/2011|       62.7776392|\n",
            "|        Audi|         A6|             18.78|           23.555|   Passenger|           33950.0|        2.8|       200|    108.7| 76.1| 192.0|      3.561|         18.5|             22|     8/9/2011|      84.56510502|\n",
            "|        Audi|         A8|              1.38|             39.0|   Passenger|           62000.0|        4.2|       310|    113.0| 74.0| 198.2|      3.902|         23.7|             21|    2/27/2012|      134.6568582|\n",
            "|         BMW|       323i|            19.747|             NULL|   Passenger|           26990.0|        2.5|       170|    107.3| 68.4| 176.0|      3.179|         16.6|             26|    6/28/2011|      71.19120671|\n",
            "|         BMW|       328i|             9.231|           28.675|   Passenger|           33400.0|        2.8|       193|    107.3| 68.5| 176.0|      3.197|         16.6|             24|    1/29/2012|      81.87706856|\n",
            "|         BMW|       528i|            17.527|           36.125|   Passenger|           38900.0|        2.8|       193|    111.4| 70.9| 188.0|      3.472|         18.5|             25|     4/4/2011|       83.9987238|\n",
            "|       Buick|    Century|            91.561|           12.475|   Passenger|           21975.0|        3.1|       175|    109.0| 72.7| 194.6|      3.368|         17.5|             25|    11/2/2011|      71.18145132|\n",
            "|       Buick|      Regal|             39.35|            13.74|   Passenger|           25300.0|        3.8|       240|    109.0| 72.7| 196.2|      3.543|         17.5|             23|     9/3/2011|      95.63670253|\n",
            "|       Buick|Park Avenue|            27.851|            20.19|   Passenger|           31965.0|        3.8|       205|    113.8| 74.7| 206.8|      3.778|         18.5|             24|    3/23/2012|      85.82840825|\n",
            "|       Buick|    LeSabre|            83.257|            13.36|   Passenger|           27885.0|        3.8|       205|    112.2| 73.5| 200.0|      3.591|         17.5|             25|    7/23/2011|      84.25452581|\n",
            "|    Cadillac|    DeVille|            63.729|           22.525|   Passenger|           39895.0|        4.6|       275|    115.3| 74.5| 207.2|      3.978|         18.5|             22|    2/23/2012|      113.8545976|\n",
            "|    Cadillac|    Seville|            15.943|             27.1|   Passenger|           44475.0|        4.6|       275|    112.2| 75.0| 201.0|       NULL|         18.5|             22|    4/29/2011|      115.6213578|\n",
            "|    Cadillac|   Eldorado|             6.536|           25.725|   Passenger|           39665.0|        4.6|       275|    108.0| 75.5| 200.6|      3.843|         19.0|             22|   11/27/2011|      113.7658739|\n",
            "|    Cadillac|     Catera|            11.185|           18.225|   Passenger|           31010.0|        3.0|       200|    107.4| 70.3| 194.8|       3.77|         18.0|             22|    9/28/2011|      83.48309358|\n",
            "|    Cadillac|   Escalade|            14.785|             NULL|         Car|           46225.0|        5.7|       255|    117.5| 77.0| 201.2|      5.572|         30.0|             15|    4/17/2012|      109.5091165|\n",
            "|   Chevrolet|   Cavalier|           145.519|             9.25|   Passenger|           13260.0|        2.2|       115|    104.1| 67.9| 180.9|      2.676|         14.3|             27|    8/17/2011|      46.36334747|\n",
            "+------------+-----------+------------------+-----------------+------------+------------------+-----------+----------+---------+-----+------+-----------+-------------+---------------+-------------+-----------------+\n",
            "only showing top 20 rows\n",
            "\n"
          ]
        }
      ]
    },
    {
      "cell_type": "markdown",
      "source": [
        "Add New Column with Constant value for all records"
      ],
      "metadata": {
        "id": "bxfblaTTFiwv"
      }
    },
    {
      "cell_type": "code",
      "source": [
        "from pyspark.sql.functions import lit\n",
        "df = df.withColumn(\"Location\",lit(\"Overland_park,66223\"))\n",
        "df.show()"
      ],
      "metadata": {
        "colab": {
          "base_uri": "https://localhost:8080/"
        },
        "id": "d4V7C8sRFm4R",
        "outputId": "ca4598f9-fad3-4e36-c340-726d1605c9bd"
      },
      "execution_count": 20,
      "outputs": [
        {
          "output_type": "stream",
          "name": "stdout",
          "text": [
            "+------------+-----------+------------------+-----------------+------------+------------------+-----------+----------+---------+-----+------+-----------+-------------+---------------+-------------+-----------------+-------------------+\n",
            "|Manufacturer|      Model|Sales_in_thousands|year_resale_value|Vehicle_type|Price_in_thousands|Engine_size|Horsepower|Wheelbase|Width|Length|Curb_weight|Fuel_capacity|Fuel_efficiency|Latest_Launch|Power_perf_factor|           Location|\n",
            "+------------+-----------+------------------+-----------------+------------+------------------+-----------+----------+---------+-----+------+-----------+-------------+---------------+-------------+-----------------+-------------------+\n",
            "|       Acura|    Integra|            16.919|            16.36|   Passenger|           21500.0|        1.8|       140|    101.2| 67.3| 172.4|      2.639|         13.2|             28|     2/2/2012|      58.28014952|Overland_park,66223|\n",
            "|       Acura|         TL|            39.384|           19.875|   Passenger|           28400.0|        3.2|       225|    108.1| 70.3| 192.9|      3.517|         17.2|             25|     6/3/2011|      91.37077766|Overland_park,66223|\n",
            "|       Acura|         CL|            14.114|           18.225|   Passenger|              NULL|        3.2|       225|    106.9| 70.6| 192.0|       3.47|         17.2|             26|     1/4/2012|             NULL|Overland_park,66223|\n",
            "|       Acura|         RL|             8.588|           29.725|   Passenger|           42000.0|        3.5|       210|    114.6| 71.4| 196.6|       3.85|         18.0|             22|    3/10/2011|      91.38977933|Overland_park,66223|\n",
            "|        Audi|         A4|            20.397|           22.255|   Passenger|           23990.0|        1.8|       150|    102.6| 68.2| 178.0|      2.998|         16.4|             27|    10/8/2011|       62.7776392|Overland_park,66223|\n",
            "|        Audi|         A6|             18.78|           23.555|   Passenger|           33950.0|        2.8|       200|    108.7| 76.1| 192.0|      3.561|         18.5|             22|     8/9/2011|      84.56510502|Overland_park,66223|\n",
            "|        Audi|         A8|              1.38|             39.0|   Passenger|           62000.0|        4.2|       310|    113.0| 74.0| 198.2|      3.902|         23.7|             21|    2/27/2012|      134.6568582|Overland_park,66223|\n",
            "|         BMW|       323i|            19.747|             NULL|   Passenger|           26990.0|        2.5|       170|    107.3| 68.4| 176.0|      3.179|         16.6|             26|    6/28/2011|      71.19120671|Overland_park,66223|\n",
            "|         BMW|       328i|             9.231|           28.675|   Passenger|           33400.0|        2.8|       193|    107.3| 68.5| 176.0|      3.197|         16.6|             24|    1/29/2012|      81.87706856|Overland_park,66223|\n",
            "|         BMW|       528i|            17.527|           36.125|   Passenger|           38900.0|        2.8|       193|    111.4| 70.9| 188.0|      3.472|         18.5|             25|     4/4/2011|       83.9987238|Overland_park,66223|\n",
            "|       Buick|    Century|            91.561|           12.475|   Passenger|           21975.0|        3.1|       175|    109.0| 72.7| 194.6|      3.368|         17.5|             25|    11/2/2011|      71.18145132|Overland_park,66223|\n",
            "|       Buick|      Regal|             39.35|            13.74|   Passenger|           25300.0|        3.8|       240|    109.0| 72.7| 196.2|      3.543|         17.5|             23|     9/3/2011|      95.63670253|Overland_park,66223|\n",
            "|       Buick|Park Avenue|            27.851|            20.19|   Passenger|           31965.0|        3.8|       205|    113.8| 74.7| 206.8|      3.778|         18.5|             24|    3/23/2012|      85.82840825|Overland_park,66223|\n",
            "|       Buick|    LeSabre|            83.257|            13.36|   Passenger|           27885.0|        3.8|       205|    112.2| 73.5| 200.0|      3.591|         17.5|             25|    7/23/2011|      84.25452581|Overland_park,66223|\n",
            "|    Cadillac|    DeVille|            63.729|           22.525|   Passenger|           39895.0|        4.6|       275|    115.3| 74.5| 207.2|      3.978|         18.5|             22|    2/23/2012|      113.8545976|Overland_park,66223|\n",
            "|    Cadillac|    Seville|            15.943|             27.1|   Passenger|           44475.0|        4.6|       275|    112.2| 75.0| 201.0|       NULL|         18.5|             22|    4/29/2011|      115.6213578|Overland_park,66223|\n",
            "|    Cadillac|   Eldorado|             6.536|           25.725|   Passenger|           39665.0|        4.6|       275|    108.0| 75.5| 200.6|      3.843|         19.0|             22|   11/27/2011|      113.7658739|Overland_park,66223|\n",
            "|    Cadillac|     Catera|            11.185|           18.225|   Passenger|           31010.0|        3.0|       200|    107.4| 70.3| 194.8|       3.77|         18.0|             22|    9/28/2011|      83.48309358|Overland_park,66223|\n",
            "|    Cadillac|   Escalade|            14.785|             NULL|         Car|           46225.0|        5.7|       255|    117.5| 77.0| 201.2|      5.572|         30.0|             15|    4/17/2012|      109.5091165|Overland_park,66223|\n",
            "|   Chevrolet|   Cavalier|           145.519|             9.25|   Passenger|           13260.0|        2.2|       115|    104.1| 67.9| 180.9|      2.676|         14.3|             27|    8/17/2011|      46.36334747|Overland_park,66223|\n",
            "+------------+-----------+------------------+-----------------+------------+------------------+-----------+----------+---------+-----+------+-----------+-------------+---------------+-------------+-----------------+-------------------+\n",
            "only showing top 20 rows\n",
            "\n"
          ]
        }
      ]
    },
    {
      "cell_type": "markdown",
      "source": [
        "Split a column into multiple columns"
      ],
      "metadata": {
        "id": "5g2DuWgUG8Oc"
      }
    },
    {
      "cell_type": "code",
      "source": [
        "from pyspark.sql.functions import split\n",
        "df = df.withColumn('Place', split(df['Location'], \",\").getItem(0))\n",
        "df = df.withColumn('code', split(df['Location'], \",\").getItem(1))\n",
        "df.show()"
      ],
      "metadata": {
        "colab": {
          "base_uri": "https://localhost:8080/"
        },
        "id": "Gp9iDFD5HBuj",
        "outputId": "568b587f-a485-4907-9a96-a3706f7d6f5c"
      },
      "execution_count": 21,
      "outputs": [
        {
          "output_type": "stream",
          "name": "stdout",
          "text": [
            "+------------+-----------+------------------+-----------------+------------+------------------+-----------+----------+---------+-----+------+-----------+-------------+---------------+-------------+-----------------+-------------------+-------------+-----+\n",
            "|Manufacturer|      Model|Sales_in_thousands|year_resale_value|Vehicle_type|Price_in_thousands|Engine_size|Horsepower|Wheelbase|Width|Length|Curb_weight|Fuel_capacity|Fuel_efficiency|Latest_Launch|Power_perf_factor|           Location|        Place| code|\n",
            "+------------+-----------+------------------+-----------------+------------+------------------+-----------+----------+---------+-----+------+-----------+-------------+---------------+-------------+-----------------+-------------------+-------------+-----+\n",
            "|       Acura|    Integra|            16.919|            16.36|   Passenger|           21500.0|        1.8|       140|    101.2| 67.3| 172.4|      2.639|         13.2|             28|     2/2/2012|      58.28014952|Overland_park,66223|Overland_park|66223|\n",
            "|       Acura|         TL|            39.384|           19.875|   Passenger|           28400.0|        3.2|       225|    108.1| 70.3| 192.9|      3.517|         17.2|             25|     6/3/2011|      91.37077766|Overland_park,66223|Overland_park|66223|\n",
            "|       Acura|         CL|            14.114|           18.225|   Passenger|              NULL|        3.2|       225|    106.9| 70.6| 192.0|       3.47|         17.2|             26|     1/4/2012|             NULL|Overland_park,66223|Overland_park|66223|\n",
            "|       Acura|         RL|             8.588|           29.725|   Passenger|           42000.0|        3.5|       210|    114.6| 71.4| 196.6|       3.85|         18.0|             22|    3/10/2011|      91.38977933|Overland_park,66223|Overland_park|66223|\n",
            "|        Audi|         A4|            20.397|           22.255|   Passenger|           23990.0|        1.8|       150|    102.6| 68.2| 178.0|      2.998|         16.4|             27|    10/8/2011|       62.7776392|Overland_park,66223|Overland_park|66223|\n",
            "|        Audi|         A6|             18.78|           23.555|   Passenger|           33950.0|        2.8|       200|    108.7| 76.1| 192.0|      3.561|         18.5|             22|     8/9/2011|      84.56510502|Overland_park,66223|Overland_park|66223|\n",
            "|        Audi|         A8|              1.38|             39.0|   Passenger|           62000.0|        4.2|       310|    113.0| 74.0| 198.2|      3.902|         23.7|             21|    2/27/2012|      134.6568582|Overland_park,66223|Overland_park|66223|\n",
            "|         BMW|       323i|            19.747|             NULL|   Passenger|           26990.0|        2.5|       170|    107.3| 68.4| 176.0|      3.179|         16.6|             26|    6/28/2011|      71.19120671|Overland_park,66223|Overland_park|66223|\n",
            "|         BMW|       328i|             9.231|           28.675|   Passenger|           33400.0|        2.8|       193|    107.3| 68.5| 176.0|      3.197|         16.6|             24|    1/29/2012|      81.87706856|Overland_park,66223|Overland_park|66223|\n",
            "|         BMW|       528i|            17.527|           36.125|   Passenger|           38900.0|        2.8|       193|    111.4| 70.9| 188.0|      3.472|         18.5|             25|     4/4/2011|       83.9987238|Overland_park,66223|Overland_park|66223|\n",
            "|       Buick|    Century|            91.561|           12.475|   Passenger|           21975.0|        3.1|       175|    109.0| 72.7| 194.6|      3.368|         17.5|             25|    11/2/2011|      71.18145132|Overland_park,66223|Overland_park|66223|\n",
            "|       Buick|      Regal|             39.35|            13.74|   Passenger|           25300.0|        3.8|       240|    109.0| 72.7| 196.2|      3.543|         17.5|             23|     9/3/2011|      95.63670253|Overland_park,66223|Overland_park|66223|\n",
            "|       Buick|Park Avenue|            27.851|            20.19|   Passenger|           31965.0|        3.8|       205|    113.8| 74.7| 206.8|      3.778|         18.5|             24|    3/23/2012|      85.82840825|Overland_park,66223|Overland_park|66223|\n",
            "|       Buick|    LeSabre|            83.257|            13.36|   Passenger|           27885.0|        3.8|       205|    112.2| 73.5| 200.0|      3.591|         17.5|             25|    7/23/2011|      84.25452581|Overland_park,66223|Overland_park|66223|\n",
            "|    Cadillac|    DeVille|            63.729|           22.525|   Passenger|           39895.0|        4.6|       275|    115.3| 74.5| 207.2|      3.978|         18.5|             22|    2/23/2012|      113.8545976|Overland_park,66223|Overland_park|66223|\n",
            "|    Cadillac|    Seville|            15.943|             27.1|   Passenger|           44475.0|        4.6|       275|    112.2| 75.0| 201.0|       NULL|         18.5|             22|    4/29/2011|      115.6213578|Overland_park,66223|Overland_park|66223|\n",
            "|    Cadillac|   Eldorado|             6.536|           25.725|   Passenger|           39665.0|        4.6|       275|    108.0| 75.5| 200.6|      3.843|         19.0|             22|   11/27/2011|      113.7658739|Overland_park,66223|Overland_park|66223|\n",
            "|    Cadillac|     Catera|            11.185|           18.225|   Passenger|           31010.0|        3.0|       200|    107.4| 70.3| 194.8|       3.77|         18.0|             22|    9/28/2011|      83.48309358|Overland_park,66223|Overland_park|66223|\n",
            "|    Cadillac|   Escalade|            14.785|             NULL|         Car|           46225.0|        5.7|       255|    117.5| 77.0| 201.2|      5.572|         30.0|             15|    4/17/2012|      109.5091165|Overland_park,66223|Overland_park|66223|\n",
            "|   Chevrolet|   Cavalier|           145.519|             9.25|   Passenger|           13260.0|        2.2|       115|    104.1| 67.9| 180.9|      2.676|         14.3|             27|    8/17/2011|      46.36334747|Overland_park,66223|Overland_park|66223|\n",
            "+------------+-----------+------------------+-----------------+------------+------------------+-----------+----------+---------+-----+------+-----------+-------------+---------------+-------------+-----------------+-------------------+-------------+-----+\n",
            "only showing top 20 rows\n",
            "\n"
          ]
        }
      ]
    },
    {
      "cell_type": "markdown",
      "source": [
        "Drop a column from Dataframe"
      ],
      "metadata": {
        "id": "dqVrweh-HvfN"
      }
    },
    {
      "cell_type": "code",
      "source": [
        "df = df.drop('Location')\n",
        "df.show()"
      ],
      "metadata": {
        "colab": {
          "base_uri": "https://localhost:8080/"
        },
        "id": "adoEsuNZHt6-",
        "outputId": "466ef6d7-6f17-432d-f96a-45981fe1b7e9"
      },
      "execution_count": 22,
      "outputs": [
        {
          "output_type": "stream",
          "name": "stdout",
          "text": [
            "+------------+-----------+------------------+-----------------+------------+------------------+-----------+----------+---------+-----+------+-----------+-------------+---------------+-------------+-----------------+-------------+-----+\n",
            "|Manufacturer|      Model|Sales_in_thousands|year_resale_value|Vehicle_type|Price_in_thousands|Engine_size|Horsepower|Wheelbase|Width|Length|Curb_weight|Fuel_capacity|Fuel_efficiency|Latest_Launch|Power_perf_factor|        Place| code|\n",
            "+------------+-----------+------------------+-----------------+------------+------------------+-----------+----------+---------+-----+------+-----------+-------------+---------------+-------------+-----------------+-------------+-----+\n",
            "|       Acura|    Integra|            16.919|            16.36|   Passenger|           21500.0|        1.8|       140|    101.2| 67.3| 172.4|      2.639|         13.2|             28|     2/2/2012|      58.28014952|Overland_park|66223|\n",
            "|       Acura|         TL|            39.384|           19.875|   Passenger|           28400.0|        3.2|       225|    108.1| 70.3| 192.9|      3.517|         17.2|             25|     6/3/2011|      91.37077766|Overland_park|66223|\n",
            "|       Acura|         CL|            14.114|           18.225|   Passenger|              NULL|        3.2|       225|    106.9| 70.6| 192.0|       3.47|         17.2|             26|     1/4/2012|             NULL|Overland_park|66223|\n",
            "|       Acura|         RL|             8.588|           29.725|   Passenger|           42000.0|        3.5|       210|    114.6| 71.4| 196.6|       3.85|         18.0|             22|    3/10/2011|      91.38977933|Overland_park|66223|\n",
            "|        Audi|         A4|            20.397|           22.255|   Passenger|           23990.0|        1.8|       150|    102.6| 68.2| 178.0|      2.998|         16.4|             27|    10/8/2011|       62.7776392|Overland_park|66223|\n",
            "|        Audi|         A6|             18.78|           23.555|   Passenger|           33950.0|        2.8|       200|    108.7| 76.1| 192.0|      3.561|         18.5|             22|     8/9/2011|      84.56510502|Overland_park|66223|\n",
            "|        Audi|         A8|              1.38|             39.0|   Passenger|           62000.0|        4.2|       310|    113.0| 74.0| 198.2|      3.902|         23.7|             21|    2/27/2012|      134.6568582|Overland_park|66223|\n",
            "|         BMW|       323i|            19.747|             NULL|   Passenger|           26990.0|        2.5|       170|    107.3| 68.4| 176.0|      3.179|         16.6|             26|    6/28/2011|      71.19120671|Overland_park|66223|\n",
            "|         BMW|       328i|             9.231|           28.675|   Passenger|           33400.0|        2.8|       193|    107.3| 68.5| 176.0|      3.197|         16.6|             24|    1/29/2012|      81.87706856|Overland_park|66223|\n",
            "|         BMW|       528i|            17.527|           36.125|   Passenger|           38900.0|        2.8|       193|    111.4| 70.9| 188.0|      3.472|         18.5|             25|     4/4/2011|       83.9987238|Overland_park|66223|\n",
            "|       Buick|    Century|            91.561|           12.475|   Passenger|           21975.0|        3.1|       175|    109.0| 72.7| 194.6|      3.368|         17.5|             25|    11/2/2011|      71.18145132|Overland_park|66223|\n",
            "|       Buick|      Regal|             39.35|            13.74|   Passenger|           25300.0|        3.8|       240|    109.0| 72.7| 196.2|      3.543|         17.5|             23|     9/3/2011|      95.63670253|Overland_park|66223|\n",
            "|       Buick|Park Avenue|            27.851|            20.19|   Passenger|           31965.0|        3.8|       205|    113.8| 74.7| 206.8|      3.778|         18.5|             24|    3/23/2012|      85.82840825|Overland_park|66223|\n",
            "|       Buick|    LeSabre|            83.257|            13.36|   Passenger|           27885.0|        3.8|       205|    112.2| 73.5| 200.0|      3.591|         17.5|             25|    7/23/2011|      84.25452581|Overland_park|66223|\n",
            "|    Cadillac|    DeVille|            63.729|           22.525|   Passenger|           39895.0|        4.6|       275|    115.3| 74.5| 207.2|      3.978|         18.5|             22|    2/23/2012|      113.8545976|Overland_park|66223|\n",
            "|    Cadillac|    Seville|            15.943|             27.1|   Passenger|           44475.0|        4.6|       275|    112.2| 75.0| 201.0|       NULL|         18.5|             22|    4/29/2011|      115.6213578|Overland_park|66223|\n",
            "|    Cadillac|   Eldorado|             6.536|           25.725|   Passenger|           39665.0|        4.6|       275|    108.0| 75.5| 200.6|      3.843|         19.0|             22|   11/27/2011|      113.7658739|Overland_park|66223|\n",
            "|    Cadillac|     Catera|            11.185|           18.225|   Passenger|           31010.0|        3.0|       200|    107.4| 70.3| 194.8|       3.77|         18.0|             22|    9/28/2011|      83.48309358|Overland_park|66223|\n",
            "|    Cadillac|   Escalade|            14.785|             NULL|         Car|           46225.0|        5.7|       255|    117.5| 77.0| 201.2|      5.572|         30.0|             15|    4/17/2012|      109.5091165|Overland_park|66223|\n",
            "|   Chevrolet|   Cavalier|           145.519|             9.25|   Passenger|           13260.0|        2.2|       115|    104.1| 67.9| 180.9|      2.676|         14.3|             27|    8/17/2011|      46.36334747|Overland_park|66223|\n",
            "+------------+-----------+------------------+-----------------+------------+------------------+-----------+----------+---------+-----+------+-----------+-------------+---------------+-------------+-----------------+-------------+-----+\n",
            "only showing top 20 rows\n",
            "\n"
          ]
        }
      ]
    },
    {
      "cell_type": "markdown",
      "source": [
        "Filter data based on particular column values"
      ],
      "metadata": {
        "id": "ka3IZqz5H1du"
      }
    },
    {
      "cell_type": "code",
      "source": [
        "from pyspark.sql.functions import filter\n",
        "df.filter(df.Horsepower >= \"200\").show()"
      ],
      "metadata": {
        "colab": {
          "base_uri": "https://localhost:8080/"
        },
        "id": "Ia0FZPf3H4Ye",
        "outputId": "299149c2-79b6-4e9f-a60f-5bcbf1fa0e86"
      },
      "execution_count": 24,
      "outputs": [
        {
          "output_type": "stream",
          "name": "stdout",
          "text": [
            "+------------+-----------+------------------+-----------------+------------+------------------+-----------+----------+---------+-----+------+-----------+-------------+---------------+-------------+-----------------+-------------+-----+\n",
            "|Manufacturer|      Model|Sales_in_thousands|year_resale_value|Vehicle_type|Price_in_thousands|Engine_size|Horsepower|Wheelbase|Width|Length|Curb_weight|Fuel_capacity|Fuel_efficiency|Latest_Launch|Power_perf_factor|        Place| code|\n",
            "+------------+-----------+------------------+-----------------+------------+------------------+-----------+----------+---------+-----+------+-----------+-------------+---------------+-------------+-----------------+-------------+-----+\n",
            "|       Acura|         TL|            39.384|           19.875|   Passenger|           28400.0|        3.2|       225|    108.1| 70.3| 192.9|      3.517|         17.2|             25|     6/3/2011|      91.37077766|Overland_park|66223|\n",
            "|       Acura|         CL|            14.114|           18.225|   Passenger|              NULL|        3.2|       225|    106.9| 70.6| 192.0|       3.47|         17.2|             26|     1/4/2012|             NULL|Overland_park|66223|\n",
            "|       Acura|         RL|             8.588|           29.725|   Passenger|           42000.0|        3.5|       210|    114.6| 71.4| 196.6|       3.85|         18.0|             22|    3/10/2011|      91.38977933|Overland_park|66223|\n",
            "|        Audi|         A6|             18.78|           23.555|   Passenger|           33950.0|        2.8|       200|    108.7| 76.1| 192.0|      3.561|         18.5|             22|     8/9/2011|      84.56510502|Overland_park|66223|\n",
            "|        Audi|         A8|              1.38|             39.0|   Passenger|           62000.0|        4.2|       310|    113.0| 74.0| 198.2|      3.902|         23.7|             21|    2/27/2012|      134.6568582|Overland_park|66223|\n",
            "|       Buick|      Regal|             39.35|            13.74|   Passenger|           25300.0|        3.8|       240|    109.0| 72.7| 196.2|      3.543|         17.5|             23|     9/3/2011|      95.63670253|Overland_park|66223|\n",
            "|       Buick|Park Avenue|            27.851|            20.19|   Passenger|           31965.0|        3.8|       205|    113.8| 74.7| 206.8|      3.778|         18.5|             24|    3/23/2012|      85.82840825|Overland_park|66223|\n",
            "|       Buick|    LeSabre|            83.257|            13.36|   Passenger|           27885.0|        3.8|       205|    112.2| 73.5| 200.0|      3.591|         17.5|             25|    7/23/2011|      84.25452581|Overland_park|66223|\n",
            "|    Cadillac|    DeVille|            63.729|           22.525|   Passenger|           39895.0|        4.6|       275|    115.3| 74.5| 207.2|      3.978|         18.5|             22|    2/23/2012|      113.8545976|Overland_park|66223|\n",
            "|    Cadillac|    Seville|            15.943|             27.1|   Passenger|           44475.0|        4.6|       275|    112.2| 75.0| 201.0|       NULL|         18.5|             22|    4/29/2011|      115.6213578|Overland_park|66223|\n",
            "|    Cadillac|   Eldorado|             6.536|           25.725|   Passenger|           39665.0|        4.6|       275|    108.0| 75.5| 200.6|      3.843|         19.0|             22|   11/27/2011|      113.7658739|Overland_park|66223|\n",
            "|    Cadillac|     Catera|            11.185|           18.225|   Passenger|           31010.0|        3.0|       200|    107.4| 70.3| 194.8|       3.77|         18.0|             22|    9/28/2011|      83.48309358|Overland_park|66223|\n",
            "|    Cadillac|   Escalade|            14.785|             NULL|         Car|           46225.0|        5.7|       255|    117.5| 77.0| 201.2|      5.572|         30.0|             15|    4/17/2012|      109.5091165|Overland_park|66223|\n",
            "|   Chevrolet|     Camaro|            26.402|           13.025|   Passenger|           24340.0|        3.8|       200|    101.1| 74.1| 193.2|        3.5|         16.8|             25|   10/23/2011|      81.11854333|Overland_park|66223|\n",
            "|   Chevrolet|   Corvette|            17.947|           36.225|   Passenger|           45705.0|        5.7|       345|    104.5| 73.6| 179.7|       3.21|         19.1|             22|    5/12/2012|        141.14115|Overland_park|66223|\n",
            "|    Chrysler|   Concorde|            31.148|           13.725|   Passenger|           22245.0|        2.7|       200|    113.0| 74.4| 209.1|      3.452|         17.0|             26|     6/6/2012|      80.02378204|Overland_park|66223|\n",
            "|    Chrysler|        LHS|            13.462|           17.325|   Passenger|           28340.0|        3.5|       253|    113.0| 74.4| 207.7|      3.564|         17.0|             23|     5/8/2012|      101.3292807|Overland_park|66223|\n",
            "|    Chrysler|       300M|            30.696|             NULL|   Passenger|           29185.0|        3.5|       253|    113.0| 74.4| 197.8|      3.567|         17.0|             23|    2/10/2012|      101.6552441|Overland_park|66223|\n",
            "|       Dodge|   Intrepid|            88.028|           12.275|   Passenger|           22505.0|        2.7|       202|    113.0| 74.7| 203.7|      3.489|         17.0|           NULL|     6/2/2012|      80.83147017|Overland_park|66223|\n",
            "|       Dodge|      Viper|             0.916|            58.47|   Passenger|           69725.0|        8.0|       450|     96.2| 75.7| 176.7|      3.375|         19.0|             16|     8/7/2011|       188.144323|Overland_park|66223|\n",
            "+------------+-----------+------------------+-----------------+------------+------------------+-----------+----------+---------+-----+------+-----------+-------------+---------------+-------------+-----------------+-------------+-----+\n",
            "only showing top 20 rows\n",
            "\n"
          ]
        }
      ]
    },
    {
      "cell_type": "markdown",
      "source": [
        "Display Not Null Values in Data set"
      ],
      "metadata": {
        "id": "pfbcrpvYIQDJ"
      }
    },
    {
      "cell_type": "code",
      "source": [
        "from pyspark.sql.functions import *\n",
        "df.filter(df.Price_in_thousands.isNotNull()).show()"
      ],
      "metadata": {
        "colab": {
          "base_uri": "https://localhost:8080/"
        },
        "id": "5E0S0HO3IRBn",
        "outputId": "47de9ef7-03ce-42ce-8266-8ddc4be17833"
      },
      "execution_count": 25,
      "outputs": [
        {
          "output_type": "stream",
          "name": "stdout",
          "text": [
            "+------------+-----------+------------------+-----------------+------------+------------------+-----------+----------+---------+-----+------+-----------+-------------+---------------+-------------+-----------------+-------------+-----+\n",
            "|Manufacturer|      Model|Sales_in_thousands|year_resale_value|Vehicle_type|Price_in_thousands|Engine_size|Horsepower|Wheelbase|Width|Length|Curb_weight|Fuel_capacity|Fuel_efficiency|Latest_Launch|Power_perf_factor|        Place| code|\n",
            "+------------+-----------+------------------+-----------------+------------+------------------+-----------+----------+---------+-----+------+-----------+-------------+---------------+-------------+-----------------+-------------+-----+\n",
            "|       Acura|    Integra|            16.919|            16.36|   Passenger|           21500.0|        1.8|       140|    101.2| 67.3| 172.4|      2.639|         13.2|             28|     2/2/2012|      58.28014952|Overland_park|66223|\n",
            "|       Acura|         TL|            39.384|           19.875|   Passenger|           28400.0|        3.2|       225|    108.1| 70.3| 192.9|      3.517|         17.2|             25|     6/3/2011|      91.37077766|Overland_park|66223|\n",
            "|       Acura|         RL|             8.588|           29.725|   Passenger|           42000.0|        3.5|       210|    114.6| 71.4| 196.6|       3.85|         18.0|             22|    3/10/2011|      91.38977933|Overland_park|66223|\n",
            "|        Audi|         A4|            20.397|           22.255|   Passenger|           23990.0|        1.8|       150|    102.6| 68.2| 178.0|      2.998|         16.4|             27|    10/8/2011|       62.7776392|Overland_park|66223|\n",
            "|        Audi|         A6|             18.78|           23.555|   Passenger|           33950.0|        2.8|       200|    108.7| 76.1| 192.0|      3.561|         18.5|             22|     8/9/2011|      84.56510502|Overland_park|66223|\n",
            "|        Audi|         A8|              1.38|             39.0|   Passenger|           62000.0|        4.2|       310|    113.0| 74.0| 198.2|      3.902|         23.7|             21|    2/27/2012|      134.6568582|Overland_park|66223|\n",
            "|         BMW|       323i|            19.747|             NULL|   Passenger|           26990.0|        2.5|       170|    107.3| 68.4| 176.0|      3.179|         16.6|             26|    6/28/2011|      71.19120671|Overland_park|66223|\n",
            "|         BMW|       328i|             9.231|           28.675|   Passenger|           33400.0|        2.8|       193|    107.3| 68.5| 176.0|      3.197|         16.6|             24|    1/29/2012|      81.87706856|Overland_park|66223|\n",
            "|         BMW|       528i|            17.527|           36.125|   Passenger|           38900.0|        2.8|       193|    111.4| 70.9| 188.0|      3.472|         18.5|             25|     4/4/2011|       83.9987238|Overland_park|66223|\n",
            "|       Buick|    Century|            91.561|           12.475|   Passenger|           21975.0|        3.1|       175|    109.0| 72.7| 194.6|      3.368|         17.5|             25|    11/2/2011|      71.18145132|Overland_park|66223|\n",
            "|       Buick|      Regal|             39.35|            13.74|   Passenger|           25300.0|        3.8|       240|    109.0| 72.7| 196.2|      3.543|         17.5|             23|     9/3/2011|      95.63670253|Overland_park|66223|\n",
            "|       Buick|Park Avenue|            27.851|            20.19|   Passenger|           31965.0|        3.8|       205|    113.8| 74.7| 206.8|      3.778|         18.5|             24|    3/23/2012|      85.82840825|Overland_park|66223|\n",
            "|       Buick|    LeSabre|            83.257|            13.36|   Passenger|           27885.0|        3.8|       205|    112.2| 73.5| 200.0|      3.591|         17.5|             25|    7/23/2011|      84.25452581|Overland_park|66223|\n",
            "|    Cadillac|    DeVille|            63.729|           22.525|   Passenger|           39895.0|        4.6|       275|    115.3| 74.5| 207.2|      3.978|         18.5|             22|    2/23/2012|      113.8545976|Overland_park|66223|\n",
            "|    Cadillac|    Seville|            15.943|             27.1|   Passenger|           44475.0|        4.6|       275|    112.2| 75.0| 201.0|       NULL|         18.5|             22|    4/29/2011|      115.6213578|Overland_park|66223|\n",
            "|    Cadillac|   Eldorado|             6.536|           25.725|   Passenger|           39665.0|        4.6|       275|    108.0| 75.5| 200.6|      3.843|         19.0|             22|   11/27/2011|      113.7658739|Overland_park|66223|\n",
            "|    Cadillac|     Catera|            11.185|           18.225|   Passenger|           31010.0|        3.0|       200|    107.4| 70.3| 194.8|       3.77|         18.0|             22|    9/28/2011|      83.48309358|Overland_park|66223|\n",
            "|    Cadillac|   Escalade|            14.785|             NULL|         Car|           46225.0|        5.7|       255|    117.5| 77.0| 201.2|      5.572|         30.0|             15|    4/17/2012|      109.5091165|Overland_park|66223|\n",
            "|   Chevrolet|   Cavalier|           145.519|             9.25|   Passenger|           13260.0|        2.2|       115|    104.1| 67.9| 180.9|      2.676|         14.3|             27|    8/17/2011|      46.36334747|Overland_park|66223|\n",
            "|   Chevrolet|     Malibu|           135.126|           11.225|   Passenger|           16535.0|        3.1|       170|    107.0| 69.4| 190.4|      3.051|         15.0|             25|    3/19/2012|      67.31446216|Overland_park|66223|\n",
            "+------------+-----------+------------------+-----------------+------------+------------------+-----------+----------+---------+-----+------+-----------+-------------+---------------+-------------+-----------------+-------------+-----+\n",
            "only showing top 20 rows\n",
            "\n"
          ]
        }
      ]
    },
    {
      "cell_type": "markdown",
      "source": [
        "Display Null Values in Data set"
      ],
      "metadata": {
        "id": "cznp792LIuHn"
      }
    },
    {
      "cell_type": "code",
      "source": [
        "df.filter(df.Price_in_thousands.isNull()).show()"
      ],
      "metadata": {
        "colab": {
          "base_uri": "https://localhost:8080/"
        },
        "id": "GL4rWzZbIxka",
        "outputId": "a3235139-c6b6-40dd-b3c7-9a50b18fe31e"
      },
      "execution_count": 26,
      "outputs": [
        {
          "output_type": "stream",
          "name": "stdout",
          "text": [
            "+------------+--------------+------------------+-----------------+------------+------------------+-----------+----------+---------+-----+------+-----------+-------------+---------------+-------------+-----------------+-------------+-----+\n",
            "|Manufacturer|         Model|Sales_in_thousands|year_resale_value|Vehicle_type|Price_in_thousands|Engine_size|Horsepower|Wheelbase|Width|Length|Curb_weight|Fuel_capacity|Fuel_efficiency|Latest_Launch|Power_perf_factor|        Place| code|\n",
            "+------------+--------------+------------------+-----------------+------------+------------------+-----------+----------+---------+-----+------+-----------+-------------+---------------+-------------+-----------------+-------------+-----+\n",
            "|       Acura|            CL|            14.114|           18.225|   Passenger|              NULL|        3.2|       225|    106.9| 70.6| 192.0|       3.47|         17.2|             26|     1/4/2012|             NULL|Overland_park|66223|\n",
            "|    Chrysler|Town & Country|             53.48|            19.54|         Car|              NULL|       NULL|      NULL|     NULL| NULL|  NULL|       NULL|         NULL|           NULL|    7/13/2011|             NULL|Overland_park|66223|\n",
            "+------------+--------------+------------------+-----------------+------------+------------------+-----------+----------+---------+-----+------+-----------+-------------+---------------+-------------+-----------------+-------------+-----+\n",
            "\n"
          ]
        }
      ]
    },
    {
      "cell_type": "markdown",
      "source": [
        "Drop rows containing any null values"
      ],
      "metadata": {
        "id": "PhYohcosJjMg"
      }
    },
    {
      "cell_type": "code",
      "source": [
        "df1 = df.na.drop()\n",
        "df1.count()\n"
      ],
      "metadata": {
        "colab": {
          "base_uri": "https://localhost:8080/"
        },
        "id": "sw8h7sffJwXL",
        "outputId": "fddf1b88-d464-4c83-b1c8-f041cf27f2c2"
      },
      "execution_count": 27,
      "outputs": [
        {
          "output_type": "execute_result",
          "data": {
            "text/plain": [
              "117"
            ]
          },
          "metadata": {},
          "execution_count": 27
        }
      ]
    },
    {
      "cell_type": "code",
      "source": [
        "df.printSchema()"
      ],
      "metadata": {
        "colab": {
          "base_uri": "https://localhost:8080/"
        },
        "id": "kcJMVNtGKDMs",
        "outputId": "5073d8b9-8feb-4bd7-b138-d3f9c0afafd5"
      },
      "execution_count": 28,
      "outputs": [
        {
          "output_type": "stream",
          "name": "stdout",
          "text": [
            "root\n",
            " |-- Manufacturer: string (nullable = true)\n",
            " |-- Model: string (nullable = true)\n",
            " |-- Sales_in_thousands: double (nullable = true)\n",
            " |-- year_resale_value: double (nullable = true)\n",
            " |-- Vehicle_type: string (nullable = true)\n",
            " |-- Price_in_thousands: double (nullable = true)\n",
            " |-- Engine_size: double (nullable = true)\n",
            " |-- Horsepower: integer (nullable = true)\n",
            " |-- Wheelbase: double (nullable = true)\n",
            " |-- Width: double (nullable = true)\n",
            " |-- Length: double (nullable = true)\n",
            " |-- Curb_weight: double (nullable = true)\n",
            " |-- Fuel_capacity: double (nullable = true)\n",
            " |-- Fuel_efficiency: integer (nullable = true)\n",
            " |-- Latest_Launch: string (nullable = true)\n",
            " |-- Power_perf_factor: double (nullable = true)\n",
            " |-- Place: string (nullable = true)\n",
            " |-- code: string (nullable = true)\n",
            "\n"
          ]
        }
      ]
    },
    {
      "cell_type": "code",
      "source": [
        "df.count()"
      ],
      "metadata": {
        "colab": {
          "base_uri": "https://localhost:8080/"
        },
        "id": "egoWHNNxKHI_",
        "outputId": "c220050b-c422-473c-db50-78dae6e793c8"
      },
      "execution_count": 29,
      "outputs": [
        {
          "output_type": "execute_result",
          "data": {
            "text/plain": [
              "157"
            ]
          },
          "metadata": {},
          "execution_count": 29
        }
      ]
    },
    {
      "cell_type": "markdown",
      "source": [
        "Convert Spark Dataframe to Pandas Dataframe"
      ],
      "metadata": {
        "id": "FxOrXYXgK6y-"
      }
    },
    {
      "cell_type": "code",
      "source": [
        "df_pandas = df.toPandas()"
      ],
      "metadata": {
        "id": "RjhkWPTzLBXi"
      },
      "execution_count": 30,
      "outputs": []
    },
    {
      "cell_type": "markdown",
      "source": [
        "DataType of Pandas DataFrame"
      ],
      "metadata": {
        "id": "aULHsTgzLMMC"
      }
    },
    {
      "cell_type": "code",
      "source": [
        "print(type(df_pandas))"
      ],
      "metadata": {
        "colab": {
          "base_uri": "https://localhost:8080/"
        },
        "id": "KBm4TsM2LL28",
        "outputId": "68eb03bd-1c3e-4449-d367-54f5559dd1b9"
      },
      "execution_count": 31,
      "outputs": [
        {
          "output_type": "stream",
          "name": "stdout",
          "text": [
            "<class 'pandas.core.frame.DataFrame'>\n"
          ]
        }
      ]
    },
    {
      "cell_type": "markdown",
      "source": [
        "Concat - Combine Two Values"
      ],
      "metadata": {
        "id": "hq4AVLNCLVHm"
      }
    },
    {
      "cell_type": "code",
      "source": [
        "from pyspark.sql.functions import concat\n",
        "\n",
        "df.select(concat(df.Place, df1.code).alias('Area')).show(5)\n"
      ],
      "metadata": {
        "colab": {
          "base_uri": "https://localhost:8080/"
        },
        "id": "XDpZPuPALWJA",
        "outputId": "4cde0c33-9098-4f48-9239-6a630b843ae8"
      },
      "execution_count": 32,
      "outputs": [
        {
          "output_type": "stream",
          "name": "stdout",
          "text": [
            "+------------------+\n",
            "|              Area|\n",
            "+------------------+\n",
            "|Overland_park66223|\n",
            "|Overland_park66223|\n",
            "|Overland_park66223|\n",
            "|Overland_park66223|\n",
            "|Overland_park66223|\n",
            "+------------------+\n",
            "only showing top 5 rows\n",
            "\n"
          ]
        }
      ]
    },
    {
      "cell_type": "markdown",
      "source": [
        "Filter data and create new dataframes"
      ],
      "metadata": {
        "id": "GCGk9n2QL0PB"
      }
    },
    {
      "cell_type": "code",
      "source": [
        "from pyspark.sql.functions import col\n",
        "\n",
        "df1=df.filter(col('Vehicle_type').contains('Passenger')).show()"
      ],
      "metadata": {
        "colab": {
          "base_uri": "https://localhost:8080/"
        },
        "id": "4MDiT7-KL5jI",
        "outputId": "c5e35b82-f06e-45a9-ddf2-cd423f483d94"
      },
      "execution_count": 33,
      "outputs": [
        {
          "output_type": "stream",
          "name": "stdout",
          "text": [
            "+------------+-----------+------------------+-----------------+------------+------------------+-----------+----------+---------+-----+------+-----------+-------------+---------------+-------------+-----------------+-------------+-----+\n",
            "|Manufacturer|      Model|Sales_in_thousands|year_resale_value|Vehicle_type|Price_in_thousands|Engine_size|Horsepower|Wheelbase|Width|Length|Curb_weight|Fuel_capacity|Fuel_efficiency|Latest_Launch|Power_perf_factor|        Place| code|\n",
            "+------------+-----------+------------------+-----------------+------------+------------------+-----------+----------+---------+-----+------+-----------+-------------+---------------+-------------+-----------------+-------------+-----+\n",
            "|       Acura|    Integra|            16.919|            16.36|   Passenger|           21500.0|        1.8|       140|    101.2| 67.3| 172.4|      2.639|         13.2|             28|     2/2/2012|      58.28014952|Overland_park|66223|\n",
            "|       Acura|         TL|            39.384|           19.875|   Passenger|           28400.0|        3.2|       225|    108.1| 70.3| 192.9|      3.517|         17.2|             25|     6/3/2011|      91.37077766|Overland_park|66223|\n",
            "|       Acura|         CL|            14.114|           18.225|   Passenger|              NULL|        3.2|       225|    106.9| 70.6| 192.0|       3.47|         17.2|             26|     1/4/2012|             NULL|Overland_park|66223|\n",
            "|       Acura|         RL|             8.588|           29.725|   Passenger|           42000.0|        3.5|       210|    114.6| 71.4| 196.6|       3.85|         18.0|             22|    3/10/2011|      91.38977933|Overland_park|66223|\n",
            "|        Audi|         A4|            20.397|           22.255|   Passenger|           23990.0|        1.8|       150|    102.6| 68.2| 178.0|      2.998|         16.4|             27|    10/8/2011|       62.7776392|Overland_park|66223|\n",
            "|        Audi|         A6|             18.78|           23.555|   Passenger|           33950.0|        2.8|       200|    108.7| 76.1| 192.0|      3.561|         18.5|             22|     8/9/2011|      84.56510502|Overland_park|66223|\n",
            "|        Audi|         A8|              1.38|             39.0|   Passenger|           62000.0|        4.2|       310|    113.0| 74.0| 198.2|      3.902|         23.7|             21|    2/27/2012|      134.6568582|Overland_park|66223|\n",
            "|         BMW|       323i|            19.747|             NULL|   Passenger|           26990.0|        2.5|       170|    107.3| 68.4| 176.0|      3.179|         16.6|             26|    6/28/2011|      71.19120671|Overland_park|66223|\n",
            "|         BMW|       328i|             9.231|           28.675|   Passenger|           33400.0|        2.8|       193|    107.3| 68.5| 176.0|      3.197|         16.6|             24|    1/29/2012|      81.87706856|Overland_park|66223|\n",
            "|         BMW|       528i|            17.527|           36.125|   Passenger|           38900.0|        2.8|       193|    111.4| 70.9| 188.0|      3.472|         18.5|             25|     4/4/2011|       83.9987238|Overland_park|66223|\n",
            "|       Buick|    Century|            91.561|           12.475|   Passenger|           21975.0|        3.1|       175|    109.0| 72.7| 194.6|      3.368|         17.5|             25|    11/2/2011|      71.18145132|Overland_park|66223|\n",
            "|       Buick|      Regal|             39.35|            13.74|   Passenger|           25300.0|        3.8|       240|    109.0| 72.7| 196.2|      3.543|         17.5|             23|     9/3/2011|      95.63670253|Overland_park|66223|\n",
            "|       Buick|Park Avenue|            27.851|            20.19|   Passenger|           31965.0|        3.8|       205|    113.8| 74.7| 206.8|      3.778|         18.5|             24|    3/23/2012|      85.82840825|Overland_park|66223|\n",
            "|       Buick|    LeSabre|            83.257|            13.36|   Passenger|           27885.0|        3.8|       205|    112.2| 73.5| 200.0|      3.591|         17.5|             25|    7/23/2011|      84.25452581|Overland_park|66223|\n",
            "|    Cadillac|    DeVille|            63.729|           22.525|   Passenger|           39895.0|        4.6|       275|    115.3| 74.5| 207.2|      3.978|         18.5|             22|    2/23/2012|      113.8545976|Overland_park|66223|\n",
            "|    Cadillac|    Seville|            15.943|             27.1|   Passenger|           44475.0|        4.6|       275|    112.2| 75.0| 201.0|       NULL|         18.5|             22|    4/29/2011|      115.6213578|Overland_park|66223|\n",
            "|    Cadillac|   Eldorado|             6.536|           25.725|   Passenger|           39665.0|        4.6|       275|    108.0| 75.5| 200.6|      3.843|         19.0|             22|   11/27/2011|      113.7658739|Overland_park|66223|\n",
            "|    Cadillac|     Catera|            11.185|           18.225|   Passenger|           31010.0|        3.0|       200|    107.4| 70.3| 194.8|       3.77|         18.0|             22|    9/28/2011|      83.48309358|Overland_park|66223|\n",
            "|   Chevrolet|   Cavalier|           145.519|             9.25|   Passenger|           13260.0|        2.2|       115|    104.1| 67.9| 180.9|      2.676|         14.3|             27|    8/17/2011|      46.36334747|Overland_park|66223|\n",
            "|   Chevrolet|     Malibu|           135.126|           11.225|   Passenger|           16535.0|        3.1|       170|    107.0| 69.4| 190.4|      3.051|         15.0|             25|    3/19/2012|      67.31446216|Overland_park|66223|\n",
            "+------------+-----------+------------------+-----------------+------------+------------------+-----------+----------+---------+-----+------+-----------+-------------+---------------+-------------+-----------------+-------------+-----+\n",
            "only showing top 20 rows\n",
            "\n"
          ]
        }
      ]
    },
    {
      "cell_type": "markdown",
      "source": [
        "Merge Dataframes - Using UnionByName"
      ],
      "metadata": {
        "id": "odD1Ud6AOApz"
      }
    },
    {
      "cell_type": "code",
      "source": [
        "df3 = spark.createDataFrame([[1, 2, 3]], [\"col1\", \"col2\", \"col3\"])\n",
        "df4 = spark.createDataFrame([[4, 5, 6]], [\"col2\", \"col3\", \"col1\"])"
      ],
      "metadata": {
        "id": "l71jxnY0Ozu_"
      },
      "execution_count": 34,
      "outputs": []
    },
    {
      "cell_type": "code",
      "source": [
        "df5= df3.unionByName(df4).show()"
      ],
      "metadata": {
        "colab": {
          "base_uri": "https://localhost:8080/"
        },
        "id": "Fb1wLqh6N8rn",
        "outputId": "dcfe73a7-84ec-4815-d707-280c71180add"
      },
      "execution_count": 35,
      "outputs": [
        {
          "output_type": "stream",
          "name": "stdout",
          "text": [
            "+----+----+----+\n",
            "|col1|col2|col3|\n",
            "+----+----+----+\n",
            "|   1|   2|   3|\n",
            "|   6|   4|   5|\n",
            "+----+----+----+\n",
            "\n"
          ]
        }
      ]
    },
    {
      "cell_type": "markdown",
      "source": [
        "Write Output to File"
      ],
      "metadata": {
        "id": "3YHBWnAaRD8m"
      }
    },
    {
      "cell_type": "code",
      "source": [
        "# Write & Save File in .csv format\n",
        "df6 = df.select(\"Manufacturer\", \"Model\", \"Sales_in_thousands\", \"Vehicle_type\",\"Horsepower\")\n",
        "df6.coalesce(1).write.csv('output')"
      ],
      "metadata": {
        "id": "KET46n7tRRMT"
      },
      "execution_count": 36,
      "outputs": []
    },
    {
      "cell_type": "markdown",
      "source": [
        "Convert dataframe to SQL table"
      ],
      "metadata": {
        "id": "bvnRXYGkRpzf"
      }
    },
    {
      "cell_type": "code",
      "source": [
        "df.createOrReplaceTempView(\"Car_sales\")\n",
        "spark.sql(\"select * from Car_sales\").show(5)"
      ],
      "metadata": {
        "colab": {
          "base_uri": "https://localhost:8080/"
        },
        "id": "U-wsNXr6R3t0",
        "outputId": "e19ff752-6afc-46d8-c153-3957240b98a6"
      },
      "execution_count": 37,
      "outputs": [
        {
          "output_type": "stream",
          "name": "stdout",
          "text": [
            "+------------+-------+------------------+-----------------+------------+------------------+-----------+----------+---------+-----+------+-----------+-------------+---------------+-------------+-----------------+-------------+-----+\n",
            "|Manufacturer|  Model|Sales_in_thousands|year_resale_value|Vehicle_type|Price_in_thousands|Engine_size|Horsepower|Wheelbase|Width|Length|Curb_weight|Fuel_capacity|Fuel_efficiency|Latest_Launch|Power_perf_factor|        Place| code|\n",
            "+------------+-------+------------------+-----------------+------------+------------------+-----------+----------+---------+-----+------+-----------+-------------+---------------+-------------+-----------------+-------------+-----+\n",
            "|       Acura|Integra|            16.919|            16.36|   Passenger|           21500.0|        1.8|       140|    101.2| 67.3| 172.4|      2.639|         13.2|             28|     2/2/2012|      58.28014952|Overland_park|66223|\n",
            "|       Acura|     TL|            39.384|           19.875|   Passenger|           28400.0|        3.2|       225|    108.1| 70.3| 192.9|      3.517|         17.2|             25|     6/3/2011|      91.37077766|Overland_park|66223|\n",
            "|       Acura|     CL|            14.114|           18.225|   Passenger|              NULL|        3.2|       225|    106.9| 70.6| 192.0|       3.47|         17.2|             26|     1/4/2012|             NULL|Overland_park|66223|\n",
            "|       Acura|     RL|             8.588|           29.725|   Passenger|           42000.0|        3.5|       210|    114.6| 71.4| 196.6|       3.85|         18.0|             22|    3/10/2011|      91.38977933|Overland_park|66223|\n",
            "|        Audi|     A4|            20.397|           22.255|   Passenger|           23990.0|        1.8|       150|    102.6| 68.2| 178.0|      2.998|         16.4|             27|    10/8/2011|       62.7776392|Overland_park|66223|\n",
            "+------------+-------+------------------+-----------------+------------+------------------+-----------+----------+---------+-----+------+-----------+-------------+---------------+-------------+-----------------+-------------+-----+\n",
            "only showing top 5 rows\n",
            "\n"
          ]
        }
      ]
    },
    {
      "cell_type": "markdown",
      "source": [
        "Stop Spark Instance Created When Done"
      ],
      "metadata": {
        "id": "dUNVfMhTSHMs"
      }
    },
    {
      "cell_type": "code",
      "source": [
        "spark.stop"
      ],
      "metadata": {
        "colab": {
          "base_uri": "https://localhost:8080/"
        },
        "id": "jzhu3LbFSIkL",
        "outputId": "ce947e41-a940-43f0-8ab5-5d47221a1b36"
      },
      "execution_count": 38,
      "outputs": [
        {
          "output_type": "execute_result",
          "data": {
            "text/plain": [
              "<bound method SparkSession.stop of <pyspark.sql.session.SparkSession object at 0x7aee3a194670>>"
            ]
          },
          "metadata": {},
          "execution_count": 38
        }
      ]
    }
  ]
}