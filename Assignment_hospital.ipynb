{
  "nbformat": 4,
  "nbformat_minor": 0,
  "metadata": {
    "colab": {
      "provenance": []
    },
    "kernelspec": {
      "name": "python3",
      "display_name": "Python 3"
    },
    "language_info": {
      "name": "python"
    }
  },
  "cells": [
    {
      "cell_type": "code",
      "execution_count": 1,
      "metadata": {
        "id": "e-HjGVeZ5rE9"
      },
      "outputs": [],
      "source": [
        "from google.colab import drive"
      ]
    },
    {
      "cell_type": "code",
      "source": [
        "!pip install pyspark"
      ],
      "metadata": {
        "colab": {
          "base_uri": "https://localhost:8080/"
        },
        "id": "Nx324U0l6_K0",
        "outputId": "c1ab241f-2f70-4307-8cc9-8d519df9b17b"
      },
      "execution_count": 2,
      "outputs": [
        {
          "output_type": "stream",
          "name": "stdout",
          "text": [
            "Collecting pyspark\n",
            "  Downloading pyspark-3.5.0.tar.gz (316.9 MB)\n",
            "\u001b[2K     \u001b[90m━━━━━━━━━━━━━━━━━━━━━━━━━━━━━━━━━━━━━━━━\u001b[0m \u001b[32m316.9/316.9 MB\u001b[0m \u001b[31m2.6 MB/s\u001b[0m eta \u001b[36m0:00:00\u001b[0m\n",
            "\u001b[?25h  Preparing metadata (setup.py) ... \u001b[?25l\u001b[?25hdone\n",
            "Requirement already satisfied: py4j==0.10.9.7 in /usr/local/lib/python3.10/dist-packages (from pyspark) (0.10.9.7)\n",
            "Building wheels for collected packages: pyspark\n",
            "  Building wheel for pyspark (setup.py) ... \u001b[?25l\u001b[?25hdone\n",
            "  Created wheel for pyspark: filename=pyspark-3.5.0-py2.py3-none-any.whl size=317425344 sha256=ac0992562bed6e3ea8e317f1e599b6e884eadbafddeab55a1145896b017d9f35\n",
            "  Stored in directory: /root/.cache/pip/wheels/41/4e/10/c2cf2467f71c678cfc8a6b9ac9241e5e44a01940da8fbb17fc\n",
            "Successfully built pyspark\n",
            "Installing collected packages: pyspark\n",
            "Successfully installed pyspark-3.5.0\n"
          ]
        }
      ]
    },
    {
      "cell_type": "code",
      "source": [
        "from pyspark.sql import SparkSession"
      ],
      "metadata": {
        "id": "D7K8SegP7Cr1"
      },
      "execution_count": 3,
      "outputs": []
    },
    {
      "cell_type": "code",
      "source": [
        "spark = SparkSession.builder.appName(\"Assignment_hospital\").getOrCreate()"
      ],
      "metadata": {
        "id": "RT4cfXv69u2x"
      },
      "execution_count": 11,
      "outputs": []
    },
    {
      "cell_type": "code",
      "source": [
        "spark"
      ],
      "metadata": {
        "colab": {
          "base_uri": "https://localhost:8080/",
          "height": 221
        },
        "id": "Wn3Fds3V917Z",
        "outputId": "5f314098-16ca-40e9-fb6e-95cef2c93865"
      },
      "execution_count": 12,
      "outputs": [
        {
          "output_type": "execute_result",
          "data": {
            "text/plain": [
              "<pyspark.sql.session.SparkSession at 0x78d9ad2848b0>"
            ],
            "text/html": [
              "\n",
              "            <div>\n",
              "                <p><b>SparkSession - in-memory</b></p>\n",
              "                \n",
              "        <div>\n",
              "            <p><b>SparkContext</b></p>\n",
              "\n",
              "            <p><a href=\"http://bc124b454a9d:4050\">Spark UI</a></p>\n",
              "\n",
              "            <dl>\n",
              "              <dt>Version</dt>\n",
              "                <dd><code>v3.5.0</code></dd>\n",
              "              <dt>Master</dt>\n",
              "                <dd><code>local</code></dd>\n",
              "              <dt>AppName</dt>\n",
              "                <dd><code>week6 - spark hands on</code></dd>\n",
              "            </dl>\n",
              "        </div>\n",
              "        \n",
              "            </div>\n",
              "        "
            ]
          },
          "metadata": {},
          "execution_count": 12
        }
      ]
    },
    {
      "cell_type": "markdown",
      "source": [
        "Import and Read Data file"
      ],
      "metadata": {
        "id": "pTaLgzMG7Vmx"
      }
    },
    {
      "cell_type": "code",
      "source": [
        "df = spark.read.csv('/content/Hospital General Information.csv',sep=',', inferSchema = True, header=True)"
      ],
      "metadata": {
        "id": "15TdKgxb7Ppx"
      },
      "execution_count": 64,
      "outputs": []
    },
    {
      "cell_type": "markdown",
      "source": [
        "Display Schema"
      ],
      "metadata": {
        "id": "jURgldaz-o9_"
      }
    },
    {
      "cell_type": "code",
      "source": [
        "df.printSchema()"
      ],
      "metadata": {
        "colab": {
          "base_uri": "https://localhost:8080/"
        },
        "id": "SwAsTN-K7PeT",
        "outputId": "e41b8095-39d4-4767-8be1-0998d9fbd282"
      },
      "execution_count": 65,
      "outputs": [
        {
          "output_type": "stream",
          "name": "stdout",
          "text": [
            "root\n",
            " |-- Provider_ID: integer (nullable = true)\n",
            " |-- Hospital_Name: string (nullable = true)\n",
            " |-- Address: string (nullable = true)\n",
            " |-- City: string (nullable = true)\n",
            " |-- State: string (nullable = true)\n",
            " |-- ZIP_Code: integer (nullable = true)\n",
            " |-- County_Name: string (nullable = true)\n",
            " |-- Phone Number: long (nullable = true)\n",
            " |-- Hospital_Type: string (nullable = true)\n",
            " |-- Hospital_Ownership: string (nullable = true)\n",
            " |-- Emergency_Services: string (nullable = true)\n",
            " |-- Meets_criteria for meaningful use of EHRs: string (nullable = true)\n",
            " |-- Hospital overall rating: string (nullable = true)\n",
            " |-- Hospital overall rating footnote: string (nullable = true)\n",
            " |-- Mortality national comparison: string (nullable = true)\n",
            " |-- Mortality national comparison footnote: string (nullable = true)\n",
            " |-- Safety of care national comparison: string (nullable = true)\n",
            " |-- Safety of care national comparison footnote: string (nullable = true)\n",
            " |-- Readmission national comparison: string (nullable = true)\n",
            " |-- Readmission national comparison footnote: string (nullable = true)\n",
            " |-- Patient experience national comparison: string (nullable = true)\n",
            " |-- Patient experience national comparison footnote: string (nullable = true)\n",
            " |-- Effectiveness of care national comparison: string (nullable = true)\n",
            " |-- Effectiveness of care national comparison footnote: string (nullable = true)\n",
            " |-- Timeliness of care national comparison: string (nullable = true)\n",
            " |-- Timeliness of care national comparison footnote: string (nullable = true)\n",
            " |-- Efficient use of medical imaging national comparison: string (nullable = true)\n",
            " |-- Efficient use of medical imaging national comparison footnote: string (nullable = true)\n",
            "\n"
          ]
        }
      ]
    },
    {
      "cell_type": "markdown",
      "source": [
        "Find DataType of PySpark DataFrame"
      ],
      "metadata": {
        "id": "K1PAw-Id_3DB"
      }
    },
    {
      "cell_type": "code",
      "source": [
        "print(type(df))"
      ],
      "metadata": {
        "colab": {
          "base_uri": "https://localhost:8080/"
        },
        "id": "RmfbjH99_2ZI",
        "outputId": "d5e339da-b67e-4474-c257-6c4fe0418290"
      },
      "execution_count": 66,
      "outputs": [
        {
          "output_type": "stream",
          "name": "stdout",
          "text": [
            "<class 'pyspark.sql.dataframe.DataFrame'>\n"
          ]
        }
      ]
    },
    {
      "cell_type": "markdown",
      "source": [
        "Display Sample Rows from data file"
      ],
      "metadata": {
        "id": "8U1RS1-3_8wH"
      }
    },
    {
      "cell_type": "code",
      "source": [
        "df.show(20)"
      ],
      "metadata": {
        "colab": {
          "base_uri": "https://localhost:8080/"
        },
        "id": "FXl1Gpj7ABws",
        "outputId": "2a14ab58-d89e-43d6-de01-47cde447763a"
      },
      "execution_count": 67,
      "outputs": [
        {
          "output_type": "stream",
          "name": "stdout",
          "text": [
            "+-----------+--------------------+--------------------+----------+-----+--------+-----------+------------+--------------------+--------------------+------------------+-----------------------------------------+-----------------------+--------------------------------+-----------------------------+--------------------------------------+----------------------------------+-------------------------------------------+-------------------------------+----------------------------------------+--------------------------------------+-----------------------------------------------+-----------------------------------------+--------------------------------------------------+--------------------------------------+-----------------------------------------------+----------------------------------------------------+-------------------------------------------------------------+\n",
            "|Provider_ID|       Hospital_Name|             Address|      City|State|ZIP_Code|County_Name|Phone Number|       Hospital_Type|  Hospital_Ownership|Emergency_Services|Meets_criteria for meaningful use of EHRs|Hospital overall rating|Hospital overall rating footnote|Mortality national comparison|Mortality national comparison footnote|Safety of care national comparison|Safety of care national comparison footnote|Readmission national comparison|Readmission national comparison footnote|Patient experience national comparison|Patient experience national comparison footnote|Effectiveness of care national comparison|Effectiveness of care national comparison footnote|Timeliness of care national comparison|Timeliness of care national comparison footnote|Efficient use of medical imaging national comparison|Efficient use of medical imaging national comparison footnote|\n",
            "+-----------+--------------------+--------------------+----------+-----+--------+-----------+------------+--------------------+--------------------+------------------+-----------------------------------------+-----------------------+--------------------------------+-----------------------------+--------------------------------------+----------------------------------+-------------------------------------------+-------------------------------+----------------------------------------+--------------------------------------+-----------------------------------------------+-----------------------------------------+--------------------------------------------------+--------------------------------------+-----------------------------------------------+----------------------------------------------------+-------------------------------------------------------------+\n",
            "|      10001|SOUTHEAST ALABAMA...|1108 ROSS CLARK C...|    DOTHAN|   AL|   36301|    HOUSTON|  3347938701|Acute Care Hospitals|Government - Hosp...|               Yes|                                     NULL|                      3|                            NULL|         Same as the natio...|                                  NULL|              Above the nationa...|                                       NULL|           Same as the natio...|                                    NULL|                  Below the nationa...|                                           NULL|                     Same as the natio...|                                              NULL|                  Same as the natio...|                                           NULL|                                Same as the natio...|                                                         NULL|\n",
            "|      10005|MARSHALL MEDICAL ...|2505 U S HIGHWAY ...|      BOAZ|   AL|   35957|   MARSHALL|  2565938310|Acute Care Hospitals|Government - Hosp...|               Yes|                                        Y|                      3|                            NULL|         Below the nationa...|                                  NULL|              Same as the natio...|                                       NULL|           Above the nationa...|                                    NULL|                  Same as the natio...|                                           NULL|                     Same as the natio...|                                              NULL|                  Above the nationa...|                                           NULL|                                Below the nationa...|                                                         NULL|\n",
            "|      10006|ELIZA COFFEE MEMO...|  205 MARENGO STREET|  FLORENCE|   AL|   35631| LAUDERDALE|  2567688400|Acute Care Hospitals|Government - Hosp...|               Yes|                                        Y|                      2|                            NULL|         Below the nationa...|                                  NULL|              Same as the natio...|                                       NULL|           Same as the natio...|                                    NULL|                  Below the nationa...|                                           NULL|                     Same as the natio...|                                              NULL|                  Above the nationa...|                                           NULL|                                Same as the natio...|                                                         NULL|\n",
            "|      10007|MIZELL MEMORIAL H...|       702 N MAIN ST|       OPP|   AL|   36467|  COVINGTON|  3344933541|Acute Care Hospitals|Voluntary non-pro...|               Yes|                                        Y|                      2|                            NULL|         Same as the natio...|                                  NULL|                     Not Available|                       Results are not a...|           Below the nationa...|                                    NULL|                  Same as the natio...|                                           NULL|                     Below the nationa...|                                              NULL|                  Above the nationa...|                                           NULL|                                       Not Available|                                         Results are not a...|\n",
            "|      10008|CRENSHAW COMMUNIT...| 101 HOSPITAL CIRCLE|   LUVERNE|   AL|   36049|   CRENSHAW|  3343353374|Acute Care Hospitals|         Proprietary|               Yes|                                        Y|                      3|                            NULL|         Same as the natio...|                                  NULL|                     Not Available|                       Results are not a...|           Same as the natio...|                                    NULL|                         Not Available|                           Results are not a...|                     Same as the natio...|                                              NULL|                  Above the nationa...|                                           NULL|                                       Not Available|                                         Results are not a...|\n",
            "|      10011|   ST VINCENT'S EAST|50 MEDICAL PARK E...|BIRMINGHAM|   AL|   35235|  JEFFERSON|  2058383122|Acute Care Hospitals|Voluntary non-pro...|               Yes|                                        Y|                      2|                            NULL|         Same as the natio...|                                  NULL|              Below the nationa...|                                       NULL|           Same as the natio...|                                    NULL|                  Below the nationa...|                                           NULL|                     Below the nationa...|                                              NULL|                  Same as the natio...|                                           NULL|                                Same as the natio...|                                                         NULL|\n",
            "|      10012|DEKALB REGIONAL M...|200 MED CENTER DRIVE|FORT PAYNE|   AL|   35968|    DE KALB|  2568453150|Acute Care Hospitals|         Proprietary|               Yes|                                        Y|                      3|                            NULL|         Below the nationa...|                                  NULL|              Same as the natio...|                                       NULL|           Same as the natio...|                                    NULL|                  Same as the natio...|                                           NULL|                     Same as the natio...|                                              NULL|                  Above the nationa...|                                           NULL|                                Same as the natio...|                                                         NULL|\n",
            "|      10016|SHELBY BAPTIST ME...|1000 FIRST STREET...| ALABASTER|   AL|   35007|     SHELBY|  2056208100|Acute Care Hospitals|Voluntary non-pro...|               Yes|                                        Y|                      3|                            NULL|         Same as the natio...|                                  NULL|              Above the nationa...|                                       NULL|           Above the nationa...|                                    NULL|                  Below the nationa...|                                           NULL|                     Same as the natio...|                                              NULL|                  Below the nationa...|                                           NULL|                                Below the nationa...|                                                         NULL|\n",
            "|      10018|CALLAHAN EYE HOSP...|1720 UNIVERSITY BLVD|BIRMINGHAM|   AL|   35233|  JEFFERSON|  2053258100|Acute Care Hospitals|Voluntary non-pro...|               Yes|                                        Y|          Not Available|            There are too few...|                Not Available|                  Results are not a...|                     Not Available|                       Results are not a...|                  Not Available|                    Results are not a...|                         Not Available|                           Results are not a...|                     Same as the natio...|                                              NULL|                  Same as the natio...|                                           NULL|                                       Not Available|                                         Results are not a...|\n",
            "|      10019|HELEN KELLER MEMO...|1300 SOUTH MONTGO...| SHEFFIELD|   AL|   35660|    COLBERT|  2563864556|Acute Care Hospitals|Government - Hosp...|               Yes|                                        Y|                      2|                            NULL|         Below the nationa...|                                  NULL|              Below the nationa...|                                       NULL|           Below the nationa...|                                    NULL|                  Below the nationa...|                                           NULL|                     Same as the natio...|                                              NULL|                  Above the nationa...|                                           NULL|                                Below the nationa...|                                                         NULL|\n",
            "|      10021| DALE MEDICAL CENTER|    126 HOSPITAL AVE|     OZARK|   AL|   36360|       DALE|  3347742601|Acute Care Hospitals|Government - Hosp...|               Yes|                                        Y|                      4|                            NULL|         Same as the natio...|                                  NULL|              Same as the natio...|                                       NULL|           Same as the natio...|                                    NULL|                  Above the nationa...|                                           NULL|                     Same as the natio...|                                              NULL|                  Above the nationa...|                                           NULL|                                Same as the natio...|                                                         NULL|\n",
            "|      10022|CHEROKEE MEDICAL ...|    400 NORTHWOOD DR|    CENTRE|   AL|   35960|   CHEROKEE|  2569275531|Acute Care Hospitals|Voluntary non-pro...|               Yes|                                        Y|                      4|                            NULL|         Same as the natio...|                                  NULL|                     Not Available|                       Results are not a...|           Same as the natio...|                                    NULL|                  Above the nationa...|                                           NULL|                     Same as the natio...|                                              NULL|                  Same as the natio...|                                           NULL|                                       Not Available|                                         Results are not a...|\n",
            "|      10023|BAPTIST MEDICAL C...|2105 EAST SOUTH B...|MONTGOMERY|   AL|   36116| MONTGOMERY|  3342882100|Acute Care Hospitals|Government - Hosp...|               Yes|                                        Y|                      3|                            NULL|         Below the nationa...|                                  NULL|              Above the nationa...|                                       NULL|           Same as the natio...|                                    NULL|                  Below the nationa...|                                           NULL|                     Same as the natio...|                                              NULL|                  Below the nationa...|                                           NULL|                                Above the nationa...|                                                         NULL|\n",
            "|      10024|JACKSON HOSPITAL ...|    1725 PINE STREET|MONTGOMERY|   AL|   36106| MONTGOMERY|  3342938000|Acute Care Hospitals|Voluntary non-pro...|               Yes|                                        Y|                      3|                            NULL|         Same as the natio...|                                  NULL|              Above the nationa...|                                       NULL|           Above the nationa...|                                    NULL|                  Same as the natio...|                                           NULL|                     Same as the natio...|                                              NULL|                  Below the nationa...|                                           NULL|                                Same as the natio...|                                                         NULL|\n",
            "|      10029|EAST ALABAMA MEDI...|2000 PEPPERELL PA...|   OPELIKA|   AL|   36801|        LEE|  3347493411|Acute Care Hospitals|Government - Hosp...|               Yes|                                        Y|                      4|                            NULL|         Same as the natio...|                                  NULL|              Above the nationa...|                                       NULL|           Above the nationa...|                                    NULL|                  Above the nationa...|                                           NULL|                     Same as the natio...|                                              NULL|                  Above the nationa...|                                           NULL|                                Same as the natio...|                                                         NULL|\n",
            "|      10032|    WEDOWEE HOSPITAL|209 NORTH MAIN ST...|   WEDOWEE|   AL|   36278|   RANDOLPH|  2563572111|Acute Care Hospitals|Government - Hosp...|               Yes|                                        Y|                      4|                            NULL|         Same as the natio...|                                  NULL|                     Not Available|                       Results are not a...|           Same as the natio...|                                    NULL|                         Not Available|                           Results are not a...|                     Same as the natio...|                                              NULL|                  Same as the natio...|                                           NULL|                                       Not Available|                                         Results are not a...|\n",
            "|      10033|UNIVERSITY OF ALA...|619 SOUTH 19TH ST...|BIRMINGHAM|   AL|   35233|  JEFFERSON|  2059344011|Acute Care Hospitals|  Government - State|               Yes|                                        Y|                      3|                            NULL|         Same as the natio...|                                  NULL|              Above the nationa...|                                       NULL|           Below the nationa...|                                    NULL|                  Above the nationa...|                                           NULL|                     Same as the natio...|                                              NULL|                  Below the nationa...|                                           NULL|                                Below the nationa...|                                                         NULL|\n",
            "|      10034|COMMUNITY HOSPITA...| 805 FRIENDSHIP ROAD| TALLASSEE|   AL|   36078|     ELMORE|  3342836541|Acute Care Hospitals|Voluntary non-pro...|               Yes|                                        Y|                      4|                            NULL|         Same as the natio...|                                  NULL|                     Not Available|                       Results are not a...|           Same as the natio...|                                    NULL|                  Same as the natio...|                                           NULL|                     Same as the natio...|                                              NULL|                  Same as the natio...|                                           NULL|                                       Not Available|                                         Results are not a...|\n",
            "|      10035|CULLMAN REGIONAL ...|1912 ALABAMA HIGH...|   CULLMAN|   AL|   35058|    CULLMAN|  2567372000|Acute Care Hospitals|Government - Hosp...|               Yes|                                        Y|                      3|                            NULL|         Below the nationa...|                                  NULL|              Above the nationa...|                                       NULL|           Same as the natio...|                                    NULL|                  Same as the natio...|                                           NULL|                     Same as the natio...|                                              NULL|                  Above the nationa...|                                           NULL|                                Same as the natio...|                                                         NULL|\n",
            "|      10036|ANDALUSIA REGIONA...|849 SOUTH THREE N...| ANDALUSIA|   AL|   36420|  COVINGTON|  3342228466|Acute Care Hospitals|         Proprietary|               Yes|                                        Y|                      3|                            NULL|         Same as the natio...|                                  NULL|              Below the nationa...|                                       NULL|           Below the nationa...|                                    NULL|                  Below the nationa...|                                           NULL|                     Same as the natio...|                                              NULL|                  Above the nationa...|                                           NULL|                                Same as the natio...|                                                         NULL|\n",
            "+-----------+--------------------+--------------------+----------+-----+--------+-----------+------------+--------------------+--------------------+------------------+-----------------------------------------+-----------------------+--------------------------------+-----------------------------+--------------------------------------+----------------------------------+-------------------------------------------+-------------------------------+----------------------------------------+--------------------------------------+-----------------------------------------------+-----------------------------------------+--------------------------------------------------+--------------------------------------+-----------------------------------------------+----------------------------------------------------+-------------------------------------------------------------+\n",
            "only showing top 20 rows\n",
            "\n"
          ]
        }
      ]
    },
    {
      "cell_type": "markdown",
      "source": [
        "Count total number of records"
      ],
      "metadata": {
        "id": "wRa_XGsNAJ3b"
      }
    },
    {
      "cell_type": "code",
      "source": [
        "df.count()"
      ],
      "metadata": {
        "colab": {
          "base_uri": "https://localhost:8080/"
        },
        "id": "DJNEYaM6AM8l",
        "outputId": "2619914b-4d78-4f0c-fc2e-1a4387cb00a4"
      },
      "execution_count": 68,
      "outputs": [
        {
          "output_type": "execute_result",
          "data": {
            "text/plain": [
              "4812"
            ]
          },
          "metadata": {},
          "execution_count": 68
        }
      ]
    },
    {
      "cell_type": "markdown",
      "source": [
        "Display a subset of selected columns"
      ],
      "metadata": {
        "id": "j8_7psKtAQ7f"
      }
    },
    {
      "cell_type": "code",
      "source": [
        "df.select('Provider_ID','Hospital_Name','County_Name').show(10)"
      ],
      "metadata": {
        "colab": {
          "base_uri": "https://localhost:8080/"
        },
        "id": "rwGzdlsOAVfH",
        "outputId": "e1d69911-3da3-4ce9-ce72-25274a2e6883"
      },
      "execution_count": 69,
      "outputs": [
        {
          "output_type": "stream",
          "name": "stdout",
          "text": [
            "+-----------+--------------------+-----------+\n",
            "|Provider_ID|       Hospital_Name|County_Name|\n",
            "+-----------+--------------------+-----------+\n",
            "|      10001|SOUTHEAST ALABAMA...|    HOUSTON|\n",
            "|      10005|MARSHALL MEDICAL ...|   MARSHALL|\n",
            "|      10006|ELIZA COFFEE MEMO...| LAUDERDALE|\n",
            "|      10007|MIZELL MEMORIAL H...|  COVINGTON|\n",
            "|      10008|CRENSHAW COMMUNIT...|   CRENSHAW|\n",
            "|      10011|   ST VINCENT'S EAST|  JEFFERSON|\n",
            "|      10012|DEKALB REGIONAL M...|    DE KALB|\n",
            "|      10016|SHELBY BAPTIST ME...|     SHELBY|\n",
            "|      10018|CALLAHAN EYE HOSP...|  JEFFERSON|\n",
            "|      10019|HELEN KELLER MEMO...|    COLBERT|\n",
            "+-----------+--------------------+-----------+\n",
            "only showing top 10 rows\n",
            "\n"
          ]
        }
      ]
    },
    {
      "cell_type": "markdown",
      "source": [
        "Order By selected column"
      ],
      "metadata": {
        "id": "-tjbXwXqBCQ2"
      }
    },
    {
      "cell_type": "code",
      "source": [
        "df.orderBy('Hospital_Name').show()"
      ],
      "metadata": {
        "colab": {
          "base_uri": "https://localhost:8080/"
        },
        "id": "_54rAT4vBDb3",
        "outputId": "4c1d0602-0a78-4ac8-efb4-bfa408c2306a"
      },
      "execution_count": 70,
      "outputs": [
        {
          "output_type": "stream",
          "name": "stdout",
          "text": [
            "+-----------+--------------------+--------------------+------------+-----+--------+-----------+------------+--------------------+--------------------+------------------+-----------------------------------------+-----------------------+--------------------------------+-----------------------------+--------------------------------------+----------------------------------+-------------------------------------------+-------------------------------+----------------------------------------+--------------------------------------+-----------------------------------------------+-----------------------------------------+--------------------------------------------------+--------------------------------------+-----------------------------------------------+----------------------------------------------------+-------------------------------------------------------------+\n",
            "|Provider_ID|       Hospital_Name|             Address|        City|State|ZIP_Code|County_Name|Phone Number|       Hospital_Type|  Hospital_Ownership|Emergency_Services|Meets_criteria for meaningful use of EHRs|Hospital overall rating|Hospital overall rating footnote|Mortality national comparison|Mortality national comparison footnote|Safety of care national comparison|Safety of care national comparison footnote|Readmission national comparison|Readmission national comparison footnote|Patient experience national comparison|Patient experience national comparison footnote|Effectiveness of care national comparison|Effectiveness of care national comparison footnote|Timeliness of care national comparison|Timeliness of care national comparison footnote|Efficient use of medical imaging national comparison|Efficient use of medical imaging national comparison footnote|\n",
            "+-----------+--------------------+--------------------+------------+-----+--------+-----------+------------+--------------------+--------------------+------------------+-----------------------------------------+-----------------------+--------------------------------+-----------------------------+--------------------------------------+----------------------------------+-------------------------------------------+-------------------------------+----------------------------------------+--------------------------------------+-----------------------------------------------+-----------------------------------------+--------------------------------------------------+--------------------------------------+-----------------------------------------------+----------------------------------------------------+-------------------------------------------------------------+\n",
            "|     421301|ABBEVILLE AREA ME...|  420 THOMSON CIRCLE|   ABBEVILLE|   SC|   29620|  ABBEVILLE|  8643665011|Critical Access H...|  Government - Local|               Yes|                                        Y|                      4|                            NULL|         Same as the natio...|                                  NULL|                     Not Available|                       Results are not a...|           Same as the natio...|                                    NULL|                  Above the nationa...|                                           NULL|                     Same as the natio...|                                              NULL|                  Above the nationa...|                                           NULL|                                Same as the natio...|                                                         NULL|\n",
            "|     190034|ABBEVILLE GENERAL...|   118 N HOSPITAL DR|   ABBEVILLE|   LA|   70510|  VERMILION|  3378935466|Acute Care Hospitals|Government - Hosp...|               Yes|                                        Y|                      3|                            NULL|         Same as the natio...|                                  NULL|              Same as the natio...|                                       NULL|           Same as the natio...|                                    NULL|                  Same as the natio...|                                           NULL|                     Same as the natio...|                                              NULL|                  Same as the natio...|                                           NULL|                                       Not Available|                                         Results are not a...|\n",
            "|     240057|ABBOTT NORTHWESTE...|800 EAST 28TH STREET| MINNEAPOLIS|   MN|   55407|   HENNEPIN|  6128634000|Acute Care Hospitals|Voluntary non-pro...|               Yes|                                        Y|                      4|                            NULL|         Same as the natio...|                                  NULL|              Below the nationa...|                                       NULL|           Above the nationa...|                                    NULL|                  Above the nationa...|                                           NULL|                     Same as the natio...|                                              NULL|                  Same as the natio...|                                           NULL|                                Same as the natio...|                                                         NULL|\n",
            "|     450558|ABILENE REGIONAL ...|      6250 HWY 83/84|     ABILENE|   TX|   79606|     TAYLOR|  3254281000|Acute Care Hospitals|         Proprietary|               Yes|                                        Y|                      3|                            NULL|         Below the nationa...|                                  NULL|              Above the nationa...|                                       NULL|           Above the nationa...|                                    NULL|                  Below the nationa...|                                           NULL|                     Same as the natio...|                                              NULL|                  Same as the natio...|                                           NULL|                                Same as the natio...|                                                         NULL|\n",
            "|     390231|ABINGTON MEMORIAL...|  1200 OLD YORK ROAD|    ABINGTON|   PA|   19001| MONTGOMERY|  2154812000|Acute Care Hospitals|Voluntary non-pro...|               Yes|                                        Y|                      2|                            NULL|         Same as the natio...|                                  NULL|              Below the nationa...|                                       NULL|           Below the nationa...|                                    NULL|                  Same as the natio...|                                           NULL|                     Same as the natio...|                                              NULL|                  Below the nationa...|                                           NULL|                                Above the nationa...|                                                         NULL|\n",
            "|     141322|ABRAHAM LINCOLN M...|  200 STAHLHUT DRIVE|     LINCOLN|   IL|   62656|      LOGAN|  2177322161|Critical Access H...|Voluntary non-pro...|               Yes|                                        Y|                      4|                            NULL|         Same as the natio...|                                  NULL|                     Not Available|                       Results are not a...|           Above the nationa...|                                    NULL|                  Above the nationa...|                                           NULL|                     Same as the natio...|                                              NULL|                  Above the nationa...|                                           NULL|                                       Not Available|                                         Results are not a...|\n",
            "|      30094|ABRAZO ARROWHEAD ...|18701 NORTH 67TH ...|    GLENDALE|   AZ|   85308|   MARICOPA|  6235611000|Acute Care Hospitals|         Proprietary|               Yes|                                        Y|                      3|                            NULL|         Same as the natio...|                                  NULL|              Same as the natio...|                                       NULL|           Same as the natio...|                                    NULL|                  Below the nationa...|                                           NULL|                     Below the nationa...|                                              NULL|                  Same as the natio...|                                           NULL|                                       Not Available|                                         Results are not a...|\n",
            "|      30030|ABRAZO CENTRAL CA...|2000 WEST BETHANY...|     PHOENIX|   AZ|   85015|   MARICOPA|  6022490212|Acute Care Hospitals|         Proprietary|               Yes|                                        Y|                      2|                            NULL|         Same as the natio...|                                  NULL|              Above the nationa...|                                       NULL|           Below the nationa...|                                    NULL|                  Below the nationa...|                                           NULL|                     Below the nationa...|                                              NULL|                  Same as the natio...|                                           NULL|                                       Not Available|                                         Results are not a...|\n",
            "|      30001|ABRAZO MARYVALE C...|5102 WEST CAMPBEL...|     PHOENIX|   AZ|   85031|   MARICOPA|  6238485000|Acute Care Hospitals|         Proprietary|               Yes|                                        Y|                      2|                            NULL|         Same as the natio...|                                  NULL|              Same as the natio...|                                       NULL|           Same as the natio...|                                    NULL|                  Below the nationa...|                                           NULL|                     Same as the natio...|                                              NULL|                  Same as the natio...|                                           NULL|                                       Not Available|                                         Results are not a...|\n",
            "|      30083|ABRAZO SCOTTSDALE...| 3929 EAST BELL ROAD|     PHOENIX|   AZ|   85032|   MARICOPA|  6029235000|Acute Care Hospitals|         Proprietary|               Yes|                                        Y|                      2|                            NULL|         Same as the natio...|                                  NULL|              Same as the natio...|                                       NULL|           Same as the natio...|                                    NULL|                  Below the nationa...|                                           NULL|                     Same as the natio...|                                              NULL|                  Same as the natio...|                                           NULL|                                       Not Available|                                         Results are not a...|\n",
            "|      30110|  ABRAZO WEST CAMPUS|13677 WEST MCDOWE...|    GOODYEAR|   AZ|   85395|   MARICOPA|  6238821515|Acute Care Hospitals|         Proprietary|               Yes|                                        Y|                      2|                            NULL|         Same as the natio...|                                  NULL|              Below the nationa...|                                       NULL|           Same as the natio...|                                    NULL|                  Below the nationa...|                                           NULL|                     Below the nationa...|                                              NULL|                  Same as the natio...|                                           NULL|                                Same as the natio...|                                                         NULL|\n",
            "|     191322|ABROM KAPLAN MEMO...|1310 WEST SEVENTH...|      KAPLAN|   LA|   70548|  VERMILION|  3376438300|Critical Access H...|Government - Hosp...|               Yes|                                        Y|          Not Available|            There are too few...|         Same as the natio...|                                  NULL|                     Not Available|                       Results are not a...|           Same as the natio...|                                    NULL|                         Not Available|                           Results are not a...|                            Not Available|                              Results are not a...|                         Not Available|                           Results are not a...|                                       Not Available|                                         Results are not a...|\n",
            "|     190044|ACADIA GENERAL HO...|1305 CROWLEY RAYN...|     CROWLEY|   LA|   70526|     ACADIA|  3377833222|Acute Care Hospitals|         Proprietary|               Yes|                                        Y|                      2|                            NULL|         Same as the natio...|                                  NULL|              Below the nationa...|                                       NULL|           Same as the natio...|                                    NULL|                  Same as the natio...|                                           NULL|                     Same as the natio...|                                              NULL|                  Above the nationa...|                                           NULL|                                       Not Available|                                         Results are not a...|\n",
            "|     191319|    ACADIA ST LANDRY|810 SOUTH BROADWA...|CHURCH POINT|   LA|   70525|     ACADIA|  3376845435|Critical Access H...|Government - Hosp...|               Yes|                                        Y|          Not Available|            There are too few...|                Not Available|                  Results are not a...|                     Not Available|                       Results are not a...|                  Not Available|                    Results are not a...|                         Not Available|                           Results are not a...|                            Not Available|                              Results are not a...|                         Not Available|                           Results are not a...|                                       Not Available|                                         Results are not a...|\n",
            "|     390163|       ACMH HOSPITAL|     ONE NOLTE DRIVE|  KITTANNING|   PA|   16201|  ARMSTRONG|  7245438500|Acute Care Hospitals|Voluntary non-pro...|               Yes|                                        Y|                      4|                            NULL|         Same as the natio...|                                  NULL|              Above the nationa...|                                       NULL|           Above the nationa...|                                    NULL|                  Same as the natio...|                                           NULL|                     Same as the natio...|                                              NULL|                  Above the nationa...|                                           NULL|                                Same as the natio...|                                                         NULL|\n",
            "|     670102|AD HOSPITAL EAST,...|12950 EAST FREEWA...|     HOUSTON|   TX|   77015|     HARRIS|  7133303897|Acute Care Hospitals|         Proprietary|               Yes|                                     NULL|          Not Available|            Data are shown on...|                Not Available|                  Data are shown on...|                     Not Available|                       Data are shown on...|                  Not Available|                    Data are shown on...|                         Not Available|                           Data are shown on...|                            Not Available|                              Data are shown on...|                         Not Available|                           Data are shown on...|                                       Not Available|                                         Data are shown on...|\n",
            "|     161310|ADAIR COUNTY MEMO...|         609 SE KENT|  GREENFIELD|   IA|   50849|      ADAIR|  6417432123|Critical Access H...|  Government - Local|               Yes|                                        Y|          Not Available|            There are too few...|                Not Available|                  Results are not a...|                     Not Available|                       Results are not a...|                  Not Available|                    Results are not a...|                         Not Available|                           Results are not a...|                     Same as the natio...|                                              NULL|                  Above the nationa...|                                           NULL|                                       Not Available|                                         Results are not a...|\n",
            "|     361326|ADAMS COUNTY REGI...|230 MEDICAL CENTE...|      SEAMAN|   OH|   45679|      ADAMS|  9373863400|Critical Access H...|  Government - Local|               Yes|                                        Y|                      3|                            NULL|         Same as the natio...|                                  NULL|                     Not Available|                       Results are not a...|           Same as the natio...|                                    NULL|                  Below the nationa...|                                           NULL|                            Not Available|                              Results are not a...|                         Not Available|                           Results are not a...|                                Same as the natio...|                                                         NULL|\n",
            "|     151330|ADAMS MEMORIAL HO...|     1100 MERCER AVE|     DECATUR|   IN|   46733|      ADAMS|  2607242145|Critical Access H...|  Government - Local|               Yes|                                        Y|                      3|                            NULL|         Same as the natio...|                                  NULL|                     Not Available|                       Results are not a...|           Same as the natio...|                                    NULL|                  Above the nationa...|                                           NULL|                     Same as the natio...|                                              NULL|                  Above the nationa...|                                           NULL|                                Same as the natio...|                                                         NULL|\n",
            "|     220062|ADCARE HOSPITAL O...|  107 LINCOLN STREET|   WORCESTER|   MA|    1605|  WORCESTER|  5087999000|Acute Care Hospitals|         Proprietary|                No|                                        Y|          Not Available|            There are too few...|                Not Available|                  Results are not a...|                     Not Available|                       Results are not a...|                  Not Available|                    Results are not a...|                         Not Available|                           Results are not a...|                            Not Available|                              Results are not a...|                         Not Available|                           Results are not a...|                                       Not Available|                                         Results are not a...|\n",
            "+-----------+--------------------+--------------------+------------+-----+--------+-----------+------------+--------------------+--------------------+------------------+-----------------------------------------+-----------------------+--------------------------------+-----------------------------+--------------------------------------+----------------------------------+-------------------------------------------+-------------------------------+----------------------------------------+--------------------------------------+-----------------------------------------------+-----------------------------------------+--------------------------------------------------+--------------------------------------+-----------------------------------------------+----------------------------------------------------+-------------------------------------------------------------+\n",
            "only showing top 20 rows\n",
            "\n"
          ]
        }
      ]
    },
    {
      "cell_type": "markdown",
      "source": [
        "Change Data Types of Columns"
      ],
      "metadata": {
        "id": "aNIX5ZpjBaYU"
      }
    },
    {
      "cell_type": "code",
      "source": [
        "df1 = df.withColumn(\"Provider_ID\",df['Provider_ID'].cast(\"String\"))\n",
        "df1.printSchema()"
      ],
      "metadata": {
        "colab": {
          "base_uri": "https://localhost:8080/"
        },
        "id": "mFKJGpqeBbQm",
        "outputId": "eb83f80e-a756-47cc-d59a-f8b213e521b6"
      },
      "execution_count": 71,
      "outputs": [
        {
          "output_type": "stream",
          "name": "stdout",
          "text": [
            "root\n",
            " |-- Provider_ID: string (nullable = true)\n",
            " |-- Hospital_Name: string (nullable = true)\n",
            " |-- Address: string (nullable = true)\n",
            " |-- City: string (nullable = true)\n",
            " |-- State: string (nullable = true)\n",
            " |-- ZIP_Code: integer (nullable = true)\n",
            " |-- County_Name: string (nullable = true)\n",
            " |-- Phone Number: long (nullable = true)\n",
            " |-- Hospital_Type: string (nullable = true)\n",
            " |-- Hospital_Ownership: string (nullable = true)\n",
            " |-- Emergency_Services: string (nullable = true)\n",
            " |-- Meets_criteria for meaningful use of EHRs: string (nullable = true)\n",
            " |-- Hospital overall rating: string (nullable = true)\n",
            " |-- Hospital overall rating footnote: string (nullable = true)\n",
            " |-- Mortality national comparison: string (nullable = true)\n",
            " |-- Mortality national comparison footnote: string (nullable = true)\n",
            " |-- Safety of care national comparison: string (nullable = true)\n",
            " |-- Safety of care national comparison footnote: string (nullable = true)\n",
            " |-- Readmission national comparison: string (nullable = true)\n",
            " |-- Readmission national comparison footnote: string (nullable = true)\n",
            " |-- Patient experience national comparison: string (nullable = true)\n",
            " |-- Patient experience national comparison footnote: string (nullable = true)\n",
            " |-- Effectiveness of care national comparison: string (nullable = true)\n",
            " |-- Effectiveness of care national comparison footnote: string (nullable = true)\n",
            " |-- Timeliness of care national comparison: string (nullable = true)\n",
            " |-- Timeliness of care national comparison footnote: string (nullable = true)\n",
            " |-- Efficient use of medical imaging national comparison: string (nullable = true)\n",
            " |-- Efficient use of medical imaging national comparison footnote: string (nullable = true)\n",
            "\n"
          ]
        }
      ]
    },
    {
      "cell_type": "markdown",
      "source": [
        "Group By Column - Minimum Value"
      ],
      "metadata": {
        "id": "q3tHF90pCBUw"
      }
    },
    {
      "cell_type": "code",
      "source": [
        "from pyspark.sql.functions import min\n",
        "Provider_id_min = df.groupBy(\"State\").agg(min(\"Provider_ID\"))\n",
        "Provider_id_min.show()"
      ],
      "metadata": {
        "colab": {
          "base_uri": "https://localhost:8080/"
        },
        "id": "mFONHt0yCB10",
        "outputId": "cf420c1b-1933-4c5f-9316-0b9488cace99"
      },
      "execution_count": 75,
      "outputs": [
        {
          "output_type": "stream",
          "name": "stdout",
          "text": [
            "+-----+----------------+\n",
            "|State|min(Provider_ID)|\n",
            "+-----+----------------+\n",
            "|   AZ|           30001|\n",
            "|   SC|          420002|\n",
            "|   LA|          190002|\n",
            "|   MN|          240001|\n",
            "|   NJ|          310001|\n",
            "|   DC|           90001|\n",
            "|   OR|          380001|\n",
            "|   VA|          490001|\n",
            "|   RI|          410001|\n",
            "|   KY|          180001|\n",
            "|   WY|          530002|\n",
            "|   NH|          300001|\n",
            "|   MI|          230002|\n",
            "|   NV|          290001|\n",
            "|   WI|          520002|\n",
            "|   ID|          130002|\n",
            "|   CA|           50002|\n",
            "|   CT|           70002|\n",
            "|   NE|          280003|\n",
            "|   MT|          270003|\n",
            "+-----+----------------+\n",
            "only showing top 20 rows\n",
            "\n"
          ]
        }
      ]
    },
    {
      "cell_type": "markdown",
      "source": [
        "Group By Column - Average Value"
      ],
      "metadata": {
        "id": "yH9MTuV_DUKN"
      }
    },
    {
      "cell_type": "code",
      "source": [
        "from pyspark.sql.functions import avg\n",
        "Provider_id = df1.groupBy(\"State\").agg(avg(\"Provider_ID\"))\n",
        "Provider_id.show()"
      ],
      "metadata": {
        "colab": {
          "base_uri": "https://localhost:8080/"
        },
        "id": "SR8y7rcPDU_6",
        "outputId": "792dad78-2b31-4dbb-fd16-1f30fb6537d9"
      },
      "execution_count": 74,
      "outputs": [
        {
          "output_type": "stream",
          "name": "stdout",
          "text": [
            "+-----+------------------+\n",
            "|State|  avg(Provider_ID)|\n",
            "+-----+------------------+\n",
            "|   AZ|        30411.6875|\n",
            "|   SC|420216.18333333335|\n",
            "|   LA| 190456.9173553719|\n",
            "|   MN|240905.19083969467|\n",
            "|   NJ| 310150.8787878788|\n",
            "|   DC|          90417.25|\n",
            "|   OR|380626.23333333334|\n",
            "|   VA| 490299.4767441861|\n",
            "|   RI| 410007.8181818182|\n",
            "|   KY| 180472.9255319149|\n",
            "|   WY| 530755.8214285715|\n",
            "|   NH|300660.92307692306|\n",
            "|   MI|230479.52671755725|\n",
            "|   NV| 290504.5142857143|\n",
            "|   WI|520712.75396825396|\n",
            "|   ID|130876.24390243902|\n",
            "|   CA|50561.183673469386|\n",
            "|   CT| 70126.45161290323|\n",
            "|   NE| 281053.4943820225|\n",
            "|   MT|271034.29032258067|\n",
            "+-----+------------------+\n",
            "only showing top 20 rows\n",
            "\n"
          ]
        }
      ]
    },
    {
      "cell_type": "markdown",
      "source": [
        "Distinct values for Categorical columns"
      ],
      "metadata": {
        "id": "d80es0GBDetg"
      }
    },
    {
      "cell_type": "code",
      "source": [
        "df.select(\"Hospital_Ownership\").distinct().show()"
      ],
      "metadata": {
        "colab": {
          "base_uri": "https://localhost:8080/"
        },
        "id": "tFHssqGlDiYG",
        "outputId": "f76ab0fc-cc4b-4e3d-f1b7-4e815c8c3e56"
      },
      "execution_count": 34,
      "outputs": [
        {
          "output_type": "stream",
          "name": "stdout",
          "text": [
            "+--------------------+\n",
            "|  Hospital_Ownership|\n",
            "+--------------------+\n",
            "|           Physician|\n",
            "|         Proprietary|\n",
            "|Government - Federal|\n",
            "|Voluntary non-pro...|\n",
            "|              Tribal|\n",
            "|  Government - State|\n",
            "|Voluntary non-pro...|\n",
            "|Voluntary non-pro...|\n",
            "|Government - Hosp...|\n",
            "|  Government - Local|\n",
            "+--------------------+\n",
            "\n"
          ]
        }
      ]
    },
    {
      "cell_type": "markdown",
      "source": [
        "Rename existing column"
      ],
      "metadata": {
        "id": "udlzNZIPEDy2"
      }
    },
    {
      "cell_type": "code",
      "source": [
        "df =  df.withColumnRenamed('Phone Number', 'Ph_no')\n",
        "df =  df.withColumnRenamed('Hospital overall rating', 'Hospital_rating')\n",
        "df =  df.withColumnRenamed('Meets_criteria for meaningful use of EHRs', 'EHRs')\n",
        "\n",
        "\n",
        "df.printSchema()"
      ],
      "metadata": {
        "colab": {
          "base_uri": "https://localhost:8080/"
        },
        "id": "0KTnpLJtEGDl",
        "outputId": "937bca75-39f2-40fe-ceb5-75a4da938101"
      },
      "execution_count": 94,
      "outputs": [
        {
          "output_type": "stream",
          "name": "stdout",
          "text": [
            "root\n",
            " |-- Provider_ID: integer (nullable = true)\n",
            " |-- Hospital_Name: string (nullable = true)\n",
            " |-- Address: string (nullable = true)\n",
            " |-- City: string (nullable = true)\n",
            " |-- State: string (nullable = true)\n",
            " |-- ZIP_Code: integer (nullable = true)\n",
            " |-- County_Name: string (nullable = true)\n",
            " |-- Ph_no: long (nullable = true)\n",
            " |-- Hospital_Type: string (nullable = true)\n",
            " |-- Hospital_Ownership: string (nullable = true)\n",
            " |-- Emergency_Services: string (nullable = true)\n",
            " |-- EHRs: string (nullable = true)\n",
            " |-- Hospital_rating: string (nullable = true)\n",
            " |-- Hospital overall rating footnote: string (nullable = true)\n",
            " |-- Mortality national comparison: string (nullable = true)\n",
            " |-- Mortality national comparison footnote: string (nullable = true)\n",
            " |-- Safety of care national comparison: string (nullable = true)\n",
            " |-- Safety of care national comparison footnote: string (nullable = true)\n",
            " |-- Readmission national comparison: string (nullable = true)\n",
            " |-- Readmission national comparison footnote: string (nullable = true)\n",
            " |-- Patient experience national comparison: string (nullable = true)\n",
            " |-- Patient experience national comparison footnote: string (nullable = true)\n",
            " |-- Effectiveness of care national comparison: string (nullable = true)\n",
            " |-- Effectiveness of care national comparison footnote: string (nullable = true)\n",
            " |-- Timeliness of care national comparison: string (nullable = true)\n",
            " |-- Timeliness of care national comparison footnote: string (nullable = true)\n",
            " |-- Efficient use of medical imaging national comparison: string (nullable = true)\n",
            " |-- Efficient use of medical imaging national comparison footnote: string (nullable = true)\n",
            " |-- Hospital_rating_twice: double (nullable = true)\n",
            " |-- Place: string (nullable = true)\n",
            " |-- code: string (nullable = true)\n",
            "\n"
          ]
        }
      ]
    },
    {
      "cell_type": "markdown",
      "source": [
        " Statistics about values of various columns"
      ],
      "metadata": {
        "id": "2l_okBYCEPFi"
      }
    },
    {
      "cell_type": "code",
      "source": [
        "df.describe().show()"
      ],
      "metadata": {
        "colab": {
          "base_uri": "https://localhost:8080/"
        },
        "id": "ffddh2ZuESvo",
        "outputId": "749d62d2-a068-4a76-e82c-e2aa99cda384"
      },
      "execution_count": 77,
      "outputs": [
        {
          "output_type": "stream",
          "name": "stdout",
          "text": [
            "+-------+------------------+--------------------+--------------------+---------+-----+-----------------+-----------+--------------------+--------------------+--------------------+------------------+-----------------------------------------+------------------+--------------------------------+-----------------------------+--------------------------------------+----------------------------------+-------------------------------------------+-------------------------------+----------------------------------------+--------------------------------------+-----------------------------------------------+-----------------------------------------+--------------------------------------------------+--------------------------------------+-----------------------------------------------+----------------------------------------------------+-------------------------------------------------------------+\n",
            "|summary|       Provider_ID|       Hospital_Name|             Address|     City|State|         ZIP_Code|County_Name|               Ph_no|       Hospital_Type|  Hospital_Ownership|Emergency_Services|Meets_criteria for meaningful use of EHRs|   Hospital_rating|Hospital overall rating footnote|Mortality national comparison|Mortality national comparison footnote|Safety of care national comparison|Safety of care national comparison footnote|Readmission national comparison|Readmission national comparison footnote|Patient experience national comparison|Patient experience national comparison footnote|Effectiveness of care national comparison|Effectiveness of care national comparison footnote|Timeliness of care national comparison|Timeliness of care national comparison footnote|Efficient use of medical imaging national comparison|Efficient use of medical imaging national comparison footnote|\n",
            "+-------+------------------+--------------------+--------------------+---------+-----+-----------------+-----------+--------------------+--------------------+--------------------+------------------+-----------------------------------------+------------------+--------------------------------+-----------------------------+--------------------------------------+----------------------------------+-------------------------------------------+-------------------------------+----------------------------------------+--------------------------------------+-----------------------------------------------+-----------------------------------------+--------------------------------------------------+--------------------------------------+-----------------------------------------------+----------------------------------------------------+-------------------------------------------------------------+\n",
            "|  count|              4812|                4812|                4812|     4812| 4812|             4812|       4797|                4812|                4812|                4812|              4812|                                     4668|              4812|                            1398|                         4812|                                  1352|                              4812|                                       2168|                           4812|                                    1017|                                  4812|                                           1369|                                     4812|                                              1202|                                  4812|                                           1266|                                                4812|                                                         2033|\n",
            "|   mean|268294.42290108063|                NULL|                NULL|     NULL| NULL|53990.13237738986|       NULL| 5.849100259014547E9|                NULL|                NULL|              NULL|                                     NULL| 3.059153350154191|                            NULL|                         NULL|                                  NULL|                              NULL|                                       NULL|                           NULL|                                    NULL|                                  NULL|                                           NULL|                                     NULL|                                              NULL|                                  NULL|                                           NULL|                                                NULL|                                                         NULL|\n",
            "| stddev| 157109.3402146686|                NULL|                NULL|     NULL| NULL|26915.91686958682|       NULL|2.3315625179100986E9|                NULL|                NULL|              NULL|                                     NULL|0.8136039492160076|                            NULL|                         NULL|                                  NULL|                              NULL|                                       NULL|                           NULL|                                    NULL|                                  NULL|                                           NULL|                                     NULL|                                              NULL|                                  NULL|                                           NULL|                                                NULL|                                                         NULL|\n",
            "|    min|             10001|ABBEVILLE AREA ME...| CALLE CONCEPCION...|ABBEVILLE|   AK|              603|  ABBEVILLE|           936933841|Acute Care Hospitals|Government - Federal|                No|                            Not Available|                 1|            Data are shown on...|         Above the nationa...|                  Data are shown on...|              Above the nationa...|                       Data are shown on...|           Above the nationa...|                    Data are shown on...|                  Above the nationa...|                           Data are shown on...|                     Above the nationa...|                              Data are shown on...|                  Above the nationa...|                           Data are shown on...|                                Above the nationa...|                                         Data are shown on...|\n",
            "|    max|            670118|ZUNI COMPREHENSIV...|WHITEHORSE PIKE A...|     ZUNI|   WY|            99929|       YUMA|          9898943000|Critical Access H...|Voluntary non-pro...|               Yes|                                        Y|     Not Available|            This hospital�s s...|         Same as the natio...|                  Results are not a...|              Same as the natio...|                       Results are not a...|           Same as the natio...|                    Results are not a...|                  Same as the natio...|                           Results are not a...|                     Same as the natio...|                              Results are not a...|                  Same as the natio...|                           Results are not a...|                                Same as the natio...|                                         Results are not a...|\n",
            "+-------+------------------+--------------------+--------------------+---------+-----+-----------------+-----------+--------------------+--------------------+--------------------+------------------+-----------------------------------------+------------------+--------------------------------+-----------------------------+--------------------------------------+----------------------------------+-------------------------------------------+-------------------------------+----------------------------------------+--------------------------------------+-----------------------------------------------+-----------------------------------------+--------------------------------------------------+--------------------------------------+-----------------------------------------------+----------------------------------------------------+-------------------------------------------------------------+\n",
            "\n"
          ]
        }
      ]
    },
    {
      "cell_type": "markdown",
      "source": [
        "Creating a New Column based on existing column"
      ],
      "metadata": {
        "id": "Jqa9MOMeEcxz"
      }
    },
    {
      "cell_type": "code",
      "source": [
        "df = df.withColumn('Hospital_rating_twice', df.Hospital_rating*2)\n",
        "df.show()"
      ],
      "metadata": {
        "colab": {
          "base_uri": "https://localhost:8080/"
        },
        "id": "XMXehALdEfkL",
        "outputId": "6ac9fb99-332c-4164-cdfd-c7fba515a288"
      },
      "execution_count": 78,
      "outputs": [
        {
          "output_type": "stream",
          "name": "stdout",
          "text": [
            "+-----------+--------------------+--------------------+----------+-----+--------+-----------+----------+--------------------+--------------------+------------------+-----------------------------------------+---------------+--------------------------------+-----------------------------+--------------------------------------+----------------------------------+-------------------------------------------+-------------------------------+----------------------------------------+--------------------------------------+-----------------------------------------------+-----------------------------------------+--------------------------------------------------+--------------------------------------+-----------------------------------------------+----------------------------------------------------+-------------------------------------------------------------+---------------------+\n",
            "|Provider_ID|       Hospital_Name|             Address|      City|State|ZIP_Code|County_Name|     Ph_no|       Hospital_Type|  Hospital_Ownership|Emergency_Services|Meets_criteria for meaningful use of EHRs|Hospital_rating|Hospital overall rating footnote|Mortality national comparison|Mortality national comparison footnote|Safety of care national comparison|Safety of care national comparison footnote|Readmission national comparison|Readmission national comparison footnote|Patient experience national comparison|Patient experience national comparison footnote|Effectiveness of care national comparison|Effectiveness of care national comparison footnote|Timeliness of care national comparison|Timeliness of care national comparison footnote|Efficient use of medical imaging national comparison|Efficient use of medical imaging national comparison footnote|Hospital_rating_twice|\n",
            "+-----------+--------------------+--------------------+----------+-----+--------+-----------+----------+--------------------+--------------------+------------------+-----------------------------------------+---------------+--------------------------------+-----------------------------+--------------------------------------+----------------------------------+-------------------------------------------+-------------------------------+----------------------------------------+--------------------------------------+-----------------------------------------------+-----------------------------------------+--------------------------------------------------+--------------------------------------+-----------------------------------------------+----------------------------------------------------+-------------------------------------------------------------+---------------------+\n",
            "|      10001|SOUTHEAST ALABAMA...|1108 ROSS CLARK C...|    DOTHAN|   AL|   36301|    HOUSTON|3347938701|Acute Care Hospitals|Government - Hosp...|               Yes|                                     NULL|              3|                            NULL|         Same as the natio...|                                  NULL|              Above the nationa...|                                       NULL|           Same as the natio...|                                    NULL|                  Below the nationa...|                                           NULL|                     Same as the natio...|                                              NULL|                  Same as the natio...|                                           NULL|                                Same as the natio...|                                                         NULL|                  6.0|\n",
            "|      10005|MARSHALL MEDICAL ...|2505 U S HIGHWAY ...|      BOAZ|   AL|   35957|   MARSHALL|2565938310|Acute Care Hospitals|Government - Hosp...|               Yes|                                        Y|              3|                            NULL|         Below the nationa...|                                  NULL|              Same as the natio...|                                       NULL|           Above the nationa...|                                    NULL|                  Same as the natio...|                                           NULL|                     Same as the natio...|                                              NULL|                  Above the nationa...|                                           NULL|                                Below the nationa...|                                                         NULL|                  6.0|\n",
            "|      10006|ELIZA COFFEE MEMO...|  205 MARENGO STREET|  FLORENCE|   AL|   35631| LAUDERDALE|2567688400|Acute Care Hospitals|Government - Hosp...|               Yes|                                        Y|              2|                            NULL|         Below the nationa...|                                  NULL|              Same as the natio...|                                       NULL|           Same as the natio...|                                    NULL|                  Below the nationa...|                                           NULL|                     Same as the natio...|                                              NULL|                  Above the nationa...|                                           NULL|                                Same as the natio...|                                                         NULL|                  4.0|\n",
            "|      10007|MIZELL MEMORIAL H...|       702 N MAIN ST|       OPP|   AL|   36467|  COVINGTON|3344933541|Acute Care Hospitals|Voluntary non-pro...|               Yes|                                        Y|              2|                            NULL|         Same as the natio...|                                  NULL|                     Not Available|                       Results are not a...|           Below the nationa...|                                    NULL|                  Same as the natio...|                                           NULL|                     Below the nationa...|                                              NULL|                  Above the nationa...|                                           NULL|                                       Not Available|                                         Results are not a...|                  4.0|\n",
            "|      10008|CRENSHAW COMMUNIT...| 101 HOSPITAL CIRCLE|   LUVERNE|   AL|   36049|   CRENSHAW|3343353374|Acute Care Hospitals|         Proprietary|               Yes|                                        Y|              3|                            NULL|         Same as the natio...|                                  NULL|                     Not Available|                       Results are not a...|           Same as the natio...|                                    NULL|                         Not Available|                           Results are not a...|                     Same as the natio...|                                              NULL|                  Above the nationa...|                                           NULL|                                       Not Available|                                         Results are not a...|                  6.0|\n",
            "|      10011|   ST VINCENT'S EAST|50 MEDICAL PARK E...|BIRMINGHAM|   AL|   35235|  JEFFERSON|2058383122|Acute Care Hospitals|Voluntary non-pro...|               Yes|                                        Y|              2|                            NULL|         Same as the natio...|                                  NULL|              Below the nationa...|                                       NULL|           Same as the natio...|                                    NULL|                  Below the nationa...|                                           NULL|                     Below the nationa...|                                              NULL|                  Same as the natio...|                                           NULL|                                Same as the natio...|                                                         NULL|                  4.0|\n",
            "|      10012|DEKALB REGIONAL M...|200 MED CENTER DRIVE|FORT PAYNE|   AL|   35968|    DE KALB|2568453150|Acute Care Hospitals|         Proprietary|               Yes|                                        Y|              3|                            NULL|         Below the nationa...|                                  NULL|              Same as the natio...|                                       NULL|           Same as the natio...|                                    NULL|                  Same as the natio...|                                           NULL|                     Same as the natio...|                                              NULL|                  Above the nationa...|                                           NULL|                                Same as the natio...|                                                         NULL|                  6.0|\n",
            "|      10016|SHELBY BAPTIST ME...|1000 FIRST STREET...| ALABASTER|   AL|   35007|     SHELBY|2056208100|Acute Care Hospitals|Voluntary non-pro...|               Yes|                                        Y|              3|                            NULL|         Same as the natio...|                                  NULL|              Above the nationa...|                                       NULL|           Above the nationa...|                                    NULL|                  Below the nationa...|                                           NULL|                     Same as the natio...|                                              NULL|                  Below the nationa...|                                           NULL|                                Below the nationa...|                                                         NULL|                  6.0|\n",
            "|      10018|CALLAHAN EYE HOSP...|1720 UNIVERSITY BLVD|BIRMINGHAM|   AL|   35233|  JEFFERSON|2053258100|Acute Care Hospitals|Voluntary non-pro...|               Yes|                                        Y|  Not Available|            There are too few...|                Not Available|                  Results are not a...|                     Not Available|                       Results are not a...|                  Not Available|                    Results are not a...|                         Not Available|                           Results are not a...|                     Same as the natio...|                                              NULL|                  Same as the natio...|                                           NULL|                                       Not Available|                                         Results are not a...|                 NULL|\n",
            "|      10019|HELEN KELLER MEMO...|1300 SOUTH MONTGO...| SHEFFIELD|   AL|   35660|    COLBERT|2563864556|Acute Care Hospitals|Government - Hosp...|               Yes|                                        Y|              2|                            NULL|         Below the nationa...|                                  NULL|              Below the nationa...|                                       NULL|           Below the nationa...|                                    NULL|                  Below the nationa...|                                           NULL|                     Same as the natio...|                                              NULL|                  Above the nationa...|                                           NULL|                                Below the nationa...|                                                         NULL|                  4.0|\n",
            "|      10021| DALE MEDICAL CENTER|    126 HOSPITAL AVE|     OZARK|   AL|   36360|       DALE|3347742601|Acute Care Hospitals|Government - Hosp...|               Yes|                                        Y|              4|                            NULL|         Same as the natio...|                                  NULL|              Same as the natio...|                                       NULL|           Same as the natio...|                                    NULL|                  Above the nationa...|                                           NULL|                     Same as the natio...|                                              NULL|                  Above the nationa...|                                           NULL|                                Same as the natio...|                                                         NULL|                  8.0|\n",
            "|      10022|CHEROKEE MEDICAL ...|    400 NORTHWOOD DR|    CENTRE|   AL|   35960|   CHEROKEE|2569275531|Acute Care Hospitals|Voluntary non-pro...|               Yes|                                        Y|              4|                            NULL|         Same as the natio...|                                  NULL|                     Not Available|                       Results are not a...|           Same as the natio...|                                    NULL|                  Above the nationa...|                                           NULL|                     Same as the natio...|                                              NULL|                  Same as the natio...|                                           NULL|                                       Not Available|                                         Results are not a...|                  8.0|\n",
            "|      10023|BAPTIST MEDICAL C...|2105 EAST SOUTH B...|MONTGOMERY|   AL|   36116| MONTGOMERY|3342882100|Acute Care Hospitals|Government - Hosp...|               Yes|                                        Y|              3|                            NULL|         Below the nationa...|                                  NULL|              Above the nationa...|                                       NULL|           Same as the natio...|                                    NULL|                  Below the nationa...|                                           NULL|                     Same as the natio...|                                              NULL|                  Below the nationa...|                                           NULL|                                Above the nationa...|                                                         NULL|                  6.0|\n",
            "|      10024|JACKSON HOSPITAL ...|    1725 PINE STREET|MONTGOMERY|   AL|   36106| MONTGOMERY|3342938000|Acute Care Hospitals|Voluntary non-pro...|               Yes|                                        Y|              3|                            NULL|         Same as the natio...|                                  NULL|              Above the nationa...|                                       NULL|           Above the nationa...|                                    NULL|                  Same as the natio...|                                           NULL|                     Same as the natio...|                                              NULL|                  Below the nationa...|                                           NULL|                                Same as the natio...|                                                         NULL|                  6.0|\n",
            "|      10029|EAST ALABAMA MEDI...|2000 PEPPERELL PA...|   OPELIKA|   AL|   36801|        LEE|3347493411|Acute Care Hospitals|Government - Hosp...|               Yes|                                        Y|              4|                            NULL|         Same as the natio...|                                  NULL|              Above the nationa...|                                       NULL|           Above the nationa...|                                    NULL|                  Above the nationa...|                                           NULL|                     Same as the natio...|                                              NULL|                  Above the nationa...|                                           NULL|                                Same as the natio...|                                                         NULL|                  8.0|\n",
            "|      10032|    WEDOWEE HOSPITAL|209 NORTH MAIN ST...|   WEDOWEE|   AL|   36278|   RANDOLPH|2563572111|Acute Care Hospitals|Government - Hosp...|               Yes|                                        Y|              4|                            NULL|         Same as the natio...|                                  NULL|                     Not Available|                       Results are not a...|           Same as the natio...|                                    NULL|                         Not Available|                           Results are not a...|                     Same as the natio...|                                              NULL|                  Same as the natio...|                                           NULL|                                       Not Available|                                         Results are not a...|                  8.0|\n",
            "|      10033|UNIVERSITY OF ALA...|619 SOUTH 19TH ST...|BIRMINGHAM|   AL|   35233|  JEFFERSON|2059344011|Acute Care Hospitals|  Government - State|               Yes|                                        Y|              3|                            NULL|         Same as the natio...|                                  NULL|              Above the nationa...|                                       NULL|           Below the nationa...|                                    NULL|                  Above the nationa...|                                           NULL|                     Same as the natio...|                                              NULL|                  Below the nationa...|                                           NULL|                                Below the nationa...|                                                         NULL|                  6.0|\n",
            "|      10034|COMMUNITY HOSPITA...| 805 FRIENDSHIP ROAD| TALLASSEE|   AL|   36078|     ELMORE|3342836541|Acute Care Hospitals|Voluntary non-pro...|               Yes|                                        Y|              4|                            NULL|         Same as the natio...|                                  NULL|                     Not Available|                       Results are not a...|           Same as the natio...|                                    NULL|                  Same as the natio...|                                           NULL|                     Same as the natio...|                                              NULL|                  Same as the natio...|                                           NULL|                                       Not Available|                                         Results are not a...|                  8.0|\n",
            "|      10035|CULLMAN REGIONAL ...|1912 ALABAMA HIGH...|   CULLMAN|   AL|   35058|    CULLMAN|2567372000|Acute Care Hospitals|Government - Hosp...|               Yes|                                        Y|              3|                            NULL|         Below the nationa...|                                  NULL|              Above the nationa...|                                       NULL|           Same as the natio...|                                    NULL|                  Same as the natio...|                                           NULL|                     Same as the natio...|                                              NULL|                  Above the nationa...|                                           NULL|                                Same as the natio...|                                                         NULL|                  6.0|\n",
            "|      10036|ANDALUSIA REGIONA...|849 SOUTH THREE N...| ANDALUSIA|   AL|   36420|  COVINGTON|3342228466|Acute Care Hospitals|         Proprietary|               Yes|                                        Y|              3|                            NULL|         Same as the natio...|                                  NULL|              Below the nationa...|                                       NULL|           Below the nationa...|                                    NULL|                  Below the nationa...|                                           NULL|                     Same as the natio...|                                              NULL|                  Above the nationa...|                                           NULL|                                Same as the natio...|                                                         NULL|                  6.0|\n",
            "+-----------+--------------------+--------------------+----------+-----+--------+-----------+----------+--------------------+--------------------+------------------+-----------------------------------------+---------------+--------------------------------+-----------------------------+--------------------------------------+----------------------------------+-------------------------------------------+-------------------------------+----------------------------------------+--------------------------------------+-----------------------------------------------+-----------------------------------------+--------------------------------------------------+--------------------------------------+-----------------------------------------------+----------------------------------------------------+-------------------------------------------------------------+---------------------+\n",
            "only showing top 20 rows\n",
            "\n"
          ]
        }
      ]
    },
    {
      "cell_type": "markdown",
      "source": [
        "Add New Column with Constant value for all records"
      ],
      "metadata": {
        "id": "bxfblaTTFiwv"
      }
    },
    {
      "cell_type": "code",
      "source": [
        "from pyspark.sql.functions import lit\n",
        "df = df.withColumn(\"Location\",lit(\"Overland_park,66223\"))\n",
        "df.show()"
      ],
      "metadata": {
        "colab": {
          "base_uri": "https://localhost:8080/"
        },
        "id": "d4V7C8sRFm4R",
        "outputId": "621dfdc0-6111-44e4-9af0-d10087c68cca"
      },
      "execution_count": 79,
      "outputs": [
        {
          "output_type": "stream",
          "name": "stdout",
          "text": [
            "+-----------+--------------------+--------------------+----------+-----+--------+-----------+----------+--------------------+--------------------+------------------+-----------------------------------------+---------------+--------------------------------+-----------------------------+--------------------------------------+----------------------------------+-------------------------------------------+-------------------------------+----------------------------------------+--------------------------------------+-----------------------------------------------+-----------------------------------------+--------------------------------------------------+--------------------------------------+-----------------------------------------------+----------------------------------------------------+-------------------------------------------------------------+---------------------+-------------------+\n",
            "|Provider_ID|       Hospital_Name|             Address|      City|State|ZIP_Code|County_Name|     Ph_no|       Hospital_Type|  Hospital_Ownership|Emergency_Services|Meets_criteria for meaningful use of EHRs|Hospital_rating|Hospital overall rating footnote|Mortality national comparison|Mortality national comparison footnote|Safety of care national comparison|Safety of care national comparison footnote|Readmission national comparison|Readmission national comparison footnote|Patient experience national comparison|Patient experience national comparison footnote|Effectiveness of care national comparison|Effectiveness of care national comparison footnote|Timeliness of care national comparison|Timeliness of care national comparison footnote|Efficient use of medical imaging national comparison|Efficient use of medical imaging national comparison footnote|Hospital_rating_twice|           Location|\n",
            "+-----------+--------------------+--------------------+----------+-----+--------+-----------+----------+--------------------+--------------------+------------------+-----------------------------------------+---------------+--------------------------------+-----------------------------+--------------------------------------+----------------------------------+-------------------------------------------+-------------------------------+----------------------------------------+--------------------------------------+-----------------------------------------------+-----------------------------------------+--------------------------------------------------+--------------------------------------+-----------------------------------------------+----------------------------------------------------+-------------------------------------------------------------+---------------------+-------------------+\n",
            "|      10001|SOUTHEAST ALABAMA...|1108 ROSS CLARK C...|    DOTHAN|   AL|   36301|    HOUSTON|3347938701|Acute Care Hospitals|Government - Hosp...|               Yes|                                     NULL|              3|                            NULL|         Same as the natio...|                                  NULL|              Above the nationa...|                                       NULL|           Same as the natio...|                                    NULL|                  Below the nationa...|                                           NULL|                     Same as the natio...|                                              NULL|                  Same as the natio...|                                           NULL|                                Same as the natio...|                                                         NULL|                  6.0|Overland_park,66223|\n",
            "|      10005|MARSHALL MEDICAL ...|2505 U S HIGHWAY ...|      BOAZ|   AL|   35957|   MARSHALL|2565938310|Acute Care Hospitals|Government - Hosp...|               Yes|                                        Y|              3|                            NULL|         Below the nationa...|                                  NULL|              Same as the natio...|                                       NULL|           Above the nationa...|                                    NULL|                  Same as the natio...|                                           NULL|                     Same as the natio...|                                              NULL|                  Above the nationa...|                                           NULL|                                Below the nationa...|                                                         NULL|                  6.0|Overland_park,66223|\n",
            "|      10006|ELIZA COFFEE MEMO...|  205 MARENGO STREET|  FLORENCE|   AL|   35631| LAUDERDALE|2567688400|Acute Care Hospitals|Government - Hosp...|               Yes|                                        Y|              2|                            NULL|         Below the nationa...|                                  NULL|              Same as the natio...|                                       NULL|           Same as the natio...|                                    NULL|                  Below the nationa...|                                           NULL|                     Same as the natio...|                                              NULL|                  Above the nationa...|                                           NULL|                                Same as the natio...|                                                         NULL|                  4.0|Overland_park,66223|\n",
            "|      10007|MIZELL MEMORIAL H...|       702 N MAIN ST|       OPP|   AL|   36467|  COVINGTON|3344933541|Acute Care Hospitals|Voluntary non-pro...|               Yes|                                        Y|              2|                            NULL|         Same as the natio...|                                  NULL|                     Not Available|                       Results are not a...|           Below the nationa...|                                    NULL|                  Same as the natio...|                                           NULL|                     Below the nationa...|                                              NULL|                  Above the nationa...|                                           NULL|                                       Not Available|                                         Results are not a...|                  4.0|Overland_park,66223|\n",
            "|      10008|CRENSHAW COMMUNIT...| 101 HOSPITAL CIRCLE|   LUVERNE|   AL|   36049|   CRENSHAW|3343353374|Acute Care Hospitals|         Proprietary|               Yes|                                        Y|              3|                            NULL|         Same as the natio...|                                  NULL|                     Not Available|                       Results are not a...|           Same as the natio...|                                    NULL|                         Not Available|                           Results are not a...|                     Same as the natio...|                                              NULL|                  Above the nationa...|                                           NULL|                                       Not Available|                                         Results are not a...|                  6.0|Overland_park,66223|\n",
            "|      10011|   ST VINCENT'S EAST|50 MEDICAL PARK E...|BIRMINGHAM|   AL|   35235|  JEFFERSON|2058383122|Acute Care Hospitals|Voluntary non-pro...|               Yes|                                        Y|              2|                            NULL|         Same as the natio...|                                  NULL|              Below the nationa...|                                       NULL|           Same as the natio...|                                    NULL|                  Below the nationa...|                                           NULL|                     Below the nationa...|                                              NULL|                  Same as the natio...|                                           NULL|                                Same as the natio...|                                                         NULL|                  4.0|Overland_park,66223|\n",
            "|      10012|DEKALB REGIONAL M...|200 MED CENTER DRIVE|FORT PAYNE|   AL|   35968|    DE KALB|2568453150|Acute Care Hospitals|         Proprietary|               Yes|                                        Y|              3|                            NULL|         Below the nationa...|                                  NULL|              Same as the natio...|                                       NULL|           Same as the natio...|                                    NULL|                  Same as the natio...|                                           NULL|                     Same as the natio...|                                              NULL|                  Above the nationa...|                                           NULL|                                Same as the natio...|                                                         NULL|                  6.0|Overland_park,66223|\n",
            "|      10016|SHELBY BAPTIST ME...|1000 FIRST STREET...| ALABASTER|   AL|   35007|     SHELBY|2056208100|Acute Care Hospitals|Voluntary non-pro...|               Yes|                                        Y|              3|                            NULL|         Same as the natio...|                                  NULL|              Above the nationa...|                                       NULL|           Above the nationa...|                                    NULL|                  Below the nationa...|                                           NULL|                     Same as the natio...|                                              NULL|                  Below the nationa...|                                           NULL|                                Below the nationa...|                                                         NULL|                  6.0|Overland_park,66223|\n",
            "|      10018|CALLAHAN EYE HOSP...|1720 UNIVERSITY BLVD|BIRMINGHAM|   AL|   35233|  JEFFERSON|2053258100|Acute Care Hospitals|Voluntary non-pro...|               Yes|                                        Y|  Not Available|            There are too few...|                Not Available|                  Results are not a...|                     Not Available|                       Results are not a...|                  Not Available|                    Results are not a...|                         Not Available|                           Results are not a...|                     Same as the natio...|                                              NULL|                  Same as the natio...|                                           NULL|                                       Not Available|                                         Results are not a...|                 NULL|Overland_park,66223|\n",
            "|      10019|HELEN KELLER MEMO...|1300 SOUTH MONTGO...| SHEFFIELD|   AL|   35660|    COLBERT|2563864556|Acute Care Hospitals|Government - Hosp...|               Yes|                                        Y|              2|                            NULL|         Below the nationa...|                                  NULL|              Below the nationa...|                                       NULL|           Below the nationa...|                                    NULL|                  Below the nationa...|                                           NULL|                     Same as the natio...|                                              NULL|                  Above the nationa...|                                           NULL|                                Below the nationa...|                                                         NULL|                  4.0|Overland_park,66223|\n",
            "|      10021| DALE MEDICAL CENTER|    126 HOSPITAL AVE|     OZARK|   AL|   36360|       DALE|3347742601|Acute Care Hospitals|Government - Hosp...|               Yes|                                        Y|              4|                            NULL|         Same as the natio...|                                  NULL|              Same as the natio...|                                       NULL|           Same as the natio...|                                    NULL|                  Above the nationa...|                                           NULL|                     Same as the natio...|                                              NULL|                  Above the nationa...|                                           NULL|                                Same as the natio...|                                                         NULL|                  8.0|Overland_park,66223|\n",
            "|      10022|CHEROKEE MEDICAL ...|    400 NORTHWOOD DR|    CENTRE|   AL|   35960|   CHEROKEE|2569275531|Acute Care Hospitals|Voluntary non-pro...|               Yes|                                        Y|              4|                            NULL|         Same as the natio...|                                  NULL|                     Not Available|                       Results are not a...|           Same as the natio...|                                    NULL|                  Above the nationa...|                                           NULL|                     Same as the natio...|                                              NULL|                  Same as the natio...|                                           NULL|                                       Not Available|                                         Results are not a...|                  8.0|Overland_park,66223|\n",
            "|      10023|BAPTIST MEDICAL C...|2105 EAST SOUTH B...|MONTGOMERY|   AL|   36116| MONTGOMERY|3342882100|Acute Care Hospitals|Government - Hosp...|               Yes|                                        Y|              3|                            NULL|         Below the nationa...|                                  NULL|              Above the nationa...|                                       NULL|           Same as the natio...|                                    NULL|                  Below the nationa...|                                           NULL|                     Same as the natio...|                                              NULL|                  Below the nationa...|                                           NULL|                                Above the nationa...|                                                         NULL|                  6.0|Overland_park,66223|\n",
            "|      10024|JACKSON HOSPITAL ...|    1725 PINE STREET|MONTGOMERY|   AL|   36106| MONTGOMERY|3342938000|Acute Care Hospitals|Voluntary non-pro...|               Yes|                                        Y|              3|                            NULL|         Same as the natio...|                                  NULL|              Above the nationa...|                                       NULL|           Above the nationa...|                                    NULL|                  Same as the natio...|                                           NULL|                     Same as the natio...|                                              NULL|                  Below the nationa...|                                           NULL|                                Same as the natio...|                                                         NULL|                  6.0|Overland_park,66223|\n",
            "|      10029|EAST ALABAMA MEDI...|2000 PEPPERELL PA...|   OPELIKA|   AL|   36801|        LEE|3347493411|Acute Care Hospitals|Government - Hosp...|               Yes|                                        Y|              4|                            NULL|         Same as the natio...|                                  NULL|              Above the nationa...|                                       NULL|           Above the nationa...|                                    NULL|                  Above the nationa...|                                           NULL|                     Same as the natio...|                                              NULL|                  Above the nationa...|                                           NULL|                                Same as the natio...|                                                         NULL|                  8.0|Overland_park,66223|\n",
            "|      10032|    WEDOWEE HOSPITAL|209 NORTH MAIN ST...|   WEDOWEE|   AL|   36278|   RANDOLPH|2563572111|Acute Care Hospitals|Government - Hosp...|               Yes|                                        Y|              4|                            NULL|         Same as the natio...|                                  NULL|                     Not Available|                       Results are not a...|           Same as the natio...|                                    NULL|                         Not Available|                           Results are not a...|                     Same as the natio...|                                              NULL|                  Same as the natio...|                                           NULL|                                       Not Available|                                         Results are not a...|                  8.0|Overland_park,66223|\n",
            "|      10033|UNIVERSITY OF ALA...|619 SOUTH 19TH ST...|BIRMINGHAM|   AL|   35233|  JEFFERSON|2059344011|Acute Care Hospitals|  Government - State|               Yes|                                        Y|              3|                            NULL|         Same as the natio...|                                  NULL|              Above the nationa...|                                       NULL|           Below the nationa...|                                    NULL|                  Above the nationa...|                                           NULL|                     Same as the natio...|                                              NULL|                  Below the nationa...|                                           NULL|                                Below the nationa...|                                                         NULL|                  6.0|Overland_park,66223|\n",
            "|      10034|COMMUNITY HOSPITA...| 805 FRIENDSHIP ROAD| TALLASSEE|   AL|   36078|     ELMORE|3342836541|Acute Care Hospitals|Voluntary non-pro...|               Yes|                                        Y|              4|                            NULL|         Same as the natio...|                                  NULL|                     Not Available|                       Results are not a...|           Same as the natio...|                                    NULL|                  Same as the natio...|                                           NULL|                     Same as the natio...|                                              NULL|                  Same as the natio...|                                           NULL|                                       Not Available|                                         Results are not a...|                  8.0|Overland_park,66223|\n",
            "|      10035|CULLMAN REGIONAL ...|1912 ALABAMA HIGH...|   CULLMAN|   AL|   35058|    CULLMAN|2567372000|Acute Care Hospitals|Government - Hosp...|               Yes|                                        Y|              3|                            NULL|         Below the nationa...|                                  NULL|              Above the nationa...|                                       NULL|           Same as the natio...|                                    NULL|                  Same as the natio...|                                           NULL|                     Same as the natio...|                                              NULL|                  Above the nationa...|                                           NULL|                                Same as the natio...|                                                         NULL|                  6.0|Overland_park,66223|\n",
            "|      10036|ANDALUSIA REGIONA...|849 SOUTH THREE N...| ANDALUSIA|   AL|   36420|  COVINGTON|3342228466|Acute Care Hospitals|         Proprietary|               Yes|                                        Y|              3|                            NULL|         Same as the natio...|                                  NULL|              Below the nationa...|                                       NULL|           Below the nationa...|                                    NULL|                  Below the nationa...|                                           NULL|                     Same as the natio...|                                              NULL|                  Above the nationa...|                                           NULL|                                Same as the natio...|                                                         NULL|                  6.0|Overland_park,66223|\n",
            "+-----------+--------------------+--------------------+----------+-----+--------+-----------+----------+--------------------+--------------------+------------------+-----------------------------------------+---------------+--------------------------------+-----------------------------+--------------------------------------+----------------------------------+-------------------------------------------+-------------------------------+----------------------------------------+--------------------------------------+-----------------------------------------------+-----------------------------------------+--------------------------------------------------+--------------------------------------+-----------------------------------------------+----------------------------------------------------+-------------------------------------------------------------+---------------------+-------------------+\n",
            "only showing top 20 rows\n",
            "\n"
          ]
        }
      ]
    },
    {
      "cell_type": "markdown",
      "source": [
        "Split a column into multiple columns"
      ],
      "metadata": {
        "id": "5g2DuWgUG8Oc"
      }
    },
    {
      "cell_type": "code",
      "source": [
        "from pyspark.sql.functions import split\n",
        "df = df.withColumn('Place', split(df['Location'], \",\").getItem(0))\n",
        "df = df.withColumn('code', split(df['Location'], \",\").getItem(1))\n",
        "df.show()"
      ],
      "metadata": {
        "colab": {
          "base_uri": "https://localhost:8080/"
        },
        "id": "Gp9iDFD5HBuj",
        "outputId": "5fc037eb-f928-4bba-8d3d-a4e7d18efaa7"
      },
      "execution_count": 80,
      "outputs": [
        {
          "output_type": "stream",
          "name": "stdout",
          "text": [
            "+-----------+--------------------+--------------------+----------+-----+--------+-----------+----------+--------------------+--------------------+------------------+-----------------------------------------+---------------+--------------------------------+-----------------------------+--------------------------------------+----------------------------------+-------------------------------------------+-------------------------------+----------------------------------------+--------------------------------------+-----------------------------------------------+-----------------------------------------+--------------------------------------------------+--------------------------------------+-----------------------------------------------+----------------------------------------------------+-------------------------------------------------------------+---------------------+-------------------+-------------+-----+\n",
            "|Provider_ID|       Hospital_Name|             Address|      City|State|ZIP_Code|County_Name|     Ph_no|       Hospital_Type|  Hospital_Ownership|Emergency_Services|Meets_criteria for meaningful use of EHRs|Hospital_rating|Hospital overall rating footnote|Mortality national comparison|Mortality national comparison footnote|Safety of care national comparison|Safety of care national comparison footnote|Readmission national comparison|Readmission national comparison footnote|Patient experience national comparison|Patient experience national comparison footnote|Effectiveness of care national comparison|Effectiveness of care national comparison footnote|Timeliness of care national comparison|Timeliness of care national comparison footnote|Efficient use of medical imaging national comparison|Efficient use of medical imaging national comparison footnote|Hospital_rating_twice|           Location|        Place| code|\n",
            "+-----------+--------------------+--------------------+----------+-----+--------+-----------+----------+--------------------+--------------------+------------------+-----------------------------------------+---------------+--------------------------------+-----------------------------+--------------------------------------+----------------------------------+-------------------------------------------+-------------------------------+----------------------------------------+--------------------------------------+-----------------------------------------------+-----------------------------------------+--------------------------------------------------+--------------------------------------+-----------------------------------------------+----------------------------------------------------+-------------------------------------------------------------+---------------------+-------------------+-------------+-----+\n",
            "|      10001|SOUTHEAST ALABAMA...|1108 ROSS CLARK C...|    DOTHAN|   AL|   36301|    HOUSTON|3347938701|Acute Care Hospitals|Government - Hosp...|               Yes|                                     NULL|              3|                            NULL|         Same as the natio...|                                  NULL|              Above the nationa...|                                       NULL|           Same as the natio...|                                    NULL|                  Below the nationa...|                                           NULL|                     Same as the natio...|                                              NULL|                  Same as the natio...|                                           NULL|                                Same as the natio...|                                                         NULL|                  6.0|Overland_park,66223|Overland_park|66223|\n",
            "|      10005|MARSHALL MEDICAL ...|2505 U S HIGHWAY ...|      BOAZ|   AL|   35957|   MARSHALL|2565938310|Acute Care Hospitals|Government - Hosp...|               Yes|                                        Y|              3|                            NULL|         Below the nationa...|                                  NULL|              Same as the natio...|                                       NULL|           Above the nationa...|                                    NULL|                  Same as the natio...|                                           NULL|                     Same as the natio...|                                              NULL|                  Above the nationa...|                                           NULL|                                Below the nationa...|                                                         NULL|                  6.0|Overland_park,66223|Overland_park|66223|\n",
            "|      10006|ELIZA COFFEE MEMO...|  205 MARENGO STREET|  FLORENCE|   AL|   35631| LAUDERDALE|2567688400|Acute Care Hospitals|Government - Hosp...|               Yes|                                        Y|              2|                            NULL|         Below the nationa...|                                  NULL|              Same as the natio...|                                       NULL|           Same as the natio...|                                    NULL|                  Below the nationa...|                                           NULL|                     Same as the natio...|                                              NULL|                  Above the nationa...|                                           NULL|                                Same as the natio...|                                                         NULL|                  4.0|Overland_park,66223|Overland_park|66223|\n",
            "|      10007|MIZELL MEMORIAL H...|       702 N MAIN ST|       OPP|   AL|   36467|  COVINGTON|3344933541|Acute Care Hospitals|Voluntary non-pro...|               Yes|                                        Y|              2|                            NULL|         Same as the natio...|                                  NULL|                     Not Available|                       Results are not a...|           Below the nationa...|                                    NULL|                  Same as the natio...|                                           NULL|                     Below the nationa...|                                              NULL|                  Above the nationa...|                                           NULL|                                       Not Available|                                         Results are not a...|                  4.0|Overland_park,66223|Overland_park|66223|\n",
            "|      10008|CRENSHAW COMMUNIT...| 101 HOSPITAL CIRCLE|   LUVERNE|   AL|   36049|   CRENSHAW|3343353374|Acute Care Hospitals|         Proprietary|               Yes|                                        Y|              3|                            NULL|         Same as the natio...|                                  NULL|                     Not Available|                       Results are not a...|           Same as the natio...|                                    NULL|                         Not Available|                           Results are not a...|                     Same as the natio...|                                              NULL|                  Above the nationa...|                                           NULL|                                       Not Available|                                         Results are not a...|                  6.0|Overland_park,66223|Overland_park|66223|\n",
            "|      10011|   ST VINCENT'S EAST|50 MEDICAL PARK E...|BIRMINGHAM|   AL|   35235|  JEFFERSON|2058383122|Acute Care Hospitals|Voluntary non-pro...|               Yes|                                        Y|              2|                            NULL|         Same as the natio...|                                  NULL|              Below the nationa...|                                       NULL|           Same as the natio...|                                    NULL|                  Below the nationa...|                                           NULL|                     Below the nationa...|                                              NULL|                  Same as the natio...|                                           NULL|                                Same as the natio...|                                                         NULL|                  4.0|Overland_park,66223|Overland_park|66223|\n",
            "|      10012|DEKALB REGIONAL M...|200 MED CENTER DRIVE|FORT PAYNE|   AL|   35968|    DE KALB|2568453150|Acute Care Hospitals|         Proprietary|               Yes|                                        Y|              3|                            NULL|         Below the nationa...|                                  NULL|              Same as the natio...|                                       NULL|           Same as the natio...|                                    NULL|                  Same as the natio...|                                           NULL|                     Same as the natio...|                                              NULL|                  Above the nationa...|                                           NULL|                                Same as the natio...|                                                         NULL|                  6.0|Overland_park,66223|Overland_park|66223|\n",
            "|      10016|SHELBY BAPTIST ME...|1000 FIRST STREET...| ALABASTER|   AL|   35007|     SHELBY|2056208100|Acute Care Hospitals|Voluntary non-pro...|               Yes|                                        Y|              3|                            NULL|         Same as the natio...|                                  NULL|              Above the nationa...|                                       NULL|           Above the nationa...|                                    NULL|                  Below the nationa...|                                           NULL|                     Same as the natio...|                                              NULL|                  Below the nationa...|                                           NULL|                                Below the nationa...|                                                         NULL|                  6.0|Overland_park,66223|Overland_park|66223|\n",
            "|      10018|CALLAHAN EYE HOSP...|1720 UNIVERSITY BLVD|BIRMINGHAM|   AL|   35233|  JEFFERSON|2053258100|Acute Care Hospitals|Voluntary non-pro...|               Yes|                                        Y|  Not Available|            There are too few...|                Not Available|                  Results are not a...|                     Not Available|                       Results are not a...|                  Not Available|                    Results are not a...|                         Not Available|                           Results are not a...|                     Same as the natio...|                                              NULL|                  Same as the natio...|                                           NULL|                                       Not Available|                                         Results are not a...|                 NULL|Overland_park,66223|Overland_park|66223|\n",
            "|      10019|HELEN KELLER MEMO...|1300 SOUTH MONTGO...| SHEFFIELD|   AL|   35660|    COLBERT|2563864556|Acute Care Hospitals|Government - Hosp...|               Yes|                                        Y|              2|                            NULL|         Below the nationa...|                                  NULL|              Below the nationa...|                                       NULL|           Below the nationa...|                                    NULL|                  Below the nationa...|                                           NULL|                     Same as the natio...|                                              NULL|                  Above the nationa...|                                           NULL|                                Below the nationa...|                                                         NULL|                  4.0|Overland_park,66223|Overland_park|66223|\n",
            "|      10021| DALE MEDICAL CENTER|    126 HOSPITAL AVE|     OZARK|   AL|   36360|       DALE|3347742601|Acute Care Hospitals|Government - Hosp...|               Yes|                                        Y|              4|                            NULL|         Same as the natio...|                                  NULL|              Same as the natio...|                                       NULL|           Same as the natio...|                                    NULL|                  Above the nationa...|                                           NULL|                     Same as the natio...|                                              NULL|                  Above the nationa...|                                           NULL|                                Same as the natio...|                                                         NULL|                  8.0|Overland_park,66223|Overland_park|66223|\n",
            "|      10022|CHEROKEE MEDICAL ...|    400 NORTHWOOD DR|    CENTRE|   AL|   35960|   CHEROKEE|2569275531|Acute Care Hospitals|Voluntary non-pro...|               Yes|                                        Y|              4|                            NULL|         Same as the natio...|                                  NULL|                     Not Available|                       Results are not a...|           Same as the natio...|                                    NULL|                  Above the nationa...|                                           NULL|                     Same as the natio...|                                              NULL|                  Same as the natio...|                                           NULL|                                       Not Available|                                         Results are not a...|                  8.0|Overland_park,66223|Overland_park|66223|\n",
            "|      10023|BAPTIST MEDICAL C...|2105 EAST SOUTH B...|MONTGOMERY|   AL|   36116| MONTGOMERY|3342882100|Acute Care Hospitals|Government - Hosp...|               Yes|                                        Y|              3|                            NULL|         Below the nationa...|                                  NULL|              Above the nationa...|                                       NULL|           Same as the natio...|                                    NULL|                  Below the nationa...|                                           NULL|                     Same as the natio...|                                              NULL|                  Below the nationa...|                                           NULL|                                Above the nationa...|                                                         NULL|                  6.0|Overland_park,66223|Overland_park|66223|\n",
            "|      10024|JACKSON HOSPITAL ...|    1725 PINE STREET|MONTGOMERY|   AL|   36106| MONTGOMERY|3342938000|Acute Care Hospitals|Voluntary non-pro...|               Yes|                                        Y|              3|                            NULL|         Same as the natio...|                                  NULL|              Above the nationa...|                                       NULL|           Above the nationa...|                                    NULL|                  Same as the natio...|                                           NULL|                     Same as the natio...|                                              NULL|                  Below the nationa...|                                           NULL|                                Same as the natio...|                                                         NULL|                  6.0|Overland_park,66223|Overland_park|66223|\n",
            "|      10029|EAST ALABAMA MEDI...|2000 PEPPERELL PA...|   OPELIKA|   AL|   36801|        LEE|3347493411|Acute Care Hospitals|Government - Hosp...|               Yes|                                        Y|              4|                            NULL|         Same as the natio...|                                  NULL|              Above the nationa...|                                       NULL|           Above the nationa...|                                    NULL|                  Above the nationa...|                                           NULL|                     Same as the natio...|                                              NULL|                  Above the nationa...|                                           NULL|                                Same as the natio...|                                                         NULL|                  8.0|Overland_park,66223|Overland_park|66223|\n",
            "|      10032|    WEDOWEE HOSPITAL|209 NORTH MAIN ST...|   WEDOWEE|   AL|   36278|   RANDOLPH|2563572111|Acute Care Hospitals|Government - Hosp...|               Yes|                                        Y|              4|                            NULL|         Same as the natio...|                                  NULL|                     Not Available|                       Results are not a...|           Same as the natio...|                                    NULL|                         Not Available|                           Results are not a...|                     Same as the natio...|                                              NULL|                  Same as the natio...|                                           NULL|                                       Not Available|                                         Results are not a...|                  8.0|Overland_park,66223|Overland_park|66223|\n",
            "|      10033|UNIVERSITY OF ALA...|619 SOUTH 19TH ST...|BIRMINGHAM|   AL|   35233|  JEFFERSON|2059344011|Acute Care Hospitals|  Government - State|               Yes|                                        Y|              3|                            NULL|         Same as the natio...|                                  NULL|              Above the nationa...|                                       NULL|           Below the nationa...|                                    NULL|                  Above the nationa...|                                           NULL|                     Same as the natio...|                                              NULL|                  Below the nationa...|                                           NULL|                                Below the nationa...|                                                         NULL|                  6.0|Overland_park,66223|Overland_park|66223|\n",
            "|      10034|COMMUNITY HOSPITA...| 805 FRIENDSHIP ROAD| TALLASSEE|   AL|   36078|     ELMORE|3342836541|Acute Care Hospitals|Voluntary non-pro...|               Yes|                                        Y|              4|                            NULL|         Same as the natio...|                                  NULL|                     Not Available|                       Results are not a...|           Same as the natio...|                                    NULL|                  Same as the natio...|                                           NULL|                     Same as the natio...|                                              NULL|                  Same as the natio...|                                           NULL|                                       Not Available|                                         Results are not a...|                  8.0|Overland_park,66223|Overland_park|66223|\n",
            "|      10035|CULLMAN REGIONAL ...|1912 ALABAMA HIGH...|   CULLMAN|   AL|   35058|    CULLMAN|2567372000|Acute Care Hospitals|Government - Hosp...|               Yes|                                        Y|              3|                            NULL|         Below the nationa...|                                  NULL|              Above the nationa...|                                       NULL|           Same as the natio...|                                    NULL|                  Same as the natio...|                                           NULL|                     Same as the natio...|                                              NULL|                  Above the nationa...|                                           NULL|                                Same as the natio...|                                                         NULL|                  6.0|Overland_park,66223|Overland_park|66223|\n",
            "|      10036|ANDALUSIA REGIONA...|849 SOUTH THREE N...| ANDALUSIA|   AL|   36420|  COVINGTON|3342228466|Acute Care Hospitals|         Proprietary|               Yes|                                        Y|              3|                            NULL|         Same as the natio...|                                  NULL|              Below the nationa...|                                       NULL|           Below the nationa...|                                    NULL|                  Below the nationa...|                                           NULL|                     Same as the natio...|                                              NULL|                  Above the nationa...|                                           NULL|                                Same as the natio...|                                                         NULL|                  6.0|Overland_park,66223|Overland_park|66223|\n",
            "+-----------+--------------------+--------------------+----------+-----+--------+-----------+----------+--------------------+--------------------+------------------+-----------------------------------------+---------------+--------------------------------+-----------------------------+--------------------------------------+----------------------------------+-------------------------------------------+-------------------------------+----------------------------------------+--------------------------------------+-----------------------------------------------+-----------------------------------------+--------------------------------------------------+--------------------------------------+-----------------------------------------------+----------------------------------------------------+-------------------------------------------------------------+---------------------+-------------------+-------------+-----+\n",
            "only showing top 20 rows\n",
            "\n"
          ]
        }
      ]
    },
    {
      "cell_type": "markdown",
      "source": [
        "Drop a column from Dataframe"
      ],
      "metadata": {
        "id": "dqVrweh-HvfN"
      }
    },
    {
      "cell_type": "code",
      "source": [
        "df = df.drop('Location')\n",
        "df.show()"
      ],
      "metadata": {
        "colab": {
          "base_uri": "https://localhost:8080/"
        },
        "id": "adoEsuNZHt6-",
        "outputId": "69907519-9d03-4a21-82df-a3972b52b51b"
      },
      "execution_count": 81,
      "outputs": [
        {
          "output_type": "stream",
          "name": "stdout",
          "text": [
            "+-----------+--------------------+--------------------+----------+-----+--------+-----------+----------+--------------------+--------------------+------------------+-----------------------------------------+---------------+--------------------------------+-----------------------------+--------------------------------------+----------------------------------+-------------------------------------------+-------------------------------+----------------------------------------+--------------------------------------+-----------------------------------------------+-----------------------------------------+--------------------------------------------------+--------------------------------------+-----------------------------------------------+----------------------------------------------------+-------------------------------------------------------------+---------------------+-------------+-----+\n",
            "|Provider_ID|       Hospital_Name|             Address|      City|State|ZIP_Code|County_Name|     Ph_no|       Hospital_Type|  Hospital_Ownership|Emergency_Services|Meets_criteria for meaningful use of EHRs|Hospital_rating|Hospital overall rating footnote|Mortality national comparison|Mortality national comparison footnote|Safety of care national comparison|Safety of care national comparison footnote|Readmission national comparison|Readmission national comparison footnote|Patient experience national comparison|Patient experience national comparison footnote|Effectiveness of care national comparison|Effectiveness of care national comparison footnote|Timeliness of care national comparison|Timeliness of care national comparison footnote|Efficient use of medical imaging national comparison|Efficient use of medical imaging national comparison footnote|Hospital_rating_twice|        Place| code|\n",
            "+-----------+--------------------+--------------------+----------+-----+--------+-----------+----------+--------------------+--------------------+------------------+-----------------------------------------+---------------+--------------------------------+-----------------------------+--------------------------------------+----------------------------------+-------------------------------------------+-------------------------------+----------------------------------------+--------------------------------------+-----------------------------------------------+-----------------------------------------+--------------------------------------------------+--------------------------------------+-----------------------------------------------+----------------------------------------------------+-------------------------------------------------------------+---------------------+-------------+-----+\n",
            "|      10001|SOUTHEAST ALABAMA...|1108 ROSS CLARK C...|    DOTHAN|   AL|   36301|    HOUSTON|3347938701|Acute Care Hospitals|Government - Hosp...|               Yes|                                     NULL|              3|                            NULL|         Same as the natio...|                                  NULL|              Above the nationa...|                                       NULL|           Same as the natio...|                                    NULL|                  Below the nationa...|                                           NULL|                     Same as the natio...|                                              NULL|                  Same as the natio...|                                           NULL|                                Same as the natio...|                                                         NULL|                  6.0|Overland_park|66223|\n",
            "|      10005|MARSHALL MEDICAL ...|2505 U S HIGHWAY ...|      BOAZ|   AL|   35957|   MARSHALL|2565938310|Acute Care Hospitals|Government - Hosp...|               Yes|                                        Y|              3|                            NULL|         Below the nationa...|                                  NULL|              Same as the natio...|                                       NULL|           Above the nationa...|                                    NULL|                  Same as the natio...|                                           NULL|                     Same as the natio...|                                              NULL|                  Above the nationa...|                                           NULL|                                Below the nationa...|                                                         NULL|                  6.0|Overland_park|66223|\n",
            "|      10006|ELIZA COFFEE MEMO...|  205 MARENGO STREET|  FLORENCE|   AL|   35631| LAUDERDALE|2567688400|Acute Care Hospitals|Government - Hosp...|               Yes|                                        Y|              2|                            NULL|         Below the nationa...|                                  NULL|              Same as the natio...|                                       NULL|           Same as the natio...|                                    NULL|                  Below the nationa...|                                           NULL|                     Same as the natio...|                                              NULL|                  Above the nationa...|                                           NULL|                                Same as the natio...|                                                         NULL|                  4.0|Overland_park|66223|\n",
            "|      10007|MIZELL MEMORIAL H...|       702 N MAIN ST|       OPP|   AL|   36467|  COVINGTON|3344933541|Acute Care Hospitals|Voluntary non-pro...|               Yes|                                        Y|              2|                            NULL|         Same as the natio...|                                  NULL|                     Not Available|                       Results are not a...|           Below the nationa...|                                    NULL|                  Same as the natio...|                                           NULL|                     Below the nationa...|                                              NULL|                  Above the nationa...|                                           NULL|                                       Not Available|                                         Results are not a...|                  4.0|Overland_park|66223|\n",
            "|      10008|CRENSHAW COMMUNIT...| 101 HOSPITAL CIRCLE|   LUVERNE|   AL|   36049|   CRENSHAW|3343353374|Acute Care Hospitals|         Proprietary|               Yes|                                        Y|              3|                            NULL|         Same as the natio...|                                  NULL|                     Not Available|                       Results are not a...|           Same as the natio...|                                    NULL|                         Not Available|                           Results are not a...|                     Same as the natio...|                                              NULL|                  Above the nationa...|                                           NULL|                                       Not Available|                                         Results are not a...|                  6.0|Overland_park|66223|\n",
            "|      10011|   ST VINCENT'S EAST|50 MEDICAL PARK E...|BIRMINGHAM|   AL|   35235|  JEFFERSON|2058383122|Acute Care Hospitals|Voluntary non-pro...|               Yes|                                        Y|              2|                            NULL|         Same as the natio...|                                  NULL|              Below the nationa...|                                       NULL|           Same as the natio...|                                    NULL|                  Below the nationa...|                                           NULL|                     Below the nationa...|                                              NULL|                  Same as the natio...|                                           NULL|                                Same as the natio...|                                                         NULL|                  4.0|Overland_park|66223|\n",
            "|      10012|DEKALB REGIONAL M...|200 MED CENTER DRIVE|FORT PAYNE|   AL|   35968|    DE KALB|2568453150|Acute Care Hospitals|         Proprietary|               Yes|                                        Y|              3|                            NULL|         Below the nationa...|                                  NULL|              Same as the natio...|                                       NULL|           Same as the natio...|                                    NULL|                  Same as the natio...|                                           NULL|                     Same as the natio...|                                              NULL|                  Above the nationa...|                                           NULL|                                Same as the natio...|                                                         NULL|                  6.0|Overland_park|66223|\n",
            "|      10016|SHELBY BAPTIST ME...|1000 FIRST STREET...| ALABASTER|   AL|   35007|     SHELBY|2056208100|Acute Care Hospitals|Voluntary non-pro...|               Yes|                                        Y|              3|                            NULL|         Same as the natio...|                                  NULL|              Above the nationa...|                                       NULL|           Above the nationa...|                                    NULL|                  Below the nationa...|                                           NULL|                     Same as the natio...|                                              NULL|                  Below the nationa...|                                           NULL|                                Below the nationa...|                                                         NULL|                  6.0|Overland_park|66223|\n",
            "|      10018|CALLAHAN EYE HOSP...|1720 UNIVERSITY BLVD|BIRMINGHAM|   AL|   35233|  JEFFERSON|2053258100|Acute Care Hospitals|Voluntary non-pro...|               Yes|                                        Y|  Not Available|            There are too few...|                Not Available|                  Results are not a...|                     Not Available|                       Results are not a...|                  Not Available|                    Results are not a...|                         Not Available|                           Results are not a...|                     Same as the natio...|                                              NULL|                  Same as the natio...|                                           NULL|                                       Not Available|                                         Results are not a...|                 NULL|Overland_park|66223|\n",
            "|      10019|HELEN KELLER MEMO...|1300 SOUTH MONTGO...| SHEFFIELD|   AL|   35660|    COLBERT|2563864556|Acute Care Hospitals|Government - Hosp...|               Yes|                                        Y|              2|                            NULL|         Below the nationa...|                                  NULL|              Below the nationa...|                                       NULL|           Below the nationa...|                                    NULL|                  Below the nationa...|                                           NULL|                     Same as the natio...|                                              NULL|                  Above the nationa...|                                           NULL|                                Below the nationa...|                                                         NULL|                  4.0|Overland_park|66223|\n",
            "|      10021| DALE MEDICAL CENTER|    126 HOSPITAL AVE|     OZARK|   AL|   36360|       DALE|3347742601|Acute Care Hospitals|Government - Hosp...|               Yes|                                        Y|              4|                            NULL|         Same as the natio...|                                  NULL|              Same as the natio...|                                       NULL|           Same as the natio...|                                    NULL|                  Above the nationa...|                                           NULL|                     Same as the natio...|                                              NULL|                  Above the nationa...|                                           NULL|                                Same as the natio...|                                                         NULL|                  8.0|Overland_park|66223|\n",
            "|      10022|CHEROKEE MEDICAL ...|    400 NORTHWOOD DR|    CENTRE|   AL|   35960|   CHEROKEE|2569275531|Acute Care Hospitals|Voluntary non-pro...|               Yes|                                        Y|              4|                            NULL|         Same as the natio...|                                  NULL|                     Not Available|                       Results are not a...|           Same as the natio...|                                    NULL|                  Above the nationa...|                                           NULL|                     Same as the natio...|                                              NULL|                  Same as the natio...|                                           NULL|                                       Not Available|                                         Results are not a...|                  8.0|Overland_park|66223|\n",
            "|      10023|BAPTIST MEDICAL C...|2105 EAST SOUTH B...|MONTGOMERY|   AL|   36116| MONTGOMERY|3342882100|Acute Care Hospitals|Government - Hosp...|               Yes|                                        Y|              3|                            NULL|         Below the nationa...|                                  NULL|              Above the nationa...|                                       NULL|           Same as the natio...|                                    NULL|                  Below the nationa...|                                           NULL|                     Same as the natio...|                                              NULL|                  Below the nationa...|                                           NULL|                                Above the nationa...|                                                         NULL|                  6.0|Overland_park|66223|\n",
            "|      10024|JACKSON HOSPITAL ...|    1725 PINE STREET|MONTGOMERY|   AL|   36106| MONTGOMERY|3342938000|Acute Care Hospitals|Voluntary non-pro...|               Yes|                                        Y|              3|                            NULL|         Same as the natio...|                                  NULL|              Above the nationa...|                                       NULL|           Above the nationa...|                                    NULL|                  Same as the natio...|                                           NULL|                     Same as the natio...|                                              NULL|                  Below the nationa...|                                           NULL|                                Same as the natio...|                                                         NULL|                  6.0|Overland_park|66223|\n",
            "|      10029|EAST ALABAMA MEDI...|2000 PEPPERELL PA...|   OPELIKA|   AL|   36801|        LEE|3347493411|Acute Care Hospitals|Government - Hosp...|               Yes|                                        Y|              4|                            NULL|         Same as the natio...|                                  NULL|              Above the nationa...|                                       NULL|           Above the nationa...|                                    NULL|                  Above the nationa...|                                           NULL|                     Same as the natio...|                                              NULL|                  Above the nationa...|                                           NULL|                                Same as the natio...|                                                         NULL|                  8.0|Overland_park|66223|\n",
            "|      10032|    WEDOWEE HOSPITAL|209 NORTH MAIN ST...|   WEDOWEE|   AL|   36278|   RANDOLPH|2563572111|Acute Care Hospitals|Government - Hosp...|               Yes|                                        Y|              4|                            NULL|         Same as the natio...|                                  NULL|                     Not Available|                       Results are not a...|           Same as the natio...|                                    NULL|                         Not Available|                           Results are not a...|                     Same as the natio...|                                              NULL|                  Same as the natio...|                                           NULL|                                       Not Available|                                         Results are not a...|                  8.0|Overland_park|66223|\n",
            "|      10033|UNIVERSITY OF ALA...|619 SOUTH 19TH ST...|BIRMINGHAM|   AL|   35233|  JEFFERSON|2059344011|Acute Care Hospitals|  Government - State|               Yes|                                        Y|              3|                            NULL|         Same as the natio...|                                  NULL|              Above the nationa...|                                       NULL|           Below the nationa...|                                    NULL|                  Above the nationa...|                                           NULL|                     Same as the natio...|                                              NULL|                  Below the nationa...|                                           NULL|                                Below the nationa...|                                                         NULL|                  6.0|Overland_park|66223|\n",
            "|      10034|COMMUNITY HOSPITA...| 805 FRIENDSHIP ROAD| TALLASSEE|   AL|   36078|     ELMORE|3342836541|Acute Care Hospitals|Voluntary non-pro...|               Yes|                                        Y|              4|                            NULL|         Same as the natio...|                                  NULL|                     Not Available|                       Results are not a...|           Same as the natio...|                                    NULL|                  Same as the natio...|                                           NULL|                     Same as the natio...|                                              NULL|                  Same as the natio...|                                           NULL|                                       Not Available|                                         Results are not a...|                  8.0|Overland_park|66223|\n",
            "|      10035|CULLMAN REGIONAL ...|1912 ALABAMA HIGH...|   CULLMAN|   AL|   35058|    CULLMAN|2567372000|Acute Care Hospitals|Government - Hosp...|               Yes|                                        Y|              3|                            NULL|         Below the nationa...|                                  NULL|              Above the nationa...|                                       NULL|           Same as the natio...|                                    NULL|                  Same as the natio...|                                           NULL|                     Same as the natio...|                                              NULL|                  Above the nationa...|                                           NULL|                                Same as the natio...|                                                         NULL|                  6.0|Overland_park|66223|\n",
            "|      10036|ANDALUSIA REGIONA...|849 SOUTH THREE N...| ANDALUSIA|   AL|   36420|  COVINGTON|3342228466|Acute Care Hospitals|         Proprietary|               Yes|                                        Y|              3|                            NULL|         Same as the natio...|                                  NULL|              Below the nationa...|                                       NULL|           Below the nationa...|                                    NULL|                  Below the nationa...|                                           NULL|                     Same as the natio...|                                              NULL|                  Above the nationa...|                                           NULL|                                Same as the natio...|                                                         NULL|                  6.0|Overland_park|66223|\n",
            "+-----------+--------------------+--------------------+----------+-----+--------+-----------+----------+--------------------+--------------------+------------------+-----------------------------------------+---------------+--------------------------------+-----------------------------+--------------------------------------+----------------------------------+-------------------------------------------+-------------------------------+----------------------------------------+--------------------------------------+-----------------------------------------------+-----------------------------------------+--------------------------------------------------+--------------------------------------+-----------------------------------------------+----------------------------------------------------+-------------------------------------------------------------+---------------------+-------------+-----+\n",
            "only showing top 20 rows\n",
            "\n"
          ]
        }
      ]
    },
    {
      "cell_type": "markdown",
      "source": [
        "Filter data based on particular column values"
      ],
      "metadata": {
        "id": "ka3IZqz5H1du"
      }
    },
    {
      "cell_type": "code",
      "source": [
        "from pyspark.sql.functions import filter\n",
        "df.filter(df.Provider_ID >= \"10500\").show()"
      ],
      "metadata": {
        "colab": {
          "base_uri": "https://localhost:8080/"
        },
        "id": "Ia0FZPf3H4Ye",
        "outputId": "66364856-8c96-4ae0-d202-d47ca1daa0e6"
      },
      "execution_count": 82,
      "outputs": [
        {
          "output_type": "stream",
          "name": "stdout",
          "text": [
            "+-----------+--------------------+--------------------+----------+-----+--------+--------------------+----------+--------------------+--------------------+------------------+-----------------------------------------+---------------+--------------------------------+-----------------------------+--------------------------------------+----------------------------------+-------------------------------------------+-------------------------------+----------------------------------------+--------------------------------------+-----------------------------------------------+-----------------------------------------+--------------------------------------------------+--------------------------------------+-----------------------------------------------+----------------------------------------------------+-------------------------------------------------------------+---------------------+-------------+-----+\n",
            "|Provider_ID|       Hospital_Name|             Address|      City|State|ZIP_Code|         County_Name|     Ph_no|       Hospital_Type|  Hospital_Ownership|Emergency_Services|Meets_criteria for meaningful use of EHRs|Hospital_rating|Hospital overall rating footnote|Mortality national comparison|Mortality national comparison footnote|Safety of care national comparison|Safety of care national comparison footnote|Readmission national comparison|Readmission national comparison footnote|Patient experience national comparison|Patient experience national comparison footnote|Effectiveness of care national comparison|Effectiveness of care national comparison footnote|Timeliness of care national comparison|Timeliness of care national comparison footnote|Efficient use of medical imaging national comparison|Efficient use of medical imaging national comparison footnote|Hospital_rating_twice|        Place| code|\n",
            "+-----------+--------------------+--------------------+----------+-----+--------+--------------------+----------+--------------------+--------------------+------------------+-----------------------------------------+---------------+--------------------------------+-----------------------------+--------------------------------------+----------------------------------+-------------------------------------------+-------------------------------+----------------------------------------+--------------------------------------+-----------------------------------------------+-----------------------------------------+--------------------------------------------------+--------------------------------------+-----------------------------------------------+----------------------------------------------------+-------------------------------------------------------------+---------------------+-------------+-----+\n",
            "|      11300|WASHINGTON COUNTY...|14600 ST. STEPHEN...|    CHATOM|   AL|   36518|          WASHINGTON|2518472223|Critical Access H...|         Proprietary|               Yes|                                        Y|  Not Available|            There are too few...|                Not Available|                  Results are not a...|                     Not Available|                       Results are not a...|                  Not Available|                    Results are not a...|                         Not Available|                           Results are not a...|                     Same as the natio...|                                              NULL|                  Above the nationa...|                                           NULL|                                       Not Available|                                         Results are not a...|                 NULL|Overland_park|66223|\n",
            "|      11302|    RED BAY HOSPITAL|   211 HOSPITAL ROAD|   RED BAY|   AL|   35582|            FRANKLIN|2563569532|Critical Access H...|Government - Hosp...|               Yes|                                        Y|  Not Available|            There are too few...|                Not Available|                  Results are not a...|                     Not Available|                       Results are not a...|           Same as the natio...|                                    NULL|                         Not Available|                           Results are not a...|                            Not Available|                              Results are not a...|                         Not Available|                           Results are not a...|                                       Not Available|                                         Results are not a...|                 NULL|Overland_park|66223|\n",
            "|      11304|CHOCTAW GENERAL H...|401 VANITY FAIR L...|    BUTLER|   AL|   36904|             CHOCTAW|2054599100|Critical Access H...|Voluntary non-pro...|               Yes|                                        Y|  Not Available|            There are too few...|                Not Available|                  Results are not a...|                     Not Available|                       Results are not a...|                  Not Available|                    Results are not a...|                         Not Available|                           Results are not a...|                            Not Available|                              Results are not a...|                  Same as the natio...|                                           NULL|                                       Not Available|                                         Results are not a...|                 NULL|Overland_park|66223|\n",
            "|      11305|  ST VINCENTS BLOUNT| 150 GILBREATH DRIVE|   ONEONTA|   AL|   35121|              BLOUNT|2052743000|Critical Access H...|Voluntary non-pro...|                No|                                        Y|              3|                            NULL|         Same as the natio...|                                  NULL|                     Not Available|                       Results are not a...|           Same as the natio...|                                    NULL|                  Above the nationa...|                                           NULL|                     Same as the natio...|                                              NULL|                  Same as the natio...|                                           NULL|                                       Not Available|                                         Results are not a...|                  6.0|Overland_park|66223|\n",
            "|      13300|CHILDREN'S HOSPIT...|1600 SEVENTH AVEN...|BIRMINGHAM|   AL|   35233|           JEFFERSON|2059399100|           Childrens|Voluntary non-pro...|               Yes|                                        Y|  Not Available|            Data are shown on...|                Not Available|                  Data are shown on...|                     Not Available|                       Data are shown on...|                  Not Available|                    Data are shown on...|                         Not Available|                           Data are shown on...|                            Not Available|                              Data are shown on...|                         Not Available|                           Data are shown on...|                                       Not Available|                                         Data are shown on...|                 NULL|Overland_park|66223|\n",
            "|      13301|UNIVERSITY OF S A...|  1700 CENTER STREET|    MOBILE|   AL|   36604|              MOBILE|2514151000|           Childrens|  Government - State|               Yes|                                        Y|  Not Available|            Results are not a...|                Not Available|                  Results are not a...|                     Not Available|                       Results are not a...|                  Not Available|                    Results are not a...|                         Not Available|                           Results are not a...|                            Not Available|                              Results are not a...|                         Not Available|                           Results are not a...|                                       Not Available|                                         Results are not a...|                 NULL|Overland_park|66223|\n",
            "|      20001|PROVIDENCE ALASKA...|3200 PROVIDENCE D...| ANCHORAGE|   AK|   99508|           ANCHORAGE|9075622211|Acute Care Hospitals|Voluntary non-pro...|               Yes|                                        Y|              3|                            NULL|         Same as the natio...|                                  NULL|              Below the nationa...|                                       NULL|           Above the nationa...|                                    NULL|                  Same as the natio...|                                           NULL|                     Same as the natio...|                                              NULL|                  Below the nationa...|                                           NULL|                                Same as the natio...|                                                         NULL|                  6.0|Overland_park|66223|\n",
            "|      20006|MAT-SU REGIONAL M...|2500 SOUTH WOODWO...|    PALMER|   AK|   99645|   MATANUSKA SUSITNA|9078616000|Acute Care Hospitals|Voluntary non-pro...|               Yes|                                        Y|              3|                            NULL|         Same as the natio...|                                  NULL|              Same as the natio...|                                       NULL|           Same as the natio...|                                    NULL|                  Below the nationa...|                                           NULL|                     Same as the natio...|                                              NULL|                  Same as the natio...|                                           NULL|                                Same as the natio...|                                                         NULL|                  6.0|Overland_park|66223|\n",
            "|      20008|BARTLETT REGIONAL...|    3260 HOSPITAL DR|    JUNEAU|   AK|   99801|              JUNEAU|9077968900|Acute Care Hospitals|  Government - Local|               Yes|                                        Y|              3|                            NULL|         Same as the natio...|                                  NULL|              Same as the natio...|                                       NULL|           Same as the natio...|                                    NULL|                  Same as the natio...|                                           NULL|                     Same as the natio...|                                              NULL|                  Same as the natio...|                                           NULL|                                       Not Available|                                         Results are not a...|                  6.0|Overland_park|66223|\n",
            "|      20012|FAIRBANKS MEMORIA...|  1650 COWLES STREET| FAIRBANKS|   AK|   99701|FAIRBANKS NORTH STAR|9074528181|Acute Care Hospitals|Voluntary non-pro...|               Yes|                                        Y|              3|                            NULL|         Same as the natio...|                                  NULL|              Below the nationa...|                                       NULL|           Above the nationa...|                                    NULL|                  Above the nationa...|                                           NULL|                     Same as the natio...|                                              NULL|                  Same as the natio...|                                           NULL|                                Same as the natio...|                                                         NULL|                  6.0|Overland_park|66223|\n",
            "|      20017|ALASKA REGIONAL H...|    2801 DEBARR ROAD| ANCHORAGE|   AK|   99508|           ANCHORAGE|9072761131|Acute Care Hospitals|         Proprietary|               Yes|                                        Y|              3|                            NULL|         Same as the natio...|                                  NULL|              Below the nationa...|                                       NULL|           Above the nationa...|                                    NULL|                  Same as the natio...|                                           NULL|                     Same as the natio...|                                              NULL|                  Same as the natio...|                                           NULL|                                       Not Available|                                         Results are not a...|                  6.0|Overland_park|66223|\n",
            "|      20018|YUKON KUSKOKWIM D...|          PO BOX 287|    BETHEL|   AK|   99559|              BETHEL|9075436300|Acute Care Hospitals|              Tribal|               Yes|                                        Y|              3|            This hospital�s s...|         Same as the natio...|                                  NULL|                     Not Available|                       Results are not a...|           Same as the natio...|                                    NULL|                  Below the nationa...|                                           NULL|                            Not Available|                              Results are not a...|                         Not Available|                           Results are not a...|                                       Not Available|                                         Results are not a...|                  6.0|Overland_park|66223|\n",
            "|      20026|ALASKA NATIVE MED...|   4315 DIPLOMACY DR| ANCHORAGE|   AK|   99508|           ANCHORAGE|9075632662|Acute Care Hospitals|Government - Federal|               Yes|                                        Y|              2|            This hospital�s s...|         Same as the natio...|                                  NULL|              Below the nationa...|                                       NULL|           Same as the natio...|                                    NULL|                  Below the nationa...|                                           NULL|                     Below the nationa...|                                              NULL|                         Not Available|                           Results are not a...|                                       Not Available|                                         Results are not a...|                  4.0|Overland_park|66223|\n",
            "|      21303|SITKA COMMUNITY H...|    209 MOLLER DRIVE|     SITKA|   AK|   99835|               SITKA|9077473241|Critical Access H...|  Government - Local|               Yes|                                        Y|  Not Available|            There are too few...|                Not Available|                  Results are not a...|                     Not Available|                       Results are not a...|                  Not Available|                    Results are not a...|                         Not Available|                           Results are not a...|                            Not Available|                              Results are not a...|                         Not Available|                           Results are not a...|                                       Not Available|                                         Results are not a...|                 NULL|Overland_park|66223|\n",
            "|      21306|PROVIDENCE KODIAK...|1915 EAST REZANOF...|    KODIAK|   AK|   99615|       KODIAK ISLAND|9074869592|Critical Access H...|Voluntary non-pro...|               Yes|                                        Y|  Not Available|            There are too few...|                Not Available|                  Results are not a...|                     Not Available|                       Results are not a...|           Same as the natio...|                                    NULL|                         Not Available|                           Results are not a...|                            Not Available|                              Results are not a...|                         Not Available|                           Results are not a...|                                       Not Available|                                         Results are not a...|                 NULL|Overland_park|66223|\n",
            "|      21308|NORTON SOUND REGI...|1000 GREG KRUSCHE...|      NOME|   AK|   99762|                NOME|9074433311|Critical Access H...|              Tribal|               Yes|                                        Y|  Not Available|            There are too few...|                Not Available|                  Results are not a...|                     Not Available|                       Results are not a...|                  Not Available|                    Results are not a...|                         Not Available|                           Results are not a...|                            Not Available|                              Results are not a...|                         Not Available|                           Results are not a...|                                       Not Available|                                         Results are not a...|                 NULL|Overland_park|66223|\n",
            "|      21309|  KANAKANAK HOSPITAL|         P O BOX 130|DILLINGHAM|   AK|   99576|          DILLINGHAM|9078425201|Critical Access H...|Voluntary non-pro...|               Yes|                                        Y|  Not Available|            There are too few...|                Not Available|                  Results are not a...|                     Not Available|                       Results are not a...|                  Not Available|                    Results are not a...|                         Not Available|                           Results are not a...|                            Not Available|                              Results are not a...|                         Not Available|                           Results are not a...|                                       Not Available|                                         Results are not a...|                 NULL|Overland_park|66223|\n",
            "|      21310|MANIILAQ HEALTH C...|           PO BOX 43|  KOTZEBUE|   AK|   99752|    NORTHWEST ARCTIC|9074423321|Critical Access H...|              Tribal|               Yes|                                        Y|  Not Available|            Data are shown on...|                Not Available|                  Data are shown on...|                     Not Available|                       Data are shown on...|                  Not Available|                    Data are shown on...|                         Not Available|                           Data are shown on...|                            Not Available|                              Data are shown on...|                         Not Available|                           Data are shown on...|                                       Not Available|                                         Data are shown on...|                 NULL|Overland_park|66223|\n",
            "|      21311|PEACEHEALTH KETCH...| 3100 TONGASS AVENUE| KETCHIKAN|   AK|   99901|   KETCHIKAN GATEWAY|9072255171|Critical Access H...|Voluntary non-pro...|               Yes|                                        Y|              3|                            NULL|                Not Available|                  Results are not a...|                     Not Available|                       Results are not a...|           Same as the natio...|                                    NULL|                  Same as the natio...|                                           NULL|                     Same as the natio...|                                              NULL|                  Same as the natio...|                                           NULL|                                       Not Available|                                         Results are not a...|                  6.0|Overland_park|66223|\n",
            "|      21314|MT EDGECUMBE HOSP...|      222 TONGASS DR|     SITKA|   AK|   99835|               SITKA|9079662411|Critical Access H...|Voluntary non-pro...|               Yes|                                     NULL|  Not Available|            There are too few...|                Not Available|                  Results are not a...|                     Not Available|                       Results are not a...|                  Not Available|                    Results are not a...|                         Not Available|                           Results are not a...|                            Not Available|                              Results are not a...|                         Not Available|                           Results are not a...|                                       Not Available|                                         Results are not a...|                 NULL|Overland_park|66223|\n",
            "+-----------+--------------------+--------------------+----------+-----+--------+--------------------+----------+--------------------+--------------------+------------------+-----------------------------------------+---------------+--------------------------------+-----------------------------+--------------------------------------+----------------------------------+-------------------------------------------+-------------------------------+----------------------------------------+--------------------------------------+-----------------------------------------------+-----------------------------------------+--------------------------------------------------+--------------------------------------+-----------------------------------------------+----------------------------------------------------+-------------------------------------------------------------+---------------------+-------------+-----+\n",
            "only showing top 20 rows\n",
            "\n"
          ]
        }
      ]
    },
    {
      "cell_type": "markdown",
      "source": [
        "Display Not Null Values in Data set"
      ],
      "metadata": {
        "id": "pfbcrpvYIQDJ"
      }
    },
    {
      "cell_type": "code",
      "source": [
        "from pyspark.sql.functions import *\n",
        "df.filter(df.Hospital_rating_twice.isNotNull()).show()"
      ],
      "metadata": {
        "colab": {
          "base_uri": "https://localhost:8080/"
        },
        "id": "5E0S0HO3IRBn",
        "outputId": "de3494f7-23d8-456f-cd54-d8ccdab0bde9"
      },
      "execution_count": 83,
      "outputs": [
        {
          "output_type": "stream",
          "name": "stdout",
          "text": [
            "+-----------+--------------------+--------------------+----------+-----+--------+-----------+----------+--------------------+--------------------+------------------+-----------------------------------------+---------------+--------------------------------+-----------------------------+--------------------------------------+----------------------------------+-------------------------------------------+-------------------------------+----------------------------------------+--------------------------------------+-----------------------------------------------+-----------------------------------------+--------------------------------------------------+--------------------------------------+-----------------------------------------------+----------------------------------------------------+-------------------------------------------------------------+---------------------+-------------+-----+\n",
            "|Provider_ID|       Hospital_Name|             Address|      City|State|ZIP_Code|County_Name|     Ph_no|       Hospital_Type|  Hospital_Ownership|Emergency_Services|Meets_criteria for meaningful use of EHRs|Hospital_rating|Hospital overall rating footnote|Mortality national comparison|Mortality national comparison footnote|Safety of care national comparison|Safety of care national comparison footnote|Readmission national comparison|Readmission national comparison footnote|Patient experience national comparison|Patient experience national comparison footnote|Effectiveness of care national comparison|Effectiveness of care national comparison footnote|Timeliness of care national comparison|Timeliness of care national comparison footnote|Efficient use of medical imaging national comparison|Efficient use of medical imaging national comparison footnote|Hospital_rating_twice|        Place| code|\n",
            "+-----------+--------------------+--------------------+----------+-----+--------+-----------+----------+--------------------+--------------------+------------------+-----------------------------------------+---------------+--------------------------------+-----------------------------+--------------------------------------+----------------------------------+-------------------------------------------+-------------------------------+----------------------------------------+--------------------------------------+-----------------------------------------------+-----------------------------------------+--------------------------------------------------+--------------------------------------+-----------------------------------------------+----------------------------------------------------+-------------------------------------------------------------+---------------------+-------------+-----+\n",
            "|      10001|SOUTHEAST ALABAMA...|1108 ROSS CLARK C...|    DOTHAN|   AL|   36301|    HOUSTON|3347938701|Acute Care Hospitals|Government - Hosp...|               Yes|                                     NULL|              3|                            NULL|         Same as the natio...|                                  NULL|              Above the nationa...|                                       NULL|           Same as the natio...|                                    NULL|                  Below the nationa...|                                           NULL|                     Same as the natio...|                                              NULL|                  Same as the natio...|                                           NULL|                                Same as the natio...|                                                         NULL|                  6.0|Overland_park|66223|\n",
            "|      10005|MARSHALL MEDICAL ...|2505 U S HIGHWAY ...|      BOAZ|   AL|   35957|   MARSHALL|2565938310|Acute Care Hospitals|Government - Hosp...|               Yes|                                        Y|              3|                            NULL|         Below the nationa...|                                  NULL|              Same as the natio...|                                       NULL|           Above the nationa...|                                    NULL|                  Same as the natio...|                                           NULL|                     Same as the natio...|                                              NULL|                  Above the nationa...|                                           NULL|                                Below the nationa...|                                                         NULL|                  6.0|Overland_park|66223|\n",
            "|      10006|ELIZA COFFEE MEMO...|  205 MARENGO STREET|  FLORENCE|   AL|   35631| LAUDERDALE|2567688400|Acute Care Hospitals|Government - Hosp...|               Yes|                                        Y|              2|                            NULL|         Below the nationa...|                                  NULL|              Same as the natio...|                                       NULL|           Same as the natio...|                                    NULL|                  Below the nationa...|                                           NULL|                     Same as the natio...|                                              NULL|                  Above the nationa...|                                           NULL|                                Same as the natio...|                                                         NULL|                  4.0|Overland_park|66223|\n",
            "|      10007|MIZELL MEMORIAL H...|       702 N MAIN ST|       OPP|   AL|   36467|  COVINGTON|3344933541|Acute Care Hospitals|Voluntary non-pro...|               Yes|                                        Y|              2|                            NULL|         Same as the natio...|                                  NULL|                     Not Available|                       Results are not a...|           Below the nationa...|                                    NULL|                  Same as the natio...|                                           NULL|                     Below the nationa...|                                              NULL|                  Above the nationa...|                                           NULL|                                       Not Available|                                         Results are not a...|                  4.0|Overland_park|66223|\n",
            "|      10008|CRENSHAW COMMUNIT...| 101 HOSPITAL CIRCLE|   LUVERNE|   AL|   36049|   CRENSHAW|3343353374|Acute Care Hospitals|         Proprietary|               Yes|                                        Y|              3|                            NULL|         Same as the natio...|                                  NULL|                     Not Available|                       Results are not a...|           Same as the natio...|                                    NULL|                         Not Available|                           Results are not a...|                     Same as the natio...|                                              NULL|                  Above the nationa...|                                           NULL|                                       Not Available|                                         Results are not a...|                  6.0|Overland_park|66223|\n",
            "|      10011|   ST VINCENT'S EAST|50 MEDICAL PARK E...|BIRMINGHAM|   AL|   35235|  JEFFERSON|2058383122|Acute Care Hospitals|Voluntary non-pro...|               Yes|                                        Y|              2|                            NULL|         Same as the natio...|                                  NULL|              Below the nationa...|                                       NULL|           Same as the natio...|                                    NULL|                  Below the nationa...|                                           NULL|                     Below the nationa...|                                              NULL|                  Same as the natio...|                                           NULL|                                Same as the natio...|                                                         NULL|                  4.0|Overland_park|66223|\n",
            "|      10012|DEKALB REGIONAL M...|200 MED CENTER DRIVE|FORT PAYNE|   AL|   35968|    DE KALB|2568453150|Acute Care Hospitals|         Proprietary|               Yes|                                        Y|              3|                            NULL|         Below the nationa...|                                  NULL|              Same as the natio...|                                       NULL|           Same as the natio...|                                    NULL|                  Same as the natio...|                                           NULL|                     Same as the natio...|                                              NULL|                  Above the nationa...|                                           NULL|                                Same as the natio...|                                                         NULL|                  6.0|Overland_park|66223|\n",
            "|      10016|SHELBY BAPTIST ME...|1000 FIRST STREET...| ALABASTER|   AL|   35007|     SHELBY|2056208100|Acute Care Hospitals|Voluntary non-pro...|               Yes|                                        Y|              3|                            NULL|         Same as the natio...|                                  NULL|              Above the nationa...|                                       NULL|           Above the nationa...|                                    NULL|                  Below the nationa...|                                           NULL|                     Same as the natio...|                                              NULL|                  Below the nationa...|                                           NULL|                                Below the nationa...|                                                         NULL|                  6.0|Overland_park|66223|\n",
            "|      10019|HELEN KELLER MEMO...|1300 SOUTH MONTGO...| SHEFFIELD|   AL|   35660|    COLBERT|2563864556|Acute Care Hospitals|Government - Hosp...|               Yes|                                        Y|              2|                            NULL|         Below the nationa...|                                  NULL|              Below the nationa...|                                       NULL|           Below the nationa...|                                    NULL|                  Below the nationa...|                                           NULL|                     Same as the natio...|                                              NULL|                  Above the nationa...|                                           NULL|                                Below the nationa...|                                                         NULL|                  4.0|Overland_park|66223|\n",
            "|      10021| DALE MEDICAL CENTER|    126 HOSPITAL AVE|     OZARK|   AL|   36360|       DALE|3347742601|Acute Care Hospitals|Government - Hosp...|               Yes|                                        Y|              4|                            NULL|         Same as the natio...|                                  NULL|              Same as the natio...|                                       NULL|           Same as the natio...|                                    NULL|                  Above the nationa...|                                           NULL|                     Same as the natio...|                                              NULL|                  Above the nationa...|                                           NULL|                                Same as the natio...|                                                         NULL|                  8.0|Overland_park|66223|\n",
            "|      10022|CHEROKEE MEDICAL ...|    400 NORTHWOOD DR|    CENTRE|   AL|   35960|   CHEROKEE|2569275531|Acute Care Hospitals|Voluntary non-pro...|               Yes|                                        Y|              4|                            NULL|         Same as the natio...|                                  NULL|                     Not Available|                       Results are not a...|           Same as the natio...|                                    NULL|                  Above the nationa...|                                           NULL|                     Same as the natio...|                                              NULL|                  Same as the natio...|                                           NULL|                                       Not Available|                                         Results are not a...|                  8.0|Overland_park|66223|\n",
            "|      10023|BAPTIST MEDICAL C...|2105 EAST SOUTH B...|MONTGOMERY|   AL|   36116| MONTGOMERY|3342882100|Acute Care Hospitals|Government - Hosp...|               Yes|                                        Y|              3|                            NULL|         Below the nationa...|                                  NULL|              Above the nationa...|                                       NULL|           Same as the natio...|                                    NULL|                  Below the nationa...|                                           NULL|                     Same as the natio...|                                              NULL|                  Below the nationa...|                                           NULL|                                Above the nationa...|                                                         NULL|                  6.0|Overland_park|66223|\n",
            "|      10024|JACKSON HOSPITAL ...|    1725 PINE STREET|MONTGOMERY|   AL|   36106| MONTGOMERY|3342938000|Acute Care Hospitals|Voluntary non-pro...|               Yes|                                        Y|              3|                            NULL|         Same as the natio...|                                  NULL|              Above the nationa...|                                       NULL|           Above the nationa...|                                    NULL|                  Same as the natio...|                                           NULL|                     Same as the natio...|                                              NULL|                  Below the nationa...|                                           NULL|                                Same as the natio...|                                                         NULL|                  6.0|Overland_park|66223|\n",
            "|      10029|EAST ALABAMA MEDI...|2000 PEPPERELL PA...|   OPELIKA|   AL|   36801|        LEE|3347493411|Acute Care Hospitals|Government - Hosp...|               Yes|                                        Y|              4|                            NULL|         Same as the natio...|                                  NULL|              Above the nationa...|                                       NULL|           Above the nationa...|                                    NULL|                  Above the nationa...|                                           NULL|                     Same as the natio...|                                              NULL|                  Above the nationa...|                                           NULL|                                Same as the natio...|                                                         NULL|                  8.0|Overland_park|66223|\n",
            "|      10032|    WEDOWEE HOSPITAL|209 NORTH MAIN ST...|   WEDOWEE|   AL|   36278|   RANDOLPH|2563572111|Acute Care Hospitals|Government - Hosp...|               Yes|                                        Y|              4|                            NULL|         Same as the natio...|                                  NULL|                     Not Available|                       Results are not a...|           Same as the natio...|                                    NULL|                         Not Available|                           Results are not a...|                     Same as the natio...|                                              NULL|                  Same as the natio...|                                           NULL|                                       Not Available|                                         Results are not a...|                  8.0|Overland_park|66223|\n",
            "|      10033|UNIVERSITY OF ALA...|619 SOUTH 19TH ST...|BIRMINGHAM|   AL|   35233|  JEFFERSON|2059344011|Acute Care Hospitals|  Government - State|               Yes|                                        Y|              3|                            NULL|         Same as the natio...|                                  NULL|              Above the nationa...|                                       NULL|           Below the nationa...|                                    NULL|                  Above the nationa...|                                           NULL|                     Same as the natio...|                                              NULL|                  Below the nationa...|                                           NULL|                                Below the nationa...|                                                         NULL|                  6.0|Overland_park|66223|\n",
            "|      10034|COMMUNITY HOSPITA...| 805 FRIENDSHIP ROAD| TALLASSEE|   AL|   36078|     ELMORE|3342836541|Acute Care Hospitals|Voluntary non-pro...|               Yes|                                        Y|              4|                            NULL|         Same as the natio...|                                  NULL|                     Not Available|                       Results are not a...|           Same as the natio...|                                    NULL|                  Same as the natio...|                                           NULL|                     Same as the natio...|                                              NULL|                  Same as the natio...|                                           NULL|                                       Not Available|                                         Results are not a...|                  8.0|Overland_park|66223|\n",
            "|      10035|CULLMAN REGIONAL ...|1912 ALABAMA HIGH...|   CULLMAN|   AL|   35058|    CULLMAN|2567372000|Acute Care Hospitals|Government - Hosp...|               Yes|                                        Y|              3|                            NULL|         Below the nationa...|                                  NULL|              Above the nationa...|                                       NULL|           Same as the natio...|                                    NULL|                  Same as the natio...|                                           NULL|                     Same as the natio...|                                              NULL|                  Above the nationa...|                                           NULL|                                Same as the natio...|                                                         NULL|                  6.0|Overland_park|66223|\n",
            "|      10036|ANDALUSIA REGIONA...|849 SOUTH THREE N...| ANDALUSIA|   AL|   36420|  COVINGTON|3342228466|Acute Care Hospitals|         Proprietary|               Yes|                                        Y|              3|                            NULL|         Same as the natio...|                                  NULL|              Below the nationa...|                                       NULL|           Below the nationa...|                                    NULL|                  Below the nationa...|                                           NULL|                     Same as the natio...|                                              NULL|                  Above the nationa...|                                           NULL|                                Same as the natio...|                                                         NULL|                  6.0|Overland_park|66223|\n",
            "|      10038|STRINGFELLOW MEMO...|    301 EAST 18TH ST|  ANNISTON|   AL|   36201|    CALHOUN|2562358900|Acute Care Hospitals|         Proprietary|               Yes|                                        Y|              3|                            NULL|         Same as the natio...|                                  NULL|              Same as the natio...|                                       NULL|           Same as the natio...|                                    NULL|                  Below the nationa...|                                           NULL|                     Same as the natio...|                                              NULL|                  Above the nationa...|                                           NULL|                                Same as the natio...|                                                         NULL|                  6.0|Overland_park|66223|\n",
            "+-----------+--------------------+--------------------+----------+-----+--------+-----------+----------+--------------------+--------------------+------------------+-----------------------------------------+---------------+--------------------------------+-----------------------------+--------------------------------------+----------------------------------+-------------------------------------------+-------------------------------+----------------------------------------+--------------------------------------+-----------------------------------------------+-----------------------------------------+--------------------------------------------------+--------------------------------------+-----------------------------------------------+----------------------------------------------------+-------------------------------------------------------------+---------------------+-------------+-----+\n",
            "only showing top 20 rows\n",
            "\n"
          ]
        }
      ]
    },
    {
      "cell_type": "markdown",
      "source": [
        "Display Null Values in Data set"
      ],
      "metadata": {
        "id": "cznp792LIuHn"
      }
    },
    {
      "cell_type": "code",
      "source": [
        "df.filter(df.Hospital_rating_twice.isNull()).show()"
      ],
      "metadata": {
        "colab": {
          "base_uri": "https://localhost:8080/"
        },
        "id": "GL4rWzZbIxka",
        "outputId": "9679634c-d4a6-4caa-cde2-0c63af4fc7d1"
      },
      "execution_count": 84,
      "outputs": [
        {
          "output_type": "stream",
          "name": "stdout",
          "text": [
            "+-----------+--------------------+--------------------+-------------+-----+--------+----------------+----------+--------------------+--------------------+------------------+-----------------------------------------+---------------+--------------------------------+-----------------------------+--------------------------------------+----------------------------------+-------------------------------------------+-------------------------------+----------------------------------------+--------------------------------------+-----------------------------------------------+-----------------------------------------+--------------------------------------------------+--------------------------------------+-----------------------------------------------+----------------------------------------------------+-------------------------------------------------------------+---------------------+-------------+-----+\n",
            "|Provider_ID|       Hospital_Name|             Address|         City|State|ZIP_Code|     County_Name|     Ph_no|       Hospital_Type|  Hospital_Ownership|Emergency_Services|Meets_criteria for meaningful use of EHRs|Hospital_rating|Hospital overall rating footnote|Mortality national comparison|Mortality national comparison footnote|Safety of care national comparison|Safety of care national comparison footnote|Readmission national comparison|Readmission national comparison footnote|Patient experience national comparison|Patient experience national comparison footnote|Effectiveness of care national comparison|Effectiveness of care national comparison footnote|Timeliness of care national comparison|Timeliness of care national comparison footnote|Efficient use of medical imaging national comparison|Efficient use of medical imaging national comparison footnote|Hospital_rating_twice|        Place| code|\n",
            "+-----------+--------------------+--------------------+-------------+-----+--------+----------------+----------+--------------------+--------------------+------------------+-----------------------------------------+---------------+--------------------------------+-----------------------------+--------------------------------------+----------------------------------+-------------------------------------------+-------------------------------+----------------------------------------+--------------------------------------+-----------------------------------------------+-----------------------------------------+--------------------------------------------------+--------------------------------------+-----------------------------------------------+----------------------------------------------------+-------------------------------------------------------------+---------------------+-------------+-----+\n",
            "|      10018|CALLAHAN EYE HOSP...|1720 UNIVERSITY BLVD|   BIRMINGHAM|   AL|   35233|       JEFFERSON|2053258100|Acute Care Hospitals|Voluntary non-pro...|               Yes|                                        Y|  Not Available|            There are too few...|                Not Available|                  Results are not a...|                     Not Available|                       Results are not a...|                  Not Available|                    Results are not a...|                         Not Available|                           Results are not a...|                     Same as the natio...|                                              NULL|                  Same as the natio...|                                           NULL|                                       Not Available|                                         Results are not a...|                 NULL|Overland_park|66223|\n",
            "|      10058| BIBB MEDICAL CENTER|     208 PIERSON AVE|  CENTREVILLE|   AL|   35042|            BIBB|2059264881|Acute Care Hospitals|Government - Hosp...|               Yes|                                        Y|  Not Available|            There are too few...|                Not Available|                  Results are not a...|                     Not Available|                       Results are not a...|                  Not Available|                    Results are not a...|                         Not Available|                           Results are not a...|                     Same as the natio...|                                              NULL|                  Same as the natio...|                                           NULL|                                       Not Available|                                         Results are not a...|                 NULL|Overland_park|66223|\n",
            "|      10095|HALE COUNTY HOSPITAL|    508 GREEN STREET|   GREENSBORO|   AL|   36744|            HALE|3346243024|Acute Care Hospitals|  Government - Local|               Yes|                                        Y|  Not Available|            There are too few...|                Not Available|                  Results are not a...|                     Not Available|                       Results are not a...|                  Not Available|                    Results are not a...|                         Not Available|                           Results are not a...|                     Below the nationa...|                                              NULL|                  Same as the natio...|                                           NULL|                                       Not Available|                                         Results are not a...|                 NULL|Overland_park|66223|\n",
            "|      10102|J PAUL JONES HOSP...|317 MCWILLIAMS AV...|       CAMDEN|   AL|   36726|          WILCOX|3346824131|Acute Care Hospitals|Voluntary non-pro...|               Yes|                                        Y|  Not Available|            There are too few...|                Not Available|                  Results are not a...|                     Not Available|                       Results are not a...|                  Not Available|                    Results are not a...|                         Not Available|                           Results are not a...|                     Same as the natio...|                                              NULL|                  Same as the natio...|                                           NULL|                                       Not Available|                                         Results are not a...|                 NULL|Overland_park|66223|\n",
            "|      10138|HILL HOSPITAL OF ...|     751 DERBY DRIVE|         YORK|   AL|   36925|          SUMTER|2053925263|Acute Care Hospitals|Voluntary non-pro...|               Yes|                                        Y|  Not Available|            There are too few...|                Not Available|                  Results are not a...|                     Not Available|                       Results are not a...|                  Not Available|                    Results are not a...|                         Not Available|                           Results are not a...|                     Same as the natio...|                                              NULL|                  Same as the natio...|                                           NULL|                                       Not Available|                                         Results are not a...|                 NULL|Overland_park|66223|\n",
            "|      10172|NORTH ALABAMA SPE...|700 WEST MARKET S...|       ATHENS|   AL|   35611|       LIMESTONE|2562339292|Acute Care Hospitals|         Proprietary|                No|                                     NULL|  Not Available|            Data are shown on...|                Not Available|                  Data are shown on...|                     Not Available|                       Data are shown on...|                  Not Available|                    Data are shown on...|                         Not Available|                           Data are shown on...|                            Not Available|                              Data are shown on...|                         Not Available|                           Data are shown on...|                                       Not Available|                                         Data are shown on...|                 NULL|Overland_park|66223|\n",
            "|      11300|WASHINGTON COUNTY...|14600 ST. STEPHEN...|       CHATOM|   AL|   36518|      WASHINGTON|2518472223|Critical Access H...|         Proprietary|               Yes|                                        Y|  Not Available|            There are too few...|                Not Available|                  Results are not a...|                     Not Available|                       Results are not a...|                  Not Available|                    Results are not a...|                         Not Available|                           Results are not a...|                     Same as the natio...|                                              NULL|                  Above the nationa...|                                           NULL|                                       Not Available|                                         Results are not a...|                 NULL|Overland_park|66223|\n",
            "|      11302|    RED BAY HOSPITAL|   211 HOSPITAL ROAD|      RED BAY|   AL|   35582|        FRANKLIN|2563569532|Critical Access H...|Government - Hosp...|               Yes|                                        Y|  Not Available|            There are too few...|                Not Available|                  Results are not a...|                     Not Available|                       Results are not a...|           Same as the natio...|                                    NULL|                         Not Available|                           Results are not a...|                            Not Available|                              Results are not a...|                         Not Available|                           Results are not a...|                                       Not Available|                                         Results are not a...|                 NULL|Overland_park|66223|\n",
            "|      11304|CHOCTAW GENERAL H...|401 VANITY FAIR L...|       BUTLER|   AL|   36904|         CHOCTAW|2054599100|Critical Access H...|Voluntary non-pro...|               Yes|                                        Y|  Not Available|            There are too few...|                Not Available|                  Results are not a...|                     Not Available|                       Results are not a...|                  Not Available|                    Results are not a...|                         Not Available|                           Results are not a...|                            Not Available|                              Results are not a...|                  Same as the natio...|                                           NULL|                                       Not Available|                                         Results are not a...|                 NULL|Overland_park|66223|\n",
            "|      13300|CHILDREN'S HOSPIT...|1600 SEVENTH AVEN...|   BIRMINGHAM|   AL|   35233|       JEFFERSON|2059399100|           Childrens|Voluntary non-pro...|               Yes|                                        Y|  Not Available|            Data are shown on...|                Not Available|                  Data are shown on...|                     Not Available|                       Data are shown on...|                  Not Available|                    Data are shown on...|                         Not Available|                           Data are shown on...|                            Not Available|                              Data are shown on...|                         Not Available|                           Data are shown on...|                                       Not Available|                                         Data are shown on...|                 NULL|Overland_park|66223|\n",
            "|      13301|UNIVERSITY OF S A...|  1700 CENTER STREET|       MOBILE|   AL|   36604|          MOBILE|2514151000|           Childrens|  Government - State|               Yes|                                        Y|  Not Available|            Results are not a...|                Not Available|                  Results are not a...|                     Not Available|                       Results are not a...|                  Not Available|                    Results are not a...|                         Not Available|                           Results are not a...|                            Not Available|                              Results are not a...|                         Not Available|                           Results are not a...|                                       Not Available|                                         Results are not a...|                 NULL|Overland_park|66223|\n",
            "|      21303|SITKA COMMUNITY H...|    209 MOLLER DRIVE|        SITKA|   AK|   99835|           SITKA|9077473241|Critical Access H...|  Government - Local|               Yes|                                        Y|  Not Available|            There are too few...|                Not Available|                  Results are not a...|                     Not Available|                       Results are not a...|                  Not Available|                    Results are not a...|                         Not Available|                           Results are not a...|                            Not Available|                              Results are not a...|                         Not Available|                           Results are not a...|                                       Not Available|                                         Results are not a...|                 NULL|Overland_park|66223|\n",
            "|      21306|PROVIDENCE KODIAK...|1915 EAST REZANOF...|       KODIAK|   AK|   99615|   KODIAK ISLAND|9074869592|Critical Access H...|Voluntary non-pro...|               Yes|                                        Y|  Not Available|            There are too few...|                Not Available|                  Results are not a...|                     Not Available|                       Results are not a...|           Same as the natio...|                                    NULL|                         Not Available|                           Results are not a...|                            Not Available|                              Results are not a...|                         Not Available|                           Results are not a...|                                       Not Available|                                         Results are not a...|                 NULL|Overland_park|66223|\n",
            "|      21308|NORTON SOUND REGI...|1000 GREG KRUSCHE...|         NOME|   AK|   99762|            NOME|9074433311|Critical Access H...|              Tribal|               Yes|                                        Y|  Not Available|            There are too few...|                Not Available|                  Results are not a...|                     Not Available|                       Results are not a...|                  Not Available|                    Results are not a...|                         Not Available|                           Results are not a...|                            Not Available|                              Results are not a...|                         Not Available|                           Results are not a...|                                       Not Available|                                         Results are not a...|                 NULL|Overland_park|66223|\n",
            "|      21309|  KANAKANAK HOSPITAL|         P O BOX 130|   DILLINGHAM|   AK|   99576|      DILLINGHAM|9078425201|Critical Access H...|Voluntary non-pro...|               Yes|                                        Y|  Not Available|            There are too few...|                Not Available|                  Results are not a...|                     Not Available|                       Results are not a...|                  Not Available|                    Results are not a...|                         Not Available|                           Results are not a...|                            Not Available|                              Results are not a...|                         Not Available|                           Results are not a...|                                       Not Available|                                         Results are not a...|                 NULL|Overland_park|66223|\n",
            "|      21310|MANIILAQ HEALTH C...|           PO BOX 43|     KOTZEBUE|   AK|   99752|NORTHWEST ARCTIC|9074423321|Critical Access H...|              Tribal|               Yes|                                        Y|  Not Available|            Data are shown on...|                Not Available|                  Data are shown on...|                     Not Available|                       Data are shown on...|                  Not Available|                    Data are shown on...|                         Not Available|                           Data are shown on...|                            Not Available|                              Data are shown on...|                         Not Available|                           Data are shown on...|                                       Not Available|                                         Data are shown on...|                 NULL|Overland_park|66223|\n",
            "|      21314|MT EDGECUMBE HOSP...|      222 TONGASS DR|        SITKA|   AK|   99835|           SITKA|9079662411|Critical Access H...|Voluntary non-pro...|               Yes|                                     NULL|  Not Available|            There are too few...|                Not Available|                  Results are not a...|                     Not Available|                       Results are not a...|                  Not Available|                    Results are not a...|                         Not Available|                           Results are not a...|                            Not Available|                              Results are not a...|                         Not Available|                           Results are not a...|                                       Not Available|                                         Results are not a...|                 NULL|Overland_park|66223|\n",
            "|      30071|FORT DEFIANCE IND...|          PO BOX 649|FORT DEFIANCE|   AZ|   86504|          APACHE|9287298000|Acute Care Hospitals|Government - Federal|               Yes|                                        Y|  Not Available|            There are too few...|                Not Available|                  Results are not a...|                     Not Available|                       Results are not a...|           Same as the natio...|                                    NULL|                         Not Available|                           Results are not a...|                     Same as the natio...|                                              NULL|                         Not Available|                           Results are not a...|                                       Not Available|                                         Results are not a...|                 NULL|Overland_park|66223|\n",
            "|      30074|      SELLS HOSPITAL|HIGHWAY 86, AT TO...|        SELLS|   AZ|   85634|            PIMA|5203627003|Acute Care Hospitals|              Tribal|               Yes|                                        Y|  Not Available|            There are too few...|                Not Available|                  Results are not a...|                     Not Available|                       Results are not a...|                  Not Available|                    Results are not a...|                         Not Available|                           Results are not a...|                            Not Available|                              Results are not a...|                         Not Available|                           Results are not a...|                                       Not Available|                                         Results are not a...|                 NULL|Overland_park|66223|\n",
            "|      30077|SAN CARLOS APACHE...|103 MEDICINE WAY ...|      PERIDOT|   AZ|   85542|            GILA|9284751200|Acute Care Hospitals|Government - Federal|                No|                                        Y|  Not Available|            There are too few...|                Not Available|                  Results are not a...|                     Not Available|                       Results are not a...|                  Not Available|                    Results are not a...|                         Not Available|                           Results are not a...|                            Not Available|                              Results are not a...|                         Not Available|                           Results are not a...|                                       Not Available|                                         Results are not a...|                 NULL|Overland_park|66223|\n",
            "+-----------+--------------------+--------------------+-------------+-----+--------+----------------+----------+--------------------+--------------------+------------------+-----------------------------------------+---------------+--------------------------------+-----------------------------+--------------------------------------+----------------------------------+-------------------------------------------+-------------------------------+----------------------------------------+--------------------------------------+-----------------------------------------------+-----------------------------------------+--------------------------------------------------+--------------------------------------+-----------------------------------------------+----------------------------------------------------+-------------------------------------------------------------+---------------------+-------------+-----+\n",
            "only showing top 20 rows\n",
            "\n"
          ]
        }
      ]
    },
    {
      "cell_type": "markdown",
      "source": [
        "Drop rows containing any null values"
      ],
      "metadata": {
        "id": "PhYohcosJjMg"
      }
    },
    {
      "cell_type": "code",
      "source": [
        "df1 = df.na.drop()\n",
        "df1.count()\n"
      ],
      "metadata": {
        "colab": {
          "base_uri": "https://localhost:8080/"
        },
        "id": "sw8h7sffJwXL",
        "outputId": "1a3addeb-bec6-45ba-fdab-27ab851c63ca"
      },
      "execution_count": 85,
      "outputs": [
        {
          "output_type": "execute_result",
          "data": {
            "text/plain": [
              "0"
            ]
          },
          "metadata": {},
          "execution_count": 85
        }
      ]
    },
    {
      "cell_type": "code",
      "source": [
        "df.printSchema()"
      ],
      "metadata": {
        "colab": {
          "base_uri": "https://localhost:8080/"
        },
        "id": "kcJMVNtGKDMs",
        "outputId": "c933857e-e4bf-4a56-885e-a20ee4c0e423"
      },
      "execution_count": 86,
      "outputs": [
        {
          "output_type": "stream",
          "name": "stdout",
          "text": [
            "root\n",
            " |-- Provider_ID: integer (nullable = true)\n",
            " |-- Hospital_Name: string (nullable = true)\n",
            " |-- Address: string (nullable = true)\n",
            " |-- City: string (nullable = true)\n",
            " |-- State: string (nullable = true)\n",
            " |-- ZIP_Code: integer (nullable = true)\n",
            " |-- County_Name: string (nullable = true)\n",
            " |-- Ph_no: long (nullable = true)\n",
            " |-- Hospital_Type: string (nullable = true)\n",
            " |-- Hospital_Ownership: string (nullable = true)\n",
            " |-- Emergency_Services: string (nullable = true)\n",
            " |-- Meets_criteria for meaningful use of EHRs: string (nullable = true)\n",
            " |-- Hospital_rating: string (nullable = true)\n",
            " |-- Hospital overall rating footnote: string (nullable = true)\n",
            " |-- Mortality national comparison: string (nullable = true)\n",
            " |-- Mortality national comparison footnote: string (nullable = true)\n",
            " |-- Safety of care national comparison: string (nullable = true)\n",
            " |-- Safety of care national comparison footnote: string (nullable = true)\n",
            " |-- Readmission national comparison: string (nullable = true)\n",
            " |-- Readmission national comparison footnote: string (nullable = true)\n",
            " |-- Patient experience national comparison: string (nullable = true)\n",
            " |-- Patient experience national comparison footnote: string (nullable = true)\n",
            " |-- Effectiveness of care national comparison: string (nullable = true)\n",
            " |-- Effectiveness of care national comparison footnote: string (nullable = true)\n",
            " |-- Timeliness of care national comparison: string (nullable = true)\n",
            " |-- Timeliness of care national comparison footnote: string (nullable = true)\n",
            " |-- Efficient use of medical imaging national comparison: string (nullable = true)\n",
            " |-- Efficient use of medical imaging national comparison footnote: string (nullable = true)\n",
            " |-- Hospital_rating_twice: double (nullable = true)\n",
            " |-- Place: string (nullable = true)\n",
            " |-- code: string (nullable = true)\n",
            "\n"
          ]
        }
      ]
    },
    {
      "cell_type": "code",
      "source": [
        "df.count()"
      ],
      "metadata": {
        "colab": {
          "base_uri": "https://localhost:8080/"
        },
        "id": "egoWHNNxKHI_",
        "outputId": "9448514c-b3e4-4443-fd67-53c8bc50d3b9"
      },
      "execution_count": 87,
      "outputs": [
        {
          "output_type": "execute_result",
          "data": {
            "text/plain": [
              "4812"
            ]
          },
          "metadata": {},
          "execution_count": 87
        }
      ]
    },
    {
      "cell_type": "markdown",
      "source": [
        "Convert Spark Dataframe to Pandas Dataframe"
      ],
      "metadata": {
        "id": "FxOrXYXgK6y-"
      }
    },
    {
      "cell_type": "code",
      "source": [
        "df_pandas = df.toPandas()"
      ],
      "metadata": {
        "id": "RjhkWPTzLBXi"
      },
      "execution_count": 89,
      "outputs": []
    },
    {
      "cell_type": "markdown",
      "source": [
        "DataType of Pandas DataFrame"
      ],
      "metadata": {
        "id": "aULHsTgzLMMC"
      }
    },
    {
      "cell_type": "code",
      "source": [
        "print(type(df_pandas))"
      ],
      "metadata": {
        "colab": {
          "base_uri": "https://localhost:8080/"
        },
        "id": "KBm4TsM2LL28",
        "outputId": "5d048913-ad94-4296-dd55-cb16d136eeb1"
      },
      "execution_count": 90,
      "outputs": [
        {
          "output_type": "stream",
          "name": "stdout",
          "text": [
            "<class 'pandas.core.frame.DataFrame'>\n"
          ]
        }
      ]
    },
    {
      "cell_type": "markdown",
      "source": [
        "Concat - Combine Two Values"
      ],
      "metadata": {
        "id": "hq4AVLNCLVHm"
      }
    },
    {
      "cell_type": "code",
      "source": [
        "from pyspark.sql.functions import concat\n",
        "\n",
        "df.select(concat(df.City, df1.State).alias('Area')).show(5)\n"
      ],
      "metadata": {
        "colab": {
          "base_uri": "https://localhost:8080/"
        },
        "id": "XDpZPuPALWJA",
        "outputId": "215481ef-7fba-4043-9afc-2e8deca78013"
      },
      "execution_count": 93,
      "outputs": [
        {
          "output_type": "stream",
          "name": "stdout",
          "text": [
            "+----------+\n",
            "|      Area|\n",
            "+----------+\n",
            "|  DOTHANAL|\n",
            "|    BOAZAL|\n",
            "|FLORENCEAL|\n",
            "|     OPPAL|\n",
            "| LUVERNEAL|\n",
            "+----------+\n",
            "only showing top 5 rows\n",
            "\n"
          ]
        }
      ]
    },
    {
      "cell_type": "markdown",
      "source": [
        "Filter data and create new dataframes"
      ],
      "metadata": {
        "id": "GCGk9n2QL0PB"
      }
    },
    {
      "cell_type": "code",
      "source": [
        "from pyspark.sql.functions import col\n",
        "\n",
        "df1=df.filter(col('EHRs').contains('Y')).show()"
      ],
      "metadata": {
        "colab": {
          "base_uri": "https://localhost:8080/"
        },
        "id": "4MDiT7-KL5jI",
        "outputId": "ffb2153a-6b40-4437-82e4-4af862efe25a"
      },
      "execution_count": 96,
      "outputs": [
        {
          "output_type": "stream",
          "name": "stdout",
          "text": [
            "+-----------+--------------------+--------------------+----------+-----+--------+-----------+----------+--------------------+--------------------+------------------+----+---------------+--------------------------------+-----------------------------+--------------------------------------+----------------------------------+-------------------------------------------+-------------------------------+----------------------------------------+--------------------------------------+-----------------------------------------------+-----------------------------------------+--------------------------------------------------+--------------------------------------+-----------------------------------------------+----------------------------------------------------+-------------------------------------------------------------+---------------------+-------------+-----+\n",
            "|Provider_ID|       Hospital_Name|             Address|      City|State|ZIP_Code|County_Name|     Ph_no|       Hospital_Type|  Hospital_Ownership|Emergency_Services|EHRs|Hospital_rating|Hospital overall rating footnote|Mortality national comparison|Mortality national comparison footnote|Safety of care national comparison|Safety of care national comparison footnote|Readmission national comparison|Readmission national comparison footnote|Patient experience national comparison|Patient experience national comparison footnote|Effectiveness of care national comparison|Effectiveness of care national comparison footnote|Timeliness of care national comparison|Timeliness of care national comparison footnote|Efficient use of medical imaging national comparison|Efficient use of medical imaging national comparison footnote|Hospital_rating_twice|        Place| code|\n",
            "+-----------+--------------------+--------------------+----------+-----+--------+-----------+----------+--------------------+--------------------+------------------+----+---------------+--------------------------------+-----------------------------+--------------------------------------+----------------------------------+-------------------------------------------+-------------------------------+----------------------------------------+--------------------------------------+-----------------------------------------------+-----------------------------------------+--------------------------------------------------+--------------------------------------+-----------------------------------------------+----------------------------------------------------+-------------------------------------------------------------+---------------------+-------------+-----+\n",
            "|      10005|MARSHALL MEDICAL ...|2505 U S HIGHWAY ...|      BOAZ|   AL|   35957|   MARSHALL|2565938310|Acute Care Hospitals|Government - Hosp...|               Yes|   Y|              3|                            NULL|         Below the nationa...|                                  NULL|              Same as the natio...|                                       NULL|           Above the nationa...|                                    NULL|                  Same as the natio...|                                           NULL|                     Same as the natio...|                                              NULL|                  Above the nationa...|                                           NULL|                                Below the nationa...|                                                         NULL|                  6.0|Overland_park|66223|\n",
            "|      10006|ELIZA COFFEE MEMO...|  205 MARENGO STREET|  FLORENCE|   AL|   35631| LAUDERDALE|2567688400|Acute Care Hospitals|Government - Hosp...|               Yes|   Y|              2|                            NULL|         Below the nationa...|                                  NULL|              Same as the natio...|                                       NULL|           Same as the natio...|                                    NULL|                  Below the nationa...|                                           NULL|                     Same as the natio...|                                              NULL|                  Above the nationa...|                                           NULL|                                Same as the natio...|                                                         NULL|                  4.0|Overland_park|66223|\n",
            "|      10007|MIZELL MEMORIAL H...|       702 N MAIN ST|       OPP|   AL|   36467|  COVINGTON|3344933541|Acute Care Hospitals|Voluntary non-pro...|               Yes|   Y|              2|                            NULL|         Same as the natio...|                                  NULL|                     Not Available|                       Results are not a...|           Below the nationa...|                                    NULL|                  Same as the natio...|                                           NULL|                     Below the nationa...|                                              NULL|                  Above the nationa...|                                           NULL|                                       Not Available|                                         Results are not a...|                  4.0|Overland_park|66223|\n",
            "|      10008|CRENSHAW COMMUNIT...| 101 HOSPITAL CIRCLE|   LUVERNE|   AL|   36049|   CRENSHAW|3343353374|Acute Care Hospitals|         Proprietary|               Yes|   Y|              3|                            NULL|         Same as the natio...|                                  NULL|                     Not Available|                       Results are not a...|           Same as the natio...|                                    NULL|                         Not Available|                           Results are not a...|                     Same as the natio...|                                              NULL|                  Above the nationa...|                                           NULL|                                       Not Available|                                         Results are not a...|                  6.0|Overland_park|66223|\n",
            "|      10011|   ST VINCENT'S EAST|50 MEDICAL PARK E...|BIRMINGHAM|   AL|   35235|  JEFFERSON|2058383122|Acute Care Hospitals|Voluntary non-pro...|               Yes|   Y|              2|                            NULL|         Same as the natio...|                                  NULL|              Below the nationa...|                                       NULL|           Same as the natio...|                                    NULL|                  Below the nationa...|                                           NULL|                     Below the nationa...|                                              NULL|                  Same as the natio...|                                           NULL|                                Same as the natio...|                                                         NULL|                  4.0|Overland_park|66223|\n",
            "|      10012|DEKALB REGIONAL M...|200 MED CENTER DRIVE|FORT PAYNE|   AL|   35968|    DE KALB|2568453150|Acute Care Hospitals|         Proprietary|               Yes|   Y|              3|                            NULL|         Below the nationa...|                                  NULL|              Same as the natio...|                                       NULL|           Same as the natio...|                                    NULL|                  Same as the natio...|                                           NULL|                     Same as the natio...|                                              NULL|                  Above the nationa...|                                           NULL|                                Same as the natio...|                                                         NULL|                  6.0|Overland_park|66223|\n",
            "|      10016|SHELBY BAPTIST ME...|1000 FIRST STREET...| ALABASTER|   AL|   35007|     SHELBY|2056208100|Acute Care Hospitals|Voluntary non-pro...|               Yes|   Y|              3|                            NULL|         Same as the natio...|                                  NULL|              Above the nationa...|                                       NULL|           Above the nationa...|                                    NULL|                  Below the nationa...|                                           NULL|                     Same as the natio...|                                              NULL|                  Below the nationa...|                                           NULL|                                Below the nationa...|                                                         NULL|                  6.0|Overland_park|66223|\n",
            "|      10018|CALLAHAN EYE HOSP...|1720 UNIVERSITY BLVD|BIRMINGHAM|   AL|   35233|  JEFFERSON|2053258100|Acute Care Hospitals|Voluntary non-pro...|               Yes|   Y|  Not Available|            There are too few...|                Not Available|                  Results are not a...|                     Not Available|                       Results are not a...|                  Not Available|                    Results are not a...|                         Not Available|                           Results are not a...|                     Same as the natio...|                                              NULL|                  Same as the natio...|                                           NULL|                                       Not Available|                                         Results are not a...|                 NULL|Overland_park|66223|\n",
            "|      10019|HELEN KELLER MEMO...|1300 SOUTH MONTGO...| SHEFFIELD|   AL|   35660|    COLBERT|2563864556|Acute Care Hospitals|Government - Hosp...|               Yes|   Y|              2|                            NULL|         Below the nationa...|                                  NULL|              Below the nationa...|                                       NULL|           Below the nationa...|                                    NULL|                  Below the nationa...|                                           NULL|                     Same as the natio...|                                              NULL|                  Above the nationa...|                                           NULL|                                Below the nationa...|                                                         NULL|                  4.0|Overland_park|66223|\n",
            "|      10021| DALE MEDICAL CENTER|    126 HOSPITAL AVE|     OZARK|   AL|   36360|       DALE|3347742601|Acute Care Hospitals|Government - Hosp...|               Yes|   Y|              4|                            NULL|         Same as the natio...|                                  NULL|              Same as the natio...|                                       NULL|           Same as the natio...|                                    NULL|                  Above the nationa...|                                           NULL|                     Same as the natio...|                                              NULL|                  Above the nationa...|                                           NULL|                                Same as the natio...|                                                         NULL|                  8.0|Overland_park|66223|\n",
            "|      10022|CHEROKEE MEDICAL ...|    400 NORTHWOOD DR|    CENTRE|   AL|   35960|   CHEROKEE|2569275531|Acute Care Hospitals|Voluntary non-pro...|               Yes|   Y|              4|                            NULL|         Same as the natio...|                                  NULL|                     Not Available|                       Results are not a...|           Same as the natio...|                                    NULL|                  Above the nationa...|                                           NULL|                     Same as the natio...|                                              NULL|                  Same as the natio...|                                           NULL|                                       Not Available|                                         Results are not a...|                  8.0|Overland_park|66223|\n",
            "|      10023|BAPTIST MEDICAL C...|2105 EAST SOUTH B...|MONTGOMERY|   AL|   36116| MONTGOMERY|3342882100|Acute Care Hospitals|Government - Hosp...|               Yes|   Y|              3|                            NULL|         Below the nationa...|                                  NULL|              Above the nationa...|                                       NULL|           Same as the natio...|                                    NULL|                  Below the nationa...|                                           NULL|                     Same as the natio...|                                              NULL|                  Below the nationa...|                                           NULL|                                Above the nationa...|                                                         NULL|                  6.0|Overland_park|66223|\n",
            "|      10024|JACKSON HOSPITAL ...|    1725 PINE STREET|MONTGOMERY|   AL|   36106| MONTGOMERY|3342938000|Acute Care Hospitals|Voluntary non-pro...|               Yes|   Y|              3|                            NULL|         Same as the natio...|                                  NULL|              Above the nationa...|                                       NULL|           Above the nationa...|                                    NULL|                  Same as the natio...|                                           NULL|                     Same as the natio...|                                              NULL|                  Below the nationa...|                                           NULL|                                Same as the natio...|                                                         NULL|                  6.0|Overland_park|66223|\n",
            "|      10029|EAST ALABAMA MEDI...|2000 PEPPERELL PA...|   OPELIKA|   AL|   36801|        LEE|3347493411|Acute Care Hospitals|Government - Hosp...|               Yes|   Y|              4|                            NULL|         Same as the natio...|                                  NULL|              Above the nationa...|                                       NULL|           Above the nationa...|                                    NULL|                  Above the nationa...|                                           NULL|                     Same as the natio...|                                              NULL|                  Above the nationa...|                                           NULL|                                Same as the natio...|                                                         NULL|                  8.0|Overland_park|66223|\n",
            "|      10032|    WEDOWEE HOSPITAL|209 NORTH MAIN ST...|   WEDOWEE|   AL|   36278|   RANDOLPH|2563572111|Acute Care Hospitals|Government - Hosp...|               Yes|   Y|              4|                            NULL|         Same as the natio...|                                  NULL|                     Not Available|                       Results are not a...|           Same as the natio...|                                    NULL|                         Not Available|                           Results are not a...|                     Same as the natio...|                                              NULL|                  Same as the natio...|                                           NULL|                                       Not Available|                                         Results are not a...|                  8.0|Overland_park|66223|\n",
            "|      10033|UNIVERSITY OF ALA...|619 SOUTH 19TH ST...|BIRMINGHAM|   AL|   35233|  JEFFERSON|2059344011|Acute Care Hospitals|  Government - State|               Yes|   Y|              3|                            NULL|         Same as the natio...|                                  NULL|              Above the nationa...|                                       NULL|           Below the nationa...|                                    NULL|                  Above the nationa...|                                           NULL|                     Same as the natio...|                                              NULL|                  Below the nationa...|                                           NULL|                                Below the nationa...|                                                         NULL|                  6.0|Overland_park|66223|\n",
            "|      10034|COMMUNITY HOSPITA...| 805 FRIENDSHIP ROAD| TALLASSEE|   AL|   36078|     ELMORE|3342836541|Acute Care Hospitals|Voluntary non-pro...|               Yes|   Y|              4|                            NULL|         Same as the natio...|                                  NULL|                     Not Available|                       Results are not a...|           Same as the natio...|                                    NULL|                  Same as the natio...|                                           NULL|                     Same as the natio...|                                              NULL|                  Same as the natio...|                                           NULL|                                       Not Available|                                         Results are not a...|                  8.0|Overland_park|66223|\n",
            "|      10035|CULLMAN REGIONAL ...|1912 ALABAMA HIGH...|   CULLMAN|   AL|   35058|    CULLMAN|2567372000|Acute Care Hospitals|Government - Hosp...|               Yes|   Y|              3|                            NULL|         Below the nationa...|                                  NULL|              Above the nationa...|                                       NULL|           Same as the natio...|                                    NULL|                  Same as the natio...|                                           NULL|                     Same as the natio...|                                              NULL|                  Above the nationa...|                                           NULL|                                Same as the natio...|                                                         NULL|                  6.0|Overland_park|66223|\n",
            "|      10036|ANDALUSIA REGIONA...|849 SOUTH THREE N...| ANDALUSIA|   AL|   36420|  COVINGTON|3342228466|Acute Care Hospitals|         Proprietary|               Yes|   Y|              3|                            NULL|         Same as the natio...|                                  NULL|              Below the nationa...|                                       NULL|           Below the nationa...|                                    NULL|                  Below the nationa...|                                           NULL|                     Same as the natio...|                                              NULL|                  Above the nationa...|                                           NULL|                                Same as the natio...|                                                         NULL|                  6.0|Overland_park|66223|\n",
            "|      10038|STRINGFELLOW MEMO...|    301 EAST 18TH ST|  ANNISTON|   AL|   36201|    CALHOUN|2562358900|Acute Care Hospitals|         Proprietary|               Yes|   Y|              3|                            NULL|         Same as the natio...|                                  NULL|              Same as the natio...|                                       NULL|           Same as the natio...|                                    NULL|                  Below the nationa...|                                           NULL|                     Same as the natio...|                                              NULL|                  Above the nationa...|                                           NULL|                                Same as the natio...|                                                         NULL|                  6.0|Overland_park|66223|\n",
            "+-----------+--------------------+--------------------+----------+-----+--------+-----------+----------+--------------------+--------------------+------------------+----+---------------+--------------------------------+-----------------------------+--------------------------------------+----------------------------------+-------------------------------------------+-------------------------------+----------------------------------------+--------------------------------------+-----------------------------------------------+-----------------------------------------+--------------------------------------------------+--------------------------------------+-----------------------------------------------+----------------------------------------------------+-------------------------------------------------------------+---------------------+-------------+-----+\n",
            "only showing top 20 rows\n",
            "\n"
          ]
        }
      ]
    },
    {
      "cell_type": "markdown",
      "source": [
        "Merge Dataframes - Using UnionByName"
      ],
      "metadata": {
        "id": "odD1Ud6AOApz"
      }
    },
    {
      "cell_type": "code",
      "source": [
        "df3 = spark.createDataFrame([[1, 2, 3]], [\"col1\", \"col2\", \"col3\"])\n",
        "df4 = spark.createDataFrame([[4, 5, 6]], [\"col2\", \"col3\", \"col1\"])"
      ],
      "metadata": {
        "id": "l71jxnY0Ozu_"
      },
      "execution_count": 105,
      "outputs": []
    },
    {
      "cell_type": "code",
      "source": [
        "df5= df3.unionByName(df4).show()"
      ],
      "metadata": {
        "colab": {
          "base_uri": "https://localhost:8080/"
        },
        "id": "Fb1wLqh6N8rn",
        "outputId": "1de13392-52e3-4c74-9bd9-3bbb236cdc4e"
      },
      "execution_count": 106,
      "outputs": [
        {
          "output_type": "stream",
          "name": "stdout",
          "text": [
            "+----+----+----+\n",
            "|col1|col2|col3|\n",
            "+----+----+----+\n",
            "|   1|   2|   3|\n",
            "|   6|   4|   5|\n",
            "+----+----+----+\n",
            "\n"
          ]
        }
      ]
    },
    {
      "cell_type": "markdown",
      "source": [
        "Write Output to File"
      ],
      "metadata": {
        "id": "3YHBWnAaRD8m"
      }
    },
    {
      "cell_type": "code",
      "source": [
        "# Write & Save File in .csv format\n",
        "df6 = df.select(\"Provider_ID\", \"Hospital_Name\", \"City\", \"State\")\n",
        "df6.coalesce(1).write.csv('output')"
      ],
      "metadata": {
        "id": "KET46n7tRRMT"
      },
      "execution_count": 107,
      "outputs": []
    },
    {
      "cell_type": "markdown",
      "source": [
        "Convert dataframe to SQL table"
      ],
      "metadata": {
        "id": "bvnRXYGkRpzf"
      }
    },
    {
      "cell_type": "code",
      "source": [
        "df.createOrReplaceTempView(\"Hospital\")\n",
        "spark.sql(\"select * from Hospital\").show(5)"
      ],
      "metadata": {
        "colab": {
          "base_uri": "https://localhost:8080/"
        },
        "id": "U-wsNXr6R3t0",
        "outputId": "3aaadd8d-d000-47f2-8b96-863a6b42406a"
      },
      "execution_count": 108,
      "outputs": [
        {
          "output_type": "stream",
          "name": "stdout",
          "text": [
            "+-----------+--------------------+--------------------+--------+-----+--------+-----------+----------+--------------------+--------------------+------------------+----+---------------+--------------------------------+-----------------------------+--------------------------------------+----------------------------------+-------------------------------------------+-------------------------------+----------------------------------------+--------------------------------------+-----------------------------------------------+-----------------------------------------+--------------------------------------------------+--------------------------------------+-----------------------------------------------+----------------------------------------------------+-------------------------------------------------------------+---------------------+-------------+-----+\n",
            "|Provider_ID|       Hospital_Name|             Address|    City|State|ZIP_Code|County_Name|     Ph_no|       Hospital_Type|  Hospital_Ownership|Emergency_Services|EHRs|Hospital_rating|Hospital overall rating footnote|Mortality national comparison|Mortality national comparison footnote|Safety of care national comparison|Safety of care national comparison footnote|Readmission national comparison|Readmission national comparison footnote|Patient experience national comparison|Patient experience national comparison footnote|Effectiveness of care national comparison|Effectiveness of care national comparison footnote|Timeliness of care national comparison|Timeliness of care national comparison footnote|Efficient use of medical imaging national comparison|Efficient use of medical imaging national comparison footnote|Hospital_rating_twice|        Place| code|\n",
            "+-----------+--------------------+--------------------+--------+-----+--------+-----------+----------+--------------------+--------------------+------------------+----+---------------+--------------------------------+-----------------------------+--------------------------------------+----------------------------------+-------------------------------------------+-------------------------------+----------------------------------------+--------------------------------------+-----------------------------------------------+-----------------------------------------+--------------------------------------------------+--------------------------------------+-----------------------------------------------+----------------------------------------------------+-------------------------------------------------------------+---------------------+-------------+-----+\n",
            "|      10001|SOUTHEAST ALABAMA...|1108 ROSS CLARK C...|  DOTHAN|   AL|   36301|    HOUSTON|3347938701|Acute Care Hospitals|Government - Hosp...|               Yes|NULL|              3|                            NULL|         Same as the natio...|                                  NULL|              Above the nationa...|                                       NULL|           Same as the natio...|                                    NULL|                  Below the nationa...|                                           NULL|                     Same as the natio...|                                              NULL|                  Same as the natio...|                                           NULL|                                Same as the natio...|                                                         NULL|                  6.0|Overland_park|66223|\n",
            "|      10005|MARSHALL MEDICAL ...|2505 U S HIGHWAY ...|    BOAZ|   AL|   35957|   MARSHALL|2565938310|Acute Care Hospitals|Government - Hosp...|               Yes|   Y|              3|                            NULL|         Below the nationa...|                                  NULL|              Same as the natio...|                                       NULL|           Above the nationa...|                                    NULL|                  Same as the natio...|                                           NULL|                     Same as the natio...|                                              NULL|                  Above the nationa...|                                           NULL|                                Below the nationa...|                                                         NULL|                  6.0|Overland_park|66223|\n",
            "|      10006|ELIZA COFFEE MEMO...|  205 MARENGO STREET|FLORENCE|   AL|   35631| LAUDERDALE|2567688400|Acute Care Hospitals|Government - Hosp...|               Yes|   Y|              2|                            NULL|         Below the nationa...|                                  NULL|              Same as the natio...|                                       NULL|           Same as the natio...|                                    NULL|                  Below the nationa...|                                           NULL|                     Same as the natio...|                                              NULL|                  Above the nationa...|                                           NULL|                                Same as the natio...|                                                         NULL|                  4.0|Overland_park|66223|\n",
            "|      10007|MIZELL MEMORIAL H...|       702 N MAIN ST|     OPP|   AL|   36467|  COVINGTON|3344933541|Acute Care Hospitals|Voluntary non-pro...|               Yes|   Y|              2|                            NULL|         Same as the natio...|                                  NULL|                     Not Available|                       Results are not a...|           Below the nationa...|                                    NULL|                  Same as the natio...|                                           NULL|                     Below the nationa...|                                              NULL|                  Above the nationa...|                                           NULL|                                       Not Available|                                         Results are not a...|                  4.0|Overland_park|66223|\n",
            "|      10008|CRENSHAW COMMUNIT...| 101 HOSPITAL CIRCLE| LUVERNE|   AL|   36049|   CRENSHAW|3343353374|Acute Care Hospitals|         Proprietary|               Yes|   Y|              3|                            NULL|         Same as the natio...|                                  NULL|                     Not Available|                       Results are not a...|           Same as the natio...|                                    NULL|                         Not Available|                           Results are not a...|                     Same as the natio...|                                              NULL|                  Above the nationa...|                                           NULL|                                       Not Available|                                         Results are not a...|                  6.0|Overland_park|66223|\n",
            "+-----------+--------------------+--------------------+--------+-----+--------+-----------+----------+--------------------+--------------------+------------------+----+---------------+--------------------------------+-----------------------------+--------------------------------------+----------------------------------+-------------------------------------------+-------------------------------+----------------------------------------+--------------------------------------+-----------------------------------------------+-----------------------------------------+--------------------------------------------------+--------------------------------------+-----------------------------------------------+----------------------------------------------------+-------------------------------------------------------------+---------------------+-------------+-----+\n",
            "only showing top 5 rows\n",
            "\n"
          ]
        }
      ]
    },
    {
      "cell_type": "markdown",
      "source": [
        "Stop Spark Instance Created When Done"
      ],
      "metadata": {
        "id": "dUNVfMhTSHMs"
      }
    },
    {
      "cell_type": "code",
      "source": [
        "spark.stop"
      ],
      "metadata": {
        "colab": {
          "base_uri": "https://localhost:8080/"
        },
        "id": "jzhu3LbFSIkL",
        "outputId": "17e56a42-53d0-46a7-9a56-f7ce7f28a940"
      },
      "execution_count": 109,
      "outputs": [
        {
          "output_type": "execute_result",
          "data": {
            "text/plain": [
              "<bound method SparkSession.stop of <pyspark.sql.session.SparkSession object at 0x78d9ad2848b0>>"
            ]
          },
          "metadata": {},
          "execution_count": 109
        }
      ]
    }
  ]
}